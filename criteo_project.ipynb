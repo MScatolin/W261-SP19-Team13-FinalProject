{
 "cells": [
  {
   "cell_type": "markdown",
   "metadata": {},
   "source": [
    "# Final Project: Click-through Rate Prediction\n",
    "__`MIDS w261: Machine Learning at Scale | UC Berkeley School of Information | Spring 2019`__\n",
    "\n",
    "We've been provided a week’s worth of Criteo display advertising data to develop models predicting ad click-through rate (CTR). Our aim is to generate precise and accurate probabilities that a consumer will click on a given ad based on the user and the page visited.\n",
    "\n",
    "\n",
    "## About the Data:\n",
    "\n",
    "The dataset contains 2 files: train.txt and test.txt. The training dataset consists of a portion of Criteo's traffic over a period of 7 days. Each row corresponds to a display ad served by Criteo and the first column indicates whether this ad has been clicked or not. The positive (clicked) and negatives (non-clicked) examples have both been subsampled (but at different rates) in order to reduce the dataset size. The rows are chronologically ordered.\n",
    "\n",
    "There are 13 features taking integer values (mostly count features) and 26 categorical features. The values of the categorical features have been hashed onto 32 bits for anonymization purposes. The semantic of these features is undisclosed. Some features may have missing values. \n",
    "\n",
    "The test set is computed in the same way as the training set but it corresponds to events on the day following the training period. The first column (label) has been removed.\n",
    "\n",
    "\n",
    "## Rubric under Consideration:\n",
    "\n",
    "1. Question Formulation -- Introduce the goal of your analysis. What questions will you seek to answer, why do people perform this kind of analysis on this kind of data? Preview what level of performance your model would need to achieve to be practically useful.\n",
    "\n",
    "2. Algorithm Explanation -- Create your own toy example that matches the dataset provided and use this toy example to explain the math behind the algorithm that you will perform.\n",
    "\n",
    "3. EDA & Discussion of Challenges -- Determine 2-3 relevant EDA tasks that will help you make decisions about how you implement the algorithm to be scalable. Discuss any challenges that you anticipate based on the EDA you perform.\n",
    "\n",
    "4. Algorithm Implementation -- develop a ‘homegrown’ implementation of the algorithm, apply it to the training dataset and evaluate your results on the test set.\n",
    "\n",
    "5. Application of Course Concepts -- Pick 3-5 key course concepts and discuss how your work on this assignment illustrates an understanding of these concepts."
   ]
  },
  {
   "cell_type": "markdown",
   "metadata": {},
   "source": [
    "## Notebook Setup\n",
    "Before starting, run the following cells to confirm your setup."
   ]
  },
  {
   "cell_type": "code",
   "execution_count": 1,
   "metadata": {
    "collapsed": true
   },
   "outputs": [],
   "source": [
    "# imports\n",
    "import re\n",
    "import ast\n",
    "import time\n",
    "import itertools\n",
    "import numpy as np\n",
    "import pandas as pd\n",
    "import seaborn as sns\n",
    "import matplotlib.pyplot as plt"
   ]
  },
  {
   "cell_type": "code",
   "execution_count": 2,
   "metadata": {},
   "outputs": [],
   "source": [
    "%matplotlib inline\n",
    "%reload_ext autoreload\n",
    "%autoreload 2"
   ]
  },
  {
   "cell_type": "code",
   "execution_count": 3,
   "metadata": {},
   "outputs": [],
   "source": [
    "# store path to notebook\n",
    "PWD = !pwd\n",
    "PWD = PWD[0]"
   ]
  },
  {
   "cell_type": "code",
   "execution_count": 4,
   "metadata": {
    "collapsed": true
   },
   "outputs": [],
   "source": [
    "# start Spark Session\n",
    "from pyspark.sql import SparkSession\n",
    "app_name = \"final\"\n",
    "master = \"local[*]\"\n",
    "spark = SparkSession\\\n",
    "        .builder\\\n",
    "        .appName(app_name)\\\n",
    "        .master(master)\\\n",
    "        .getOrCreate()\n",
    "sc = spark.sparkContext"
   ]
  },
  {
   "cell_type": "code",
   "execution_count": 34,
   "metadata": {},
   "outputs": [],
   "source": [
    "#pyspark dependencies\n",
    "from pyspark.ml import Pipeline\n",
    "from pyspark.ml.feature import OneHotEncoderEstimator, StringIndexer, VectorAssembler\n",
    "from pyspark.sql import SQLContext, functions as f\n",
    "from pyspark.sql.types import *"
   ]
  },
  {
   "cell_type": "code",
   "execution_count": null,
   "metadata": {},
   "outputs": [],
   "source": [
    "# make a data folder, download, and unpack file\n",
    "!mkdir data\n",
    "!wget \"https://s3-eu-west-1.amazonaws.com/kaggle-display-advertising-challenge-dataset/dac.tar.gz\"\n",
    "!tar xvzf dac.tar.gz\n",
    "!mv *.txt data"
   ]
  },
  {
   "cell_type": "markdown",
   "metadata": {},
   "source": [
    "### Looking into Test Data"
   ]
  },
  {
   "cell_type": "code",
   "execution_count": 21,
   "metadata": {},
   "outputs": [],
   "source": [
    "#----per readme: when a value is missing, the field is just empty---#\n",
    "file = \"data/test.txt\"\n",
    "df = spark.read.schema(schema) \\\n",
    "    .option(\"delimiter\", \"\\t\") \\\n",
    "    .option(\"ignoreLeadingWhiteSpace\",True) \\\n",
    "    .option(\"ignoreTrailingWhiteSpace\",True) \\\n",
    "    .csv(file,nullValue = \"\")"
   ]
  },
  {
   "cell_type": "code",
   "execution_count": 11,
   "metadata": {},
   "outputs": [],
   "source": [
    "intCols = [i for i in df.columns if \"int\" in i]\n",
    "df.select(intCols).describe().write \\\n",
    "    .option(\"header\", \"true\") \\\n",
    "    .csv(\"eda/tester\")"
   ]
  },
  {
   "cell_type": "code",
   "execution_count": 17,
   "metadata": {},
   "outputs": [],
   "source": [
    "#df.columns\n",
    "\n",
    " ['intFeature1',\n",
    " 'intFeature2',\n",
    " 'intFeature3',\n",
    " 'intFeature4',\n",
    " 'intFeature5',\n",
    " 'intFeature6',\n",
    " 'intFeature7',\n",
    " 'intFeature8',\n",
    " 'intFeature9',\n",
    " 'intFeature10',\n",
    " 'intFeature11',\n",
    " 'intFeature12',\n",
    " 'intFeature13']"
   ]
  },
  {
   "cell_type": "code",
   "execution_count": 12,
   "metadata": {},
   "outputs": [],
   "source": [
    "#consolidating summary files\n",
    "import glob\n",
    "files = np.sort(glob.glob('eda/test/*.csv'))\n",
    "summary = pd.concat([pd.read_csv(f) for f in files],ignore_index = True)"
   ]
  },
  {
   "cell_type": "code",
   "execution_count": 13,
   "metadata": {},
   "outputs": [
    {
     "data": {
      "text/html": [
       "<div>\n",
       "<style scoped>\n",
       "    .dataframe tbody tr th:only-of-type {\n",
       "        vertical-align: middle;\n",
       "    }\n",
       "\n",
       "    .dataframe tbody tr th {\n",
       "        vertical-align: top;\n",
       "    }\n",
       "\n",
       "    .dataframe thead th {\n",
       "        text-align: right;\n",
       "    }\n",
       "</style>\n",
       "<table border=\"1\" class=\"dataframe\">\n",
       "  <thead>\n",
       "    <tr style=\"text-align: right;\">\n",
       "      <th></th>\n",
       "      <th>summary</th>\n",
       "      <th>intFeature1</th>\n",
       "      <th>intFeature2</th>\n",
       "      <th>intFeature3</th>\n",
       "      <th>intFeature4</th>\n",
       "      <th>intFeature5</th>\n",
       "      <th>intFeature6</th>\n",
       "      <th>intFeature7</th>\n",
       "      <th>intFeature8</th>\n",
       "      <th>intFeature9</th>\n",
       "      <th>intFeature10</th>\n",
       "      <th>intFeature11</th>\n",
       "      <th>intFeature12</th>\n",
       "      <th>intFeature13</th>\n",
       "    </tr>\n",
       "  </thead>\n",
       "  <tbody>\n",
       "    <tr>\n",
       "      <th>0</th>\n",
       "      <td>count</td>\n",
       "      <td>120196.000000</td>\n",
       "      <td>94203.000000</td>\n",
       "      <td>93704.000000</td>\n",
       "      <td>1.171580e+05</td>\n",
       "      <td>95371.000000</td>\n",
       "      <td>115213.000000</td>\n",
       "      <td>120132.000000</td>\n",
       "      <td>115213.000000</td>\n",
       "      <td>69409.000000</td>\n",
       "      <td>115213.000000</td>\n",
       "      <td>30032.000000</td>\n",
       "      <td>93704.000000</td>\n",
       "      <td>1.201960e+05</td>\n",
       "    </tr>\n",
       "    <tr>\n",
       "      <th>1</th>\n",
       "      <td>mean</td>\n",
       "      <td>107.687885</td>\n",
       "      <td>28.288080</td>\n",
       "      <td>7.315899</td>\n",
       "      <td>1.634212e+04</td>\n",
       "      <td>112.527372</td>\n",
       "      <td>18.931145</td>\n",
       "      <td>12.439258</td>\n",
       "      <td>114.531164</td>\n",
       "      <td>0.596032</td>\n",
       "      <td>3.072579</td>\n",
       "      <td>1.042088</td>\n",
       "      <td>8.105470</td>\n",
       "      <td>8.434298e+07</td>\n",
       "    </tr>\n",
       "    <tr>\n",
       "      <th>2</th>\n",
       "      <td>stddev</td>\n",
       "      <td>390.569135</td>\n",
       "      <td>437.011635</td>\n",
       "      <td>8.655582</td>\n",
       "      <td>6.281999e+04</td>\n",
       "      <td>303.423928</td>\n",
       "      <td>66.871803</td>\n",
       "      <td>13.696133</td>\n",
       "      <td>229.713966</td>\n",
       "      <td>0.689551</td>\n",
       "      <td>5.719523</td>\n",
       "      <td>8.332484</td>\n",
       "      <td>11.887921</td>\n",
       "      <td>1.464619e+07</td>\n",
       "    </tr>\n",
       "    <tr>\n",
       "      <th>3</th>\n",
       "      <td>min</td>\n",
       "      <td>-2.000000</td>\n",
       "      <td>0.000000</td>\n",
       "      <td>0.000000</td>\n",
       "      <td>0.000000e+00</td>\n",
       "      <td>0.000000</td>\n",
       "      <td>0.000000</td>\n",
       "      <td>0.000000</td>\n",
       "      <td>0.000000</td>\n",
       "      <td>0.000000</td>\n",
       "      <td>0.000000</td>\n",
       "      <td>0.000000</td>\n",
       "      <td>0.000000</td>\n",
       "      <td>5.930803e+06</td>\n",
       "    </tr>\n",
       "    <tr>\n",
       "      <th>4</th>\n",
       "      <td>max</td>\n",
       "      <td>11347.000000</td>\n",
       "      <td>36935.000000</td>\n",
       "      <td>144.000000</td>\n",
       "      <td>2.079817e+06</td>\n",
       "      <td>15211.000000</td>\n",
       "      <td>3573.000000</td>\n",
       "      <td>650.000000</td>\n",
       "      <td>8880.000000</td>\n",
       "      <td>7.000000</td>\n",
       "      <td>141.000000</td>\n",
       "      <td>1169.000000</td>\n",
       "      <td>603.000000</td>\n",
       "      <td>9.823773e+07</td>\n",
       "    </tr>\n",
       "  </tbody>\n",
       "</table>\n",
       "</div>"
      ],
      "text/plain": [
       "  summary    intFeature1   intFeature2   intFeature3   intFeature4  \\\n",
       "0   count  120196.000000  94203.000000  93704.000000  1.171580e+05   \n",
       "1    mean     107.687885     28.288080      7.315899  1.634212e+04   \n",
       "2  stddev     390.569135    437.011635      8.655582  6.281999e+04   \n",
       "3     min      -2.000000      0.000000      0.000000  0.000000e+00   \n",
       "4     max   11347.000000  36935.000000    144.000000  2.079817e+06   \n",
       "\n",
       "    intFeature5    intFeature6    intFeature7    intFeature8   intFeature9  \\\n",
       "0  95371.000000  115213.000000  120132.000000  115213.000000  69409.000000   \n",
       "1    112.527372      18.931145      12.439258     114.531164      0.596032   \n",
       "2    303.423928      66.871803      13.696133     229.713966      0.689551   \n",
       "3      0.000000       0.000000       0.000000       0.000000      0.000000   \n",
       "4  15211.000000    3573.000000     650.000000    8880.000000      7.000000   \n",
       "\n",
       "    intFeature10  intFeature11  intFeature12  intFeature13  \n",
       "0  115213.000000  30032.000000  93704.000000  1.201960e+05  \n",
       "1       3.072579      1.042088      8.105470  8.434298e+07  \n",
       "2       5.719523      8.332484     11.887921  1.464619e+07  \n",
       "3       0.000000      0.000000      0.000000  5.930803e+06  \n",
       "4     141.000000   1169.000000    603.000000  9.823773e+07  "
      ]
     },
     "execution_count": 13,
     "metadata": {},
     "output_type": "execute_result"
    }
   ],
   "source": [
    "summary"
   ]
  },
  {
   "cell_type": "code",
   "execution_count": 19,
   "metadata": {},
   "outputs": [
    {
     "data": {
      "text/html": [
       "<div>\n",
       "<style scoped>\n",
       "    .dataframe tbody tr th:only-of-type {\n",
       "        vertical-align: middle;\n",
       "    }\n",
       "\n",
       "    .dataframe tbody tr th {\n",
       "        vertical-align: top;\n",
       "    }\n",
       "\n",
       "    .dataframe thead th {\n",
       "        text-align: right;\n",
       "    }\n",
       "</style>\n",
       "<table border=\"1\" class=\"dataframe\">\n",
       "  <thead>\n",
       "    <tr style=\"text-align: right;\">\n",
       "      <th></th>\n",
       "      <th>summary</th>\n",
       "      <th>intFeature1</th>\n",
       "      <th>intFeature2</th>\n",
       "      <th>intFeature3</th>\n",
       "      <th>intFeature4</th>\n",
       "      <th>intFeature5</th>\n",
       "      <th>intFeature6</th>\n",
       "      <th>intFeature7</th>\n",
       "      <th>intFeature8</th>\n",
       "      <th>intFeature9</th>\n",
       "      <th>intFeature10</th>\n",
       "      <th>intFeature11</th>\n",
       "      <th>intFeature12</th>\n",
       "      <th>intFeature13</th>\n",
       "    </tr>\n",
       "  </thead>\n",
       "  <tbody>\n",
       "    <tr>\n",
       "      <th>0</th>\n",
       "      <td>count</td>\n",
       "      <td>2.504679e+07</td>\n",
       "      <td>4.582997e+07</td>\n",
       "      <td>3.599789e+07</td>\n",
       "      <td>3.590206e+07</td>\n",
       "      <td>4.465700e+07</td>\n",
       "      <td>3.558790e+07</td>\n",
       "      <td>4.385496e+07</td>\n",
       "      <td>4.580805e+07</td>\n",
       "      <td>4.385496e+07</td>\n",
       "      <td>2.504679e+07</td>\n",
       "      <td>4.385496e+07</td>\n",
       "      <td>1.076885e+07</td>\n",
       "      <td>3.590206e+07</td>\n",
       "    </tr>\n",
       "    <tr>\n",
       "      <th>1</th>\n",
       "      <td>mean</td>\n",
       "      <td>3.502407e+00</td>\n",
       "      <td>1.058717e+02</td>\n",
       "      <td>2.691484e+01</td>\n",
       "      <td>7.322788e+00</td>\n",
       "      <td>1.853901e+04</td>\n",
       "      <td>1.160619e+02</td>\n",
       "      <td>1.633396e+01</td>\n",
       "      <td>1.251952e+01</td>\n",
       "      <td>1.061153e+02</td>\n",
       "      <td>6.175283e-01</td>\n",
       "      <td>2.732977e+00</td>\n",
       "      <td>9.910259e-01</td>\n",
       "      <td>8.217598e+00</td>\n",
       "    </tr>\n",
       "    <tr>\n",
       "      <th>2</th>\n",
       "      <td>stddev</td>\n",
       "      <td>9.429087e+00</td>\n",
       "      <td>3.914979e+02</td>\n",
       "      <td>3.979877e+02</td>\n",
       "      <td>8.793271e+00</td>\n",
       "      <td>6.939451e+04</td>\n",
       "      <td>3.825674e+02</td>\n",
       "      <td>6.605146e+01</td>\n",
       "      <td>1.668970e+01</td>\n",
       "      <td>2.202880e+02</td>\n",
       "      <td>6.840501e-01</td>\n",
       "      <td>5.199166e+00</td>\n",
       "      <td>5.597665e+00</td>\n",
       "      <td>1.621213e+01</td>\n",
       "    </tr>\n",
       "    <tr>\n",
       "      <th>3</th>\n",
       "      <td>min</td>\n",
       "      <td>0.000000e+00</td>\n",
       "      <td>-3.000000e+00</td>\n",
       "      <td>0.000000e+00</td>\n",
       "      <td>0.000000e+00</td>\n",
       "      <td>0.000000e+00</td>\n",
       "      <td>0.000000e+00</td>\n",
       "      <td>0.000000e+00</td>\n",
       "      <td>0.000000e+00</td>\n",
       "      <td>0.000000e+00</td>\n",
       "      <td>0.000000e+00</td>\n",
       "      <td>0.000000e+00</td>\n",
       "      <td>0.000000e+00</td>\n",
       "      <td>0.000000e+00</td>\n",
       "    </tr>\n",
       "    <tr>\n",
       "      <th>4</th>\n",
       "      <td>max</td>\n",
       "      <td>5.775000e+03</td>\n",
       "      <td>2.576750e+05</td>\n",
       "      <td>6.553500e+04</td>\n",
       "      <td>9.690000e+02</td>\n",
       "      <td>2.315946e+07</td>\n",
       "      <td>4.310370e+05</td>\n",
       "      <td>5.631100e+04</td>\n",
       "      <td>6.047000e+03</td>\n",
       "      <td>2.901900e+04</td>\n",
       "      <td>1.100000e+01</td>\n",
       "      <td>2.310000e+02</td>\n",
       "      <td>4.008000e+03</td>\n",
       "      <td>7.393000e+03</td>\n",
       "    </tr>\n",
       "  </tbody>\n",
       "</table>\n",
       "</div>"
      ],
      "text/plain": [
       "  summary   intFeature1   intFeature2   intFeature3   intFeature4  \\\n",
       "0   count  2.504679e+07  4.582997e+07  3.599789e+07  3.590206e+07   \n",
       "1    mean  3.502407e+00  1.058717e+02  2.691484e+01  7.322788e+00   \n",
       "2  stddev  9.429087e+00  3.914979e+02  3.979877e+02  8.793271e+00   \n",
       "3     min  0.000000e+00 -3.000000e+00  0.000000e+00  0.000000e+00   \n",
       "4     max  5.775000e+03  2.576750e+05  6.553500e+04  9.690000e+02   \n",
       "\n",
       "    intFeature5   intFeature6   intFeature7   intFeature8   intFeature9  \\\n",
       "0  4.465700e+07  3.558790e+07  4.385496e+07  4.580805e+07  4.385496e+07   \n",
       "1  1.853901e+04  1.160619e+02  1.633396e+01  1.251952e+01  1.061153e+02   \n",
       "2  6.939451e+04  3.825674e+02  6.605146e+01  1.668970e+01  2.202880e+02   \n",
       "3  0.000000e+00  0.000000e+00  0.000000e+00  0.000000e+00  0.000000e+00   \n",
       "4  2.315946e+07  4.310370e+05  5.631100e+04  6.047000e+03  2.901900e+04   \n",
       "\n",
       "   intFeature10  intFeature11  intFeature12  intFeature13  \n",
       "0  2.504679e+07  4.385496e+07  1.076885e+07  3.590206e+07  \n",
       "1  6.175283e-01  2.732977e+00  9.910259e-01  8.217598e+00  \n",
       "2  6.840501e-01  5.199166e+00  5.597665e+00  1.621213e+01  \n",
       "3  0.000000e+00  0.000000e+00  0.000000e+00  0.000000e+00  \n",
       "4  1.100000e+01  2.310000e+02  4.008000e+03  7.393000e+03  "
      ]
     },
     "execution_count": 19,
     "metadata": {},
     "output_type": "execute_result"
    }
   ],
   "source": [
    "#consolidating summary files\n",
    "import glob\n",
    "files = np.sort(glob.glob('data/Deduped_initSummary.csv/*.csv'))\n",
    "train_summary = pd.concat([pd.read_csv(f) for f in files],ignore_index = True)\n",
    "train_summary[ ['summary','intFeature1',\n",
    " 'intFeature2',\n",
    " 'intFeature3',\n",
    " 'intFeature4',\n",
    " 'intFeature5',\n",
    " 'intFeature6',\n",
    " 'intFeature7',\n",
    " 'intFeature8',\n",
    " 'intFeature9',\n",
    " 'intFeature10',\n",
    " 'intFeature11',\n",
    " 'intFeature12',\n",
    " 'intFeature13']]"
   ]
  },
  {
   "cell_type": "markdown",
   "metadata": {},
   "source": [
    "### Reading and Processing Data"
   ]
  },
  {
   "cell_type": "code",
   "execution_count": 20,
   "metadata": {},
   "outputs": [],
   "source": [
    "#set dataframe schema\n",
    "#--- To avoid going through the entire data once, disable inferSchema option or specify the schema explicitly using schema\n",
    "\n",
    "# 13 features taking integer values and 26 taking categorical values (we can't assume ordinal) - making total of 39 features + 1 outcome\n",
    "#outcomeField = [StructField(\"label\", IntegerType(), True)]\n",
    "#outcomeField +\n",
    "quantFields = [StructField(\"intFeature\"+str(i+1), IntegerType(), True) for i in np.arange(13)]\n",
    "qualFields = [StructField(\"catFeature\"+str(i+1), StringType(), True) for i in np.arange(26)]\n",
    "schema = StructType(quantFields + qualFields)"
   ]
  },
  {
   "cell_type": "code",
   "execution_count": 167,
   "metadata": {},
   "outputs": [],
   "source": [
    "#read in the txt file\n",
    "#----per readme: when a value is missing, the field is just empty---#\n",
    "file = \"data/train.txt\"\n",
    "df = spark.read.schema(schema) \\\n",
    "    .option(\"delimiter\", \"\\t\") \\\n",
    "    .option(\"ignoreLeadingWhiteSpace\",True) \\\n",
    "    .option(\"ignoreTrailingWhiteSpace\",True) \\\n",
    "    .csv(file,nullValue = \"\")"
   ]
  },
  {
   "cell_type": "code",
   "execution_count": 8,
   "metadata": {},
   "outputs": [
    {
     "name": "stdout",
     "output_type": "stream",
     "text": [
      "+-----+-----------+-----------+-----------+-----------+-----------+-----------+-----------+-----------+-----------+------------+------------+------------+------------+-----------+-----------+-----------+-----------+-----------+-----------+-----------+-----------+-----------+------------+------------+------------+------------+------------+------------+------------+------------+------------+------------+------------+------------+------------+------------+------------+------------+------------+\n",
      "|label|intFeature1|intFeature2|intFeature3|intFeature4|intFeature5|intFeature6|intFeature7|intFeature8|intFeature9|intFeature10|intFeature11|intFeature12|intFeature13|catFeature1|catFeature2|catFeature3|catFeature4|catFeature5|catFeature6|catFeature7|catFeature8|catFeature9|catFeature10|catFeature11|catFeature12|catFeature13|catFeature14|catFeature15|catFeature16|catFeature17|catFeature18|catFeature19|catFeature20|catFeature21|catFeature22|catFeature23|catFeature24|catFeature25|catFeature26|\n",
      "+-----+-----------+-----------+-----------+-----------+-----------+-----------+-----------+-----------+-----------+------------+------------+------------+------------+-----------+-----------+-----------+-----------+-----------+-----------+-----------+-----------+-----------+------------+------------+------------+------------+------------+------------+------------+------------+------------+------------+------------+------------+------------+------------+------------+------------+------------+\n",
      "|    0|          1|          1|          5|          0|       1382|          4|         15|          2|        181|           1|           2|        null|           2|   68fd1e64|   80e26c9b|   fb936136|   7b4723c4|   25c83c98|   7e0ccccf|   de7995b8|   1f89b562|   a73ee510|    a8cd5504|    b2cb9c98|    37c9c164|    2824a5f6|    1adce6ef|    8ba8b39a|    891b62e7|    e5ba7672|    f54016b9|    21ddcdc9|    b1252a9d|    07b5194c|        null|    3a171ecb|    c5c50484|    e8b83407|    9727dd16|\n",
      "|    0|          2|          0|         44|          1|        102|          8|          2|          2|          4|           1|           1|        null|           4|   68fd1e64|   f0cf0024|   6f67f7e5|   41274cd7|   25c83c98|   fe6b92e5|   922afcc0|   0b153874|   a73ee510|    2b53e5fb|    4f1b46f3|    623049e6|    d7020589|    b28479f6|    e6c5b5cd|    c92f3b61|    07c540c4|    b04e4670|    21ddcdc9|    5840adea|    60f6221e|        null|    3a171ecb|    43f13e8b|    e8b83407|    731c3655|\n",
      "|    0|          2|          0|          1|         14|        767|         89|          4|          2|        245|           1|           3|           3|          45|   287e684f|   0a519c5c|   02cf9876|   c18be181|   25c83c98|   7e0ccccf|   c78204a1|   0b153874|   a73ee510|    3b08e48b|    5f5e6091|    8fe001f4|    aa655a2f|    07d13a8f|    6dc710ed|    36103458|    8efede7f|    3412118d|        null|        null|    e587c466|    ad3062eb|    3a171ecb|    3b183c5c|        null|        null|\n",
      "|    0|       null|        893|       null|       null|       4392|       null|          0|          0|          0|        null|           0|        null|        null|   68fd1e64|   2c16a946|   a9a87e68|   2e17d6f6|   25c83c98|   fe6b92e5|   2e8a689b|   0b153874|   a73ee510|    efea433b|    e51ddf94|    a30567ca|    3516f6e6|    07d13a8f|    18231224|    52b8680f|    1e88c74f|    74ef3502|        null|        null|    6b3a5ca6|        null|    3a171ecb|    9117a34a|        null|        null|\n",
      "|    0|          3|         -1|       null|          0|          2|          0|          3|          0|          0|           1|           1|        null|           0|   8cf07265|   ae46a29d|   c81688bb|   f922efad|   25c83c98|   13718bbd|   ad9fa255|   0b153874|   a73ee510|    5282c137|    e5d8af57|    66a76a26|    f06c53ac|    1adce6ef|    8ff4b403|    01adbab4|    1e88c74f|    26b3c7a7|        null|        null|    21c9516a|        null|    32c7478e|    b34f3128|        null|        null|\n",
      "+-----+-----------+-----------+-----------+-----------+-----------+-----------+-----------+-----------+-----------+------------+------------+------------+------------+-----------+-----------+-----------+-----------+-----------+-----------+-----------+-----------+-----------+------------+------------+------------+------------+------------+------------+------------+------------+------------+------------+------------+------------+------------+------------+------------+------------+------------+\n",
      "only showing top 5 rows\n",
      "\n"
     ]
    }
   ],
   "source": [
    "df.show(5)"
   ]
  },
  {
   "cell_type": "code",
   "execution_count": 19,
   "metadata": {},
   "outputs": [
    {
     "data": {
      "text/plain": [
       "45840617"
      ]
     },
     "execution_count": 19,
     "metadata": {},
     "output_type": "execute_result"
    }
   ],
   "source": [
    "#total number of rows in the dataset\n",
    "df.count()"
   ]
  },
  {
   "cell_type": "code",
   "execution_count": 171,
   "metadata": {},
   "outputs": [],
   "source": [
    "#checking for duplicate entries\n",
    "dedupedDF = df.dropDuplicates()"
   ]
  },
  {
   "cell_type": "code",
   "execution_count": 25,
   "metadata": {},
   "outputs": [
    {
     "data": {
      "text/plain": [
       "45829966"
      ]
     },
     "execution_count": 25,
     "metadata": {},
     "output_type": "execute_result"
    }
   ],
   "source": [
    "dedupedDF.count()"
   ]
  },
  {
   "cell_type": "code",
   "execution_count": 28,
   "metadata": {},
   "outputs": [
    {
     "name": "stdout",
     "output_type": "stream",
     "text": [
      "10651 duplicates removed from dataset\n"
     ]
    }
   ],
   "source": [
    "print(str(45840617-45829966)+\" duplicates removed from dataset\")"
   ]
  },
  {
   "cell_type": "code",
   "execution_count": 172,
   "metadata": {},
   "outputs": [],
   "source": [
    "#remove all rows that have missing values for each feature\n",
    "deduped_NAdropped_DF = dedupedDF.dropna(how='all')"
   ]
  },
  {
   "cell_type": "code",
   "execution_count": 11,
   "metadata": {},
   "outputs": [
    {
     "data": {
      "text/plain": [
       "45829966"
      ]
     },
     "execution_count": 11,
     "metadata": {},
     "output_type": "execute_result"
    }
   ],
   "source": [
    "deduped_NAdropped_DF.count()"
   ]
  },
  {
   "cell_type": "code",
   "execution_count": 175,
   "metadata": {},
   "outputs": [],
   "source": [
    "#check num of rows missing 3/4 or more of total features values\n",
    "deduped_NAdropped_thresh = deduped_NAdropped_DF.dropna(thresh=30)"
   ]
  },
  {
   "cell_type": "code",
   "execution_count": 176,
   "metadata": {},
   "outputs": [
    {
     "data": {
      "text/plain": [
       "41879511"
      ]
     },
     "execution_count": 176,
     "metadata": {},
     "output_type": "execute_result"
    }
   ],
   "source": [
    "deduped_NAdropped_thresh.count()"
   ]
  },
  {
   "cell_type": "code",
   "execution_count": 12,
   "metadata": {},
   "outputs": [
    {
     "name": "stdout",
     "output_type": "stream",
     "text": [
      "0 rows had all of their data marked as null\n"
     ]
    }
   ],
   "source": [
    "print(str(45829966-45829966)+\" rows had all of their data marked as null\")"
   ]
  },
  {
   "cell_type": "code",
   "execution_count": 177,
   "metadata": {},
   "outputs": [
    {
     "name": "stdout",
     "output_type": "stream",
     "text": [
      "3950455 rows had 3/4 of their data marked as null\n"
     ]
    }
   ],
   "source": [
    "print(str(45829966-41879511)+\" rows had 3/4 of their data marked as null\")"
   ]
  },
  {
   "cell_type": "code",
   "execution_count": 30,
   "metadata": {},
   "outputs": [],
   "source": [
    "#quick summary of the data\n",
    "dfSummary = dedupedDF.describe()\n",
    "\n",
    "dfSummary.write \\\n",
    "    .option(\"header\", \"true\") \\\n",
    "    .csv(\"data/Deduped_initSummary.csv\")"
   ]
  },
  {
   "cell_type": "code",
   "execution_count": 110,
   "metadata": {},
   "outputs": [],
   "source": [
    "#consolidating summary files\n",
    "import glob\n",
    "files = np.sort(glob.glob('data/Deduped_initSummary.csv/*.csv'))\n",
    "summary = pd.concat([pd.read_csv(f) for f in files],ignore_index = True)"
   ]
  },
  {
   "cell_type": "code",
   "execution_count": 111,
   "metadata": {},
   "outputs": [
    {
     "data": {
      "text/plain": [
       "intFeature12    0.234974\n",
       "catFeature22    0.237488\n",
       "intFeature1     0.546516\n",
       "intFeature10    0.546516\n",
       "catFeature19    0.560051\n",
       "catFeature20    0.560051\n",
       "catFeature25    0.560051\n",
       "catFeature26    0.560051\n",
       "intFeature6     0.776520\n",
       "intFeature4     0.783375\n",
       "intFeature13    0.783375\n",
       "intFeature3     0.785466\n",
       "catFeature6     0.879118\n",
       "Name: 0, dtype: float64"
      ]
     },
     "execution_count": 111,
     "metadata": {},
     "output_type": "execute_result"
    }
   ],
   "source": [
    "#let's get a sense of data completeness\n",
    "'''the 1st row from the summary table is count (excludes nulls), \n",
    "so we can divide that by the total rows for feature completeness'''\n",
    "perc_complete = summary.iloc[0][1:].apply(lambda x: x/nrows)\n",
    "#features with more than 10% of their values missing\n",
    "perc_complete[perc_complete<.9].sort_values()"
   ]
  },
  {
   "cell_type": "code",
   "execution_count": 109,
   "metadata": {},
   "outputs": [
    {
     "data": {
      "text/html": [
       "<div>\n",
       "<style scoped>\n",
       "    .dataframe tbody tr th:only-of-type {\n",
       "        vertical-align: middle;\n",
       "    }\n",
       "\n",
       "    .dataframe tbody tr th {\n",
       "        vertical-align: top;\n",
       "    }\n",
       "\n",
       "    .dataframe thead th {\n",
       "        text-align: right;\n",
       "    }\n",
       "</style>\n",
       "<table border=\"1\" class=\"dataframe\">\n",
       "  <thead>\n",
       "    <tr style=\"text-align: right;\">\n",
       "      <th></th>\n",
       "      <th>summary</th>\n",
       "      <th>label</th>\n",
       "      <th>intFeature1</th>\n",
       "      <th>intFeature2</th>\n",
       "      <th>intFeature3</th>\n",
       "      <th>intFeature4</th>\n",
       "      <th>intFeature5</th>\n",
       "      <th>intFeature6</th>\n",
       "      <th>intFeature7</th>\n",
       "      <th>intFeature8</th>\n",
       "      <th>intFeature9</th>\n",
       "      <th>intFeature10</th>\n",
       "      <th>intFeature11</th>\n",
       "      <th>intFeature12</th>\n",
       "      <th>intFeature13</th>\n",
       "    </tr>\n",
       "  </thead>\n",
       "  <tbody>\n",
       "    <tr>\n",
       "      <th>0</th>\n",
       "      <td>count</td>\n",
       "      <td>45829966.00</td>\n",
       "      <td>25046791.00</td>\n",
       "      <td>45829966.00</td>\n",
       "      <td>35997892.00</td>\n",
       "      <td>35902063.00</td>\n",
       "      <td>44657003.00</td>\n",
       "      <td>35587905.00</td>\n",
       "      <td>43854960.00</td>\n",
       "      <td>45808048.00</td>\n",
       "      <td>43854960.00</td>\n",
       "      <td>25046791.00</td>\n",
       "      <td>43854960.00</td>\n",
       "      <td>10768852.00</td>\n",
       "      <td>35902063.00</td>\n",
       "    </tr>\n",
       "    <tr>\n",
       "      <th>1</th>\n",
       "      <td>mean</td>\n",
       "      <td>0.26</td>\n",
       "      <td>3.50</td>\n",
       "      <td>105.87</td>\n",
       "      <td>26.91</td>\n",
       "      <td>7.32</td>\n",
       "      <td>18539.01</td>\n",
       "      <td>116.06</td>\n",
       "      <td>16.33</td>\n",
       "      <td>12.52</td>\n",
       "      <td>106.12</td>\n",
       "      <td>0.62</td>\n",
       "      <td>2.73</td>\n",
       "      <td>0.99</td>\n",
       "      <td>8.22</td>\n",
       "    </tr>\n",
       "    <tr>\n",
       "      <th>2</th>\n",
       "      <td>stddev</td>\n",
       "      <td>0.44</td>\n",
       "      <td>9.43</td>\n",
       "      <td>391.50</td>\n",
       "      <td>397.99</td>\n",
       "      <td>8.79</td>\n",
       "      <td>69394.51</td>\n",
       "      <td>382.57</td>\n",
       "      <td>66.05</td>\n",
       "      <td>16.69</td>\n",
       "      <td>220.29</td>\n",
       "      <td>0.68</td>\n",
       "      <td>5.20</td>\n",
       "      <td>5.60</td>\n",
       "      <td>16.21</td>\n",
       "    </tr>\n",
       "    <tr>\n",
       "      <th>3</th>\n",
       "      <td>min</td>\n",
       "      <td>0.00</td>\n",
       "      <td>0.00</td>\n",
       "      <td>-3.00</td>\n",
       "      <td>0.00</td>\n",
       "      <td>0.00</td>\n",
       "      <td>0.00</td>\n",
       "      <td>0.00</td>\n",
       "      <td>0.00</td>\n",
       "      <td>0.00</td>\n",
       "      <td>0.00</td>\n",
       "      <td>0.00</td>\n",
       "      <td>0.00</td>\n",
       "      <td>0.00</td>\n",
       "      <td>0.00</td>\n",
       "    </tr>\n",
       "    <tr>\n",
       "      <th>4</th>\n",
       "      <td>max</td>\n",
       "      <td>1.00</td>\n",
       "      <td>5775.00</td>\n",
       "      <td>257675.00</td>\n",
       "      <td>65535.00</td>\n",
       "      <td>969.00</td>\n",
       "      <td>23159456.00</td>\n",
       "      <td>431037.00</td>\n",
       "      <td>56311.00</td>\n",
       "      <td>6047.00</td>\n",
       "      <td>29019.00</td>\n",
       "      <td>11.00</td>\n",
       "      <td>231.00</td>\n",
       "      <td>4008.00</td>\n",
       "      <td>7393.00</td>\n",
       "    </tr>\n",
       "  </tbody>\n",
       "</table>\n",
       "</div>"
      ],
      "text/plain": [
       "  summary        label  intFeature1  intFeature2  intFeature3  intFeature4  \\\n",
       "0   count  45829966.00  25046791.00  45829966.00  35997892.00  35902063.00   \n",
       "1    mean         0.26         3.50       105.87        26.91         7.32   \n",
       "2  stddev         0.44         9.43       391.50       397.99         8.79   \n",
       "3     min         0.00         0.00        -3.00         0.00         0.00   \n",
       "4     max         1.00      5775.00    257675.00     65535.00       969.00   \n",
       "\n",
       "   intFeature5  intFeature6  intFeature7  intFeature8  intFeature9  \\\n",
       "0  44657003.00  35587905.00  43854960.00  45808048.00  43854960.00   \n",
       "1     18539.01       116.06        16.33        12.52       106.12   \n",
       "2     69394.51       382.57        66.05        16.69       220.29   \n",
       "3         0.00         0.00         0.00         0.00         0.00   \n",
       "4  23159456.00    431037.00     56311.00      6047.00     29019.00   \n",
       "\n",
       "   intFeature10  intFeature11  intFeature12  intFeature13  \n",
       "0   25046791.00   43854960.00   10768852.00   35902063.00  \n",
       "1          0.62          2.73          0.99          8.22  \n",
       "2          0.68          5.20          5.60         16.21  \n",
       "3          0.00          0.00          0.00          0.00  \n",
       "4         11.00        231.00       4008.00       7393.00  "
      ]
     },
     "execution_count": 109,
     "metadata": {},
     "output_type": "execute_result"
    }
   ],
   "source": [
    "#summary of our integer variables\n",
    "'''integer features are 1st 15 coumns in dataset'''\n",
    "summary[summary.columns[0:15]].round(decimals = 2)"
   ]
  },
  {
   "cell_type": "markdown",
   "metadata": {},
   "source": [
    "~ 1/5 of our features are missing close to half or more values"
   ]
  },
  {
   "cell_type": "markdown",
   "metadata": {},
   "source": [
    "Initial Observations of Quantitative Features:\n",
    "\n",
    "* The ranges vary substantially across the integer features so we'll need to normalize these features to scale\n",
    "* Major variances between the max values and the mean values are suggestive of outliers and/or features with skewed distributions\n",
    "* intFeature2 has at least one negative value which seems erroneous"
   ]
  },
  {
   "cell_type": "markdown",
   "metadata": {},
   "source": [
    "### EDA of our Quant Features\n",
    "\n",
    "* will need to take a sample - discuss sample size decision (at least 50 observations per subset in categorical features???"
   ]
  },
  {
   "cell_type": "code",
   "execution_count": 37,
   "metadata": {},
   "outputs": [],
   "source": [
    "#create separate directory for EDA files\n",
    "!mkdir eda"
   ]
  },
  {
   "cell_type": "code",
   "execution_count": 20,
   "metadata": {},
   "outputs": [],
   "source": [
    "#approximate count of unique values per feature\n",
    "from pyspark.sql.functions import col, approx_count_distinct\n",
    "\n",
    "uniqueVals = deduped_NAdropped_DF \\\n",
    "                .agg(*(approx_count_distinct(col(c)).alias(c) for c in deduped_NAdropped_DF.columns)) \\\n",
    "                .collect()\n"
   ]
  },
  {
   "cell_type": "markdown",
   "metadata": {},
   "source": [
    "[See reference for counting unique values in each column of a Pyspark Dataframe](https://stackoverflow.com/questions/40888946/spark-dataframe-count-distinct-values-of-every-column)"
   ]
  },
  {
   "cell_type": "code",
   "execution_count": 62,
   "metadata": {},
   "outputs": [],
   "source": [
    "#converting to pandas dataframe for familiarity\n",
    "uniqueCounts = pd.DataFrame(uniqueVals,columns = deduped_NAdropped_DF.columns) \\\n",
    "                .transpose() \\\n",
    "                .reset_index() \\\n",
    "                .sort_values(by = 0, ascending = False)\n",
    "\n",
    "\n",
    "#write to eda directory for later use\n",
    "fpath = \"eda/featureCounts_unique.csv\"\n",
    "uniqueCounts.to_csv(fpath, header = [\"Feature Name\",\"Approximate Unique Values\"], index = False)"
   ]
  },
  {
   "cell_type": "code",
   "execution_count": 64,
   "metadata": {},
   "outputs": [],
   "source": [
    "#take a subset of the (deduped) training data for EDA - 5% in this case - and write to file for later use\n",
    "trainSample = deduped_NAdropped_DF.sample(False, 0.05, 123)\n",
    "\n",
    "trainSample.write \\\n",
    "    .option(\"header\", \"true\") \\\n",
    "    .csv(\"eda/trainSample\")"
   ]
  },
  {
   "cell_type": "code",
   "execution_count": 48,
   "metadata": {},
   "outputs": [],
   "source": [
    "#load the trainSample into memory with a pandas dataframe\n",
    "import glob\n",
    "files = np.sort(glob.glob('eda/trainSample/*.csv'))\n",
    "trainSample = pd.concat([pd.read_csv(f) for f in files],ignore_index = True)"
   ]
  },
  {
   "cell_type": "code",
   "execution_count": 132,
   "metadata": {},
   "outputs": [
    {
     "data": {
      "text/html": [
       "<div>\n",
       "<style scoped>\n",
       "    .dataframe tbody tr th:only-of-type {\n",
       "        vertical-align: middle;\n",
       "    }\n",
       "\n",
       "    .dataframe tbody tr th {\n",
       "        vertical-align: top;\n",
       "    }\n",
       "\n",
       "    .dataframe thead th {\n",
       "        text-align: right;\n",
       "    }\n",
       "</style>\n",
       "<table border=\"1\" class=\"dataframe\">\n",
       "  <thead>\n",
       "    <tr style=\"text-align: right;\">\n",
       "      <th></th>\n",
       "      <th>label</th>\n",
       "      <th>intFeature1</th>\n",
       "      <th>intFeature2</th>\n",
       "      <th>intFeature3</th>\n",
       "      <th>intFeature4</th>\n",
       "      <th>intFeature5</th>\n",
       "      <th>intFeature6</th>\n",
       "      <th>intFeature7</th>\n",
       "      <th>intFeature8</th>\n",
       "      <th>intFeature9</th>\n",
       "      <th>...</th>\n",
       "      <th>catFeature17</th>\n",
       "      <th>catFeature18</th>\n",
       "      <th>catFeature19</th>\n",
       "      <th>catFeature20</th>\n",
       "      <th>catFeature21</th>\n",
       "      <th>catFeature22</th>\n",
       "      <th>catFeature23</th>\n",
       "      <th>catFeature24</th>\n",
       "      <th>catFeature25</th>\n",
       "      <th>catFeature26</th>\n",
       "    </tr>\n",
       "  </thead>\n",
       "  <tbody>\n",
       "    <tr>\n",
       "      <th>0</th>\n",
       "      <td>0</td>\n",
       "      <td>NaN</td>\n",
       "      <td>-2</td>\n",
       "      <td>31.0</td>\n",
       "      <td>4.0</td>\n",
       "      <td>33060.0</td>\n",
       "      <td>NaN</td>\n",
       "      <td>0.0</td>\n",
       "      <td>3.0</td>\n",
       "      <td>4.0</td>\n",
       "      <td>...</td>\n",
       "      <td>1e88c74f</td>\n",
       "      <td>9880032b</td>\n",
       "      <td>21ddcdc9</td>\n",
       "      <td>5840adea</td>\n",
       "      <td>baf3777b</td>\n",
       "      <td>NaN</td>\n",
       "      <td>32c7478e</td>\n",
       "      <td>5f13bb00</td>\n",
       "      <td>fd2fe0bd</td>\n",
       "      <td>aa5f0a15</td>\n",
       "    </tr>\n",
       "    <tr>\n",
       "      <th>1</th>\n",
       "      <td>1</td>\n",
       "      <td>NaN</td>\n",
       "      <td>-2</td>\n",
       "      <td>1.0</td>\n",
       "      <td>NaN</td>\n",
       "      <td>6576.0</td>\n",
       "      <td>3.0</td>\n",
       "      <td>6.0</td>\n",
       "      <td>0.0</td>\n",
       "      <td>76.0</td>\n",
       "      <td>...</td>\n",
       "      <td>e5ba7672</td>\n",
       "      <td>47e4d79e</td>\n",
       "      <td>21ddcdc9</td>\n",
       "      <td>a458ea53</td>\n",
       "      <td>f93c1581</td>\n",
       "      <td>NaN</td>\n",
       "      <td>32c7478e</td>\n",
       "      <td>a9d771cd</td>\n",
       "      <td>c9f3bea7</td>\n",
       "      <td>0a47000d</td>\n",
       "    </tr>\n",
       "    <tr>\n",
       "      <th>2</th>\n",
       "      <td>1</td>\n",
       "      <td>0.0</td>\n",
       "      <td>-2</td>\n",
       "      <td>4.0</td>\n",
       "      <td>2.0</td>\n",
       "      <td>2921.0</td>\n",
       "      <td>52.0</td>\n",
       "      <td>25.0</td>\n",
       "      <td>16.0</td>\n",
       "      <td>146.0</td>\n",
       "      <td>...</td>\n",
       "      <td>e5ba7672</td>\n",
       "      <td>3cb7e3f0</td>\n",
       "      <td>21ddcdc9</td>\n",
       "      <td>b1252a9d</td>\n",
       "      <td>59a15e58</td>\n",
       "      <td>NaN</td>\n",
       "      <td>93bad2c0</td>\n",
       "      <td>8d653a3e</td>\n",
       "      <td>445bbe3b</td>\n",
       "      <td>8e1ae331</td>\n",
       "    </tr>\n",
       "    <tr>\n",
       "      <th>3</th>\n",
       "      <td>0</td>\n",
       "      <td>0.0</td>\n",
       "      <td>-2</td>\n",
       "      <td>13.0</td>\n",
       "      <td>12.0</td>\n",
       "      <td>3271.0</td>\n",
       "      <td>59.0</td>\n",
       "      <td>7.0</td>\n",
       "      <td>20.0</td>\n",
       "      <td>89.0</td>\n",
       "      <td>...</td>\n",
       "      <td>27c07bd6</td>\n",
       "      <td>a78bd508</td>\n",
       "      <td>21ddcdc9</td>\n",
       "      <td>5840adea</td>\n",
       "      <td>c2a93b37</td>\n",
       "      <td>ad3062eb</td>\n",
       "      <td>32c7478e</td>\n",
       "      <td>1793a828</td>\n",
       "      <td>e8b83407</td>\n",
       "      <td>2fede552</td>\n",
       "    </tr>\n",
       "    <tr>\n",
       "      <th>4</th>\n",
       "      <td>0</td>\n",
       "      <td>0.0</td>\n",
       "      <td>-2</td>\n",
       "      <td>3.0</td>\n",
       "      <td>44.0</td>\n",
       "      <td>1897.0</td>\n",
       "      <td>199.0</td>\n",
       "      <td>3.0</td>\n",
       "      <td>43.0</td>\n",
       "      <td>147.0</td>\n",
       "      <td>...</td>\n",
       "      <td>07c540c4</td>\n",
       "      <td>e7e991cb</td>\n",
       "      <td>68c36492</td>\n",
       "      <td>a458ea53</td>\n",
       "      <td>c39d0f12</td>\n",
       "      <td>NaN</td>\n",
       "      <td>3a171ecb</td>\n",
       "      <td>abec2c22</td>\n",
       "      <td>fd2fe0bd</td>\n",
       "      <td>22538d57</td>\n",
       "    </tr>\n",
       "  </tbody>\n",
       "</table>\n",
       "<p>5 rows × 40 columns</p>\n",
       "</div>"
      ],
      "text/plain": [
       "   label  intFeature1  intFeature2  intFeature3  intFeature4  intFeature5  \\\n",
       "0      0          NaN           -2         31.0          4.0      33060.0   \n",
       "1      1          NaN           -2          1.0          NaN       6576.0   \n",
       "2      1          0.0           -2          4.0          2.0       2921.0   \n",
       "3      0          0.0           -2         13.0         12.0       3271.0   \n",
       "4      0          0.0           -2          3.0         44.0       1897.0   \n",
       "\n",
       "   intFeature6  intFeature7  intFeature8  intFeature9     ...       \\\n",
       "0          NaN          0.0          3.0          4.0     ...        \n",
       "1          3.0          6.0          0.0         76.0     ...        \n",
       "2         52.0         25.0         16.0        146.0     ...        \n",
       "3         59.0          7.0         20.0         89.0     ...        \n",
       "4        199.0          3.0         43.0        147.0     ...        \n",
       "\n",
       "   catFeature17  catFeature18  catFeature19  catFeature20 catFeature21  \\\n",
       "0      1e88c74f      9880032b      21ddcdc9      5840adea     baf3777b   \n",
       "1      e5ba7672      47e4d79e      21ddcdc9      a458ea53     f93c1581   \n",
       "2      e5ba7672      3cb7e3f0      21ddcdc9      b1252a9d     59a15e58   \n",
       "3      27c07bd6      a78bd508      21ddcdc9      5840adea     c2a93b37   \n",
       "4      07c540c4      e7e991cb      68c36492      a458ea53     c39d0f12   \n",
       "\n",
       "  catFeature22 catFeature23 catFeature24 catFeature25 catFeature26  \n",
       "0          NaN     32c7478e     5f13bb00     fd2fe0bd     aa5f0a15  \n",
       "1          NaN     32c7478e     a9d771cd     c9f3bea7     0a47000d  \n",
       "2          NaN     93bad2c0     8d653a3e     445bbe3b     8e1ae331  \n",
       "3     ad3062eb     32c7478e     1793a828     e8b83407     2fede552  \n",
       "4          NaN     3a171ecb     abec2c22     fd2fe0bd     22538d57  \n",
       "\n",
       "[5 rows x 40 columns]"
      ]
     },
     "execution_count": 132,
     "metadata": {},
     "output_type": "execute_result"
    }
   ],
   "source": [
    "trainSample.head()"
   ]
  },
  {
   "cell_type": "code",
   "execution_count": 49,
   "metadata": {},
   "outputs": [
    {
     "data": {
      "image/png": "[encoded data removed]",
      "text/plain": [
       "<Figure size 1008x1008 with 16 Axes>"
      ]
     },
     "metadata": {
      "needs_background": "light"
     },
     "output_type": "display_data"
    }
   ],
   "source": [
    "# take a look at histograms for each integer feature\n",
    "intFeatures = trainSample.columns[1:14]\n",
    "trainSample[intFeatures].hist(figsize=(14,14), bins=100)\n",
    "plt.show()"
   ]
  },
  {
   "cell_type": "markdown",
   "metadata": {},
   "source": [
    "we can see that our variables are heavily positive (right) skewed toward smaller integer values. We may be able to approximate normal distributions via log transformations. If we can demonstate approximate normal distributions among our variables, we can apply inferences from the logistic regression model. The logistic regression model assumes that the log-odds of an observation y can be expressed as a linear function of the input variables x."
   ]
  },
  {
   "cell_type": "code",
   "execution_count": 50,
   "metadata": {},
   "outputs": [
    {
     "data": {
      "text/plain": [
       "236565"
      ]
     },
     "execution_count": 50,
     "metadata": {},
     "output_type": "execute_result"
    }
   ],
   "source": [
    "#checking how many negative values intFeature2 has\n",
    "f2 = trainSample['intFeature2']\n",
    "len(f2[f2<0])"
   ]
  },
  {
   "cell_type": "markdown",
   "metadata": {},
   "source": [
    "the number of negative entries, 236,565, in intFeature2 make up ~0.5% of all entries so it may be reasonable to assume that these should have been coded as missing values or may have been incorrectly assigned a negative value."
   ]
  },
  {
   "cell_type": "code",
   "execution_count": 51,
   "metadata": {},
   "outputs": [],
   "source": [
    "#replace negative values with NaNs in intFeature2\n",
    "neg_vals = f2[f2<0].unique()\n",
    "trainSample.intFeature2 = trainSample['intFeature2'].replace(to_replace = neg_vals, value = np.NaN)"
   ]
  },
  {
   "cell_type": "code",
   "execution_count": 52,
   "metadata": {},
   "outputs": [
    {
     "data": {
      "image/png": "[encoded data removed]",
      "text/plain": [
       "<Figure size 1008x1008 with 16 Axes>"
      ]
     },
     "metadata": {
      "needs_background": "light"
     },
     "output_type": "display_data"
    }
   ],
   "source": [
    "#helper function to log transform int features (should log transform first)\n",
    "def log_transform(x):\n",
    "    #takes a series\n",
    "    '''shifts x up by one to account for presence of 0 values'\n",
    "    and assumes negative values should be NaN'''\n",
    "    return np.log(x+1)\n",
    "\n",
    "#plotting log transformed integerFeatures\n",
    "trainSample[intFeatures].apply(log_transform).hist(figsize=(14,14), bins=100)\n",
    "plt.show()"
   ]
  },
  {
   "cell_type": "markdown",
   "metadata": {},
   "source": [
    "Even after log transformation the integer data is still very skewed, but it looks more manageable"
   ]
  },
  {
   "cell_type": "code",
   "execution_count": 55,
   "metadata": {},
   "outputs": [
    {
     "data": {
      "text/html": [
       "<div>\n",
       "<style scoped>\n",
       "    .dataframe tbody tr th:only-of-type {\n",
       "        vertical-align: middle;\n",
       "    }\n",
       "\n",
       "    .dataframe tbody tr th {\n",
       "        vertical-align: top;\n",
       "    }\n",
       "\n",
       "    .dataframe thead th {\n",
       "        text-align: right;\n",
       "    }\n",
       "</style>\n",
       "<table border=\"1\" class=\"dataframe\">\n",
       "  <thead>\n",
       "    <tr style=\"text-align: right;\">\n",
       "      <th></th>\n",
       "      <th>label</th>\n",
       "      <th>intFeature1</th>\n",
       "      <th>intFeature2</th>\n",
       "      <th>intFeature3</th>\n",
       "      <th>intFeature4</th>\n",
       "      <th>intFeature5</th>\n",
       "      <th>intFeature6</th>\n",
       "      <th>intFeature7</th>\n",
       "      <th>intFeature8</th>\n",
       "      <th>intFeature9</th>\n",
       "      <th>...</th>\n",
       "      <th>catFeature17</th>\n",
       "      <th>catFeature18</th>\n",
       "      <th>catFeature19</th>\n",
       "      <th>catFeature20</th>\n",
       "      <th>catFeature21</th>\n",
       "      <th>catFeature22</th>\n",
       "      <th>catFeature23</th>\n",
       "      <th>catFeature24</th>\n",
       "      <th>catFeature25</th>\n",
       "      <th>catFeature26</th>\n",
       "    </tr>\n",
       "  </thead>\n",
       "  <tbody>\n",
       "    <tr>\n",
       "      <th>0</th>\n",
       "      <td>0</td>\n",
       "      <td>NaN</td>\n",
       "      <td>NaN</td>\n",
       "      <td>3.465736</td>\n",
       "      <td>1.609438</td>\n",
       "      <td>10.406110</td>\n",
       "      <td>NaN</td>\n",
       "      <td>0.000000</td>\n",
       "      <td>1.386294</td>\n",
       "      <td>1.609438</td>\n",
       "      <td>...</td>\n",
       "      <td>1e88c74f</td>\n",
       "      <td>9880032b</td>\n",
       "      <td>21ddcdc9</td>\n",
       "      <td>5840adea</td>\n",
       "      <td>baf3777b</td>\n",
       "      <td>NaN</td>\n",
       "      <td>32c7478e</td>\n",
       "      <td>5f13bb00</td>\n",
       "      <td>fd2fe0bd</td>\n",
       "      <td>aa5f0a15</td>\n",
       "    </tr>\n",
       "    <tr>\n",
       "      <th>1</th>\n",
       "      <td>1</td>\n",
       "      <td>NaN</td>\n",
       "      <td>NaN</td>\n",
       "      <td>0.693147</td>\n",
       "      <td>NaN</td>\n",
       "      <td>8.791334</td>\n",
       "      <td>1.386294</td>\n",
       "      <td>1.945910</td>\n",
       "      <td>0.000000</td>\n",
       "      <td>4.343805</td>\n",
       "      <td>...</td>\n",
       "      <td>e5ba7672</td>\n",
       "      <td>47e4d79e</td>\n",
       "      <td>21ddcdc9</td>\n",
       "      <td>a458ea53</td>\n",
       "      <td>f93c1581</td>\n",
       "      <td>NaN</td>\n",
       "      <td>32c7478e</td>\n",
       "      <td>a9d771cd</td>\n",
       "      <td>c9f3bea7</td>\n",
       "      <td>0a47000d</td>\n",
       "    </tr>\n",
       "    <tr>\n",
       "      <th>2</th>\n",
       "      <td>1</td>\n",
       "      <td>0.0</td>\n",
       "      <td>NaN</td>\n",
       "      <td>1.609438</td>\n",
       "      <td>1.098612</td>\n",
       "      <td>7.980024</td>\n",
       "      <td>3.970292</td>\n",
       "      <td>3.258097</td>\n",
       "      <td>2.833213</td>\n",
       "      <td>4.990433</td>\n",
       "      <td>...</td>\n",
       "      <td>e5ba7672</td>\n",
       "      <td>3cb7e3f0</td>\n",
       "      <td>21ddcdc9</td>\n",
       "      <td>b1252a9d</td>\n",
       "      <td>59a15e58</td>\n",
       "      <td>NaN</td>\n",
       "      <td>93bad2c0</td>\n",
       "      <td>8d653a3e</td>\n",
       "      <td>445bbe3b</td>\n",
       "      <td>8e1ae331</td>\n",
       "    </tr>\n",
       "    <tr>\n",
       "      <th>3</th>\n",
       "      <td>0</td>\n",
       "      <td>0.0</td>\n",
       "      <td>NaN</td>\n",
       "      <td>2.639057</td>\n",
       "      <td>2.564949</td>\n",
       "      <td>8.093157</td>\n",
       "      <td>4.094345</td>\n",
       "      <td>2.079442</td>\n",
       "      <td>3.044522</td>\n",
       "      <td>4.499810</td>\n",
       "      <td>...</td>\n",
       "      <td>27c07bd6</td>\n",
       "      <td>a78bd508</td>\n",
       "      <td>21ddcdc9</td>\n",
       "      <td>5840adea</td>\n",
       "      <td>c2a93b37</td>\n",
       "      <td>ad3062eb</td>\n",
       "      <td>32c7478e</td>\n",
       "      <td>1793a828</td>\n",
       "      <td>e8b83407</td>\n",
       "      <td>2fede552</td>\n",
       "    </tr>\n",
       "    <tr>\n",
       "      <th>4</th>\n",
       "      <td>0</td>\n",
       "      <td>0.0</td>\n",
       "      <td>NaN</td>\n",
       "      <td>1.386294</td>\n",
       "      <td>3.806662</td>\n",
       "      <td>7.548556</td>\n",
       "      <td>5.298317</td>\n",
       "      <td>1.386294</td>\n",
       "      <td>3.784190</td>\n",
       "      <td>4.997212</td>\n",
       "      <td>...</td>\n",
       "      <td>07c540c4</td>\n",
       "      <td>e7e991cb</td>\n",
       "      <td>68c36492</td>\n",
       "      <td>a458ea53</td>\n",
       "      <td>c39d0f12</td>\n",
       "      <td>NaN</td>\n",
       "      <td>3a171ecb</td>\n",
       "      <td>abec2c22</td>\n",
       "      <td>fd2fe0bd</td>\n",
       "      <td>22538d57</td>\n",
       "    </tr>\n",
       "  </tbody>\n",
       "</table>\n",
       "<p>5 rows × 40 columns</p>\n",
       "</div>"
      ],
      "text/plain": [
       "   label  intFeature1  intFeature2  intFeature3  intFeature4  intFeature5  \\\n",
       "0      0          NaN          NaN     3.465736     1.609438    10.406110   \n",
       "1      1          NaN          NaN     0.693147          NaN     8.791334   \n",
       "2      1          0.0          NaN     1.609438     1.098612     7.980024   \n",
       "3      0          0.0          NaN     2.639057     2.564949     8.093157   \n",
       "4      0          0.0          NaN     1.386294     3.806662     7.548556   \n",
       "\n",
       "   intFeature6  intFeature7  intFeature8  intFeature9     ...       \\\n",
       "0          NaN     0.000000     1.386294     1.609438     ...        \n",
       "1     1.386294     1.945910     0.000000     4.343805     ...        \n",
       "2     3.970292     3.258097     2.833213     4.990433     ...        \n",
       "3     4.094345     2.079442     3.044522     4.499810     ...        \n",
       "4     5.298317     1.386294     3.784190     4.997212     ...        \n",
       "\n",
       "   catFeature17  catFeature18  catFeature19  catFeature20 catFeature21  \\\n",
       "0      1e88c74f      9880032b      21ddcdc9      5840adea     baf3777b   \n",
       "1      e5ba7672      47e4d79e      21ddcdc9      a458ea53     f93c1581   \n",
       "2      e5ba7672      3cb7e3f0      21ddcdc9      b1252a9d     59a15e58   \n",
       "3      27c07bd6      a78bd508      21ddcdc9      5840adea     c2a93b37   \n",
       "4      07c540c4      e7e991cb      68c36492      a458ea53     c39d0f12   \n",
       "\n",
       "  catFeature22 catFeature23 catFeature24 catFeature25 catFeature26  \n",
       "0          NaN     32c7478e     5f13bb00     fd2fe0bd     aa5f0a15  \n",
       "1          NaN     32c7478e     a9d771cd     c9f3bea7     0a47000d  \n",
       "2          NaN     93bad2c0     8d653a3e     445bbe3b     8e1ae331  \n",
       "3     ad3062eb     32c7478e     1793a828     e8b83407     2fede552  \n",
       "4          NaN     3a171ecb     abec2c22     fd2fe0bd     22538d57  \n",
       "\n",
       "[5 rows x 40 columns]"
      ]
     },
     "execution_count": 55,
     "metadata": {},
     "output_type": "execute_result"
    }
   ],
   "source": [
    "#apply log transformation to integer variables\n",
    "trainSample[intFeatures] = trainSample[intFeatures].apply(log_transform)"
   ]
  },
  {
   "cell_type": "code",
   "execution_count": 63,
   "metadata": {},
   "outputs": [
    {
     "data": {
      "text/html": [
       "<div>\n",
       "<style scoped>\n",
       "    .dataframe tbody tr th:only-of-type {\n",
       "        vertical-align: middle;\n",
       "    }\n",
       "\n",
       "    .dataframe tbody tr th {\n",
       "        vertical-align: top;\n",
       "    }\n",
       "\n",
       "    .dataframe thead th {\n",
       "        text-align: right;\n",
       "    }\n",
       "</style>\n",
       "<table border=\"1\" class=\"dataframe\">\n",
       "  <thead>\n",
       "    <tr style=\"text-align: right;\">\n",
       "      <th></th>\n",
       "      <th>label</th>\n",
       "      <th>intFeature1</th>\n",
       "      <th>intFeature2</th>\n",
       "      <th>intFeature3</th>\n",
       "      <th>intFeature4</th>\n",
       "      <th>intFeature5</th>\n",
       "      <th>intFeature6</th>\n",
       "      <th>intFeature7</th>\n",
       "      <th>intFeature8</th>\n",
       "      <th>intFeature9</th>\n",
       "      <th>...</th>\n",
       "      <th>catFeature17</th>\n",
       "      <th>catFeature18</th>\n",
       "      <th>catFeature19</th>\n",
       "      <th>catFeature20</th>\n",
       "      <th>catFeature21</th>\n",
       "      <th>catFeature22</th>\n",
       "      <th>catFeature23</th>\n",
       "      <th>catFeature24</th>\n",
       "      <th>catFeature25</th>\n",
       "      <th>catFeature26</th>\n",
       "    </tr>\n",
       "  </thead>\n",
       "  <tbody>\n",
       "    <tr>\n",
       "      <th>0</th>\n",
       "      <td>0</td>\n",
       "      <td>NaN</td>\n",
       "      <td>NaN</td>\n",
       "      <td>1.099131</td>\n",
       "      <td>-0.101163</td>\n",
       "      <td>1.067417</td>\n",
       "      <td>NaN</td>\n",
       "      <td>-1.188550</td>\n",
       "      <td>-0.565069</td>\n",
       "      <td>-1.189582</td>\n",
       "      <td>...</td>\n",
       "      <td>1e88c74f</td>\n",
       "      <td>9880032b</td>\n",
       "      <td>21ddcdc9</td>\n",
       "      <td>5840adea</td>\n",
       "      <td>baf3777b</td>\n",
       "      <td>NaN</td>\n",
       "      <td>32c7478e</td>\n",
       "      <td>5f13bb00</td>\n",
       "      <td>fd2fe0bd</td>\n",
       "      <td>aa5f0a15</td>\n",
       "    </tr>\n",
       "    <tr>\n",
       "      <th>1</th>\n",
       "      <td>1</td>\n",
       "      <td>NaN</td>\n",
       "      <td>NaN</td>\n",
       "      <td>-1.221917</td>\n",
       "      <td>NaN</td>\n",
       "      <td>0.515437</td>\n",
       "      <td>-1.153559</td>\n",
       "      <td>0.226893</td>\n",
       "      <td>-1.764770</td>\n",
       "      <td>0.495264</td>\n",
       "      <td>...</td>\n",
       "      <td>e5ba7672</td>\n",
       "      <td>47e4d79e</td>\n",
       "      <td>21ddcdc9</td>\n",
       "      <td>a458ea53</td>\n",
       "      <td>f93c1581</td>\n",
       "      <td>NaN</td>\n",
       "      <td>32c7478e</td>\n",
       "      <td>a9d771cd</td>\n",
       "      <td>c9f3bea7</td>\n",
       "      <td>0a47000d</td>\n",
       "    </tr>\n",
       "    <tr>\n",
       "      <th>2</th>\n",
       "      <td>1</td>\n",
       "      <td>-0.894306</td>\n",
       "      <td>NaN</td>\n",
       "      <td>-0.454853</td>\n",
       "      <td>-0.665177</td>\n",
       "      <td>0.238106</td>\n",
       "      <td>0.325690</td>\n",
       "      <td>1.181370</td>\n",
       "      <td>0.687097</td>\n",
       "      <td>0.893698</td>\n",
       "      <td>...</td>\n",
       "      <td>e5ba7672</td>\n",
       "      <td>3cb7e3f0</td>\n",
       "      <td>21ddcdc9</td>\n",
       "      <td>b1252a9d</td>\n",
       "      <td>59a15e58</td>\n",
       "      <td>NaN</td>\n",
       "      <td>93bad2c0</td>\n",
       "      <td>8d653a3e</td>\n",
       "      <td>445bbe3b</td>\n",
       "      <td>8e1ae331</td>\n",
       "    </tr>\n",
       "    <tr>\n",
       "      <th>3</th>\n",
       "      <td>0</td>\n",
       "      <td>-0.894306</td>\n",
       "      <td>NaN</td>\n",
       "      <td>0.407084</td>\n",
       "      <td>0.953840</td>\n",
       "      <td>0.276778</td>\n",
       "      <td>0.396706</td>\n",
       "      <td>0.324023</td>\n",
       "      <td>0.869964</td>\n",
       "      <td>0.591389</td>\n",
       "      <td>...</td>\n",
       "      <td>27c07bd6</td>\n",
       "      <td>a78bd508</td>\n",
       "      <td>21ddcdc9</td>\n",
       "      <td>5840adea</td>\n",
       "      <td>c2a93b37</td>\n",
       "      <td>ad3062eb</td>\n",
       "      <td>32c7478e</td>\n",
       "      <td>1793a828</td>\n",
       "      <td>e8b83407</td>\n",
       "      <td>2fede552</td>\n",
       "    </tr>\n",
       "    <tr>\n",
       "      <th>4</th>\n",
       "      <td>0</td>\n",
       "      <td>-0.894306</td>\n",
       "      <td>NaN</td>\n",
       "      <td>-0.641655</td>\n",
       "      <td>2.324844</td>\n",
       "      <td>0.090617</td>\n",
       "      <td>1.085939</td>\n",
       "      <td>-0.180168</td>\n",
       "      <td>1.510073</td>\n",
       "      <td>0.897876</td>\n",
       "      <td>...</td>\n",
       "      <td>07c540c4</td>\n",
       "      <td>e7e991cb</td>\n",
       "      <td>68c36492</td>\n",
       "      <td>a458ea53</td>\n",
       "      <td>c39d0f12</td>\n",
       "      <td>NaN</td>\n",
       "      <td>3a171ecb</td>\n",
       "      <td>abec2c22</td>\n",
       "      <td>fd2fe0bd</td>\n",
       "      <td>22538d57</td>\n",
       "    </tr>\n",
       "  </tbody>\n",
       "</table>\n",
       "<p>5 rows × 40 columns</p>\n",
       "</div>"
      ],
      "text/plain": [
       "   label  intFeature1  intFeature2  intFeature3  intFeature4  intFeature5  \\\n",
       "0      0          NaN          NaN     1.099131    -0.101163     1.067417   \n",
       "1      1          NaN          NaN    -1.221917          NaN     0.515437   \n",
       "2      1    -0.894306          NaN    -0.454853    -0.665177     0.238106   \n",
       "3      0    -0.894306          NaN     0.407084     0.953840     0.276778   \n",
       "4      0    -0.894306          NaN    -0.641655     2.324844     0.090617   \n",
       "\n",
       "   intFeature6  intFeature7  intFeature8  intFeature9     ...       \\\n",
       "0          NaN    -1.188550    -0.565069    -1.189582     ...        \n",
       "1    -1.153559     0.226893    -1.764770     0.495264     ...        \n",
       "2     0.325690     1.181370     0.687097     0.893698     ...        \n",
       "3     0.396706     0.324023     0.869964     0.591389     ...        \n",
       "4     1.085939    -0.180168     1.510073     0.897876     ...        \n",
       "\n",
       "   catFeature17  catFeature18  catFeature19  catFeature20 catFeature21  \\\n",
       "0      1e88c74f      9880032b      21ddcdc9      5840adea     baf3777b   \n",
       "1      e5ba7672      47e4d79e      21ddcdc9      a458ea53     f93c1581   \n",
       "2      e5ba7672      3cb7e3f0      21ddcdc9      b1252a9d     59a15e58   \n",
       "3      27c07bd6      a78bd508      21ddcdc9      5840adea     c2a93b37   \n",
       "4      07c540c4      e7e991cb      68c36492      a458ea53     c39d0f12   \n",
       "\n",
       "  catFeature22 catFeature23 catFeature24 catFeature25 catFeature26  \n",
       "0          NaN     32c7478e     5f13bb00     fd2fe0bd     aa5f0a15  \n",
       "1          NaN     32c7478e     a9d771cd     c9f3bea7     0a47000d  \n",
       "2          NaN     93bad2c0     8d653a3e     445bbe3b     8e1ae331  \n",
       "3     ad3062eb     32c7478e     1793a828     e8b83407     2fede552  \n",
       "4          NaN     3a171ecb     abec2c22     fd2fe0bd     22538d57  \n",
       "\n",
       "[5 rows x 40 columns]"
      ]
     },
     "execution_count": 63,
     "metadata": {},
     "output_type": "execute_result"
    }
   ],
   "source": [
    "#normalize log-transformed features to rescale\n",
    "def normalize(series):\n",
    "    mn = series.mean()\n",
    "    std = series.std()\n",
    "    \n",
    "    return (series-mn)/std\n",
    "\n",
    "#don't normalize label\n",
    "trainSample[intFeatures] = trainSample[intFeatures].apply(normalize)\n",
    "trainSample.head(5)"
   ]
  },
  {
   "cell_type": "code",
   "execution_count": 64,
   "metadata": {},
   "outputs": [],
   "source": [
    "#write to file for later use\n",
    "fpath = 'eda/trainSampleNorm.csv'\n",
    "trainSample.to_csv(path_or_buf = fpath, index = False)"
   ]
  },
  {
   "cell_type": "code",
   "execution_count": 6,
   "metadata": {},
   "outputs": [
    {
     "data": {
      "text/html": [
       "<div>\n",
       "<style scoped>\n",
       "    .dataframe tbody tr th:only-of-type {\n",
       "        vertical-align: middle;\n",
       "    }\n",
       "\n",
       "    .dataframe tbody tr th {\n",
       "        vertical-align: top;\n",
       "    }\n",
       "\n",
       "    .dataframe thead th {\n",
       "        text-align: right;\n",
       "    }\n",
       "</style>\n",
       "<table border=\"1\" class=\"dataframe\">\n",
       "  <thead>\n",
       "    <tr style=\"text-align: right;\">\n",
       "      <th></th>\n",
       "      <th>label</th>\n",
       "      <th>intFeature1</th>\n",
       "      <th>intFeature2</th>\n",
       "      <th>intFeature3</th>\n",
       "      <th>intFeature4</th>\n",
       "      <th>intFeature5</th>\n",
       "      <th>intFeature6</th>\n",
       "      <th>intFeature7</th>\n",
       "      <th>intFeature8</th>\n",
       "      <th>intFeature9</th>\n",
       "      <th>...</th>\n",
       "      <th>catFeature17</th>\n",
       "      <th>catFeature18</th>\n",
       "      <th>catFeature19</th>\n",
       "      <th>catFeature20</th>\n",
       "      <th>catFeature21</th>\n",
       "      <th>catFeature22</th>\n",
       "      <th>catFeature23</th>\n",
       "      <th>catFeature24</th>\n",
       "      <th>catFeature25</th>\n",
       "      <th>catFeature26</th>\n",
       "    </tr>\n",
       "  </thead>\n",
       "  <tbody>\n",
       "    <tr>\n",
       "      <th>0</th>\n",
       "      <td>0</td>\n",
       "      <td>NaN</td>\n",
       "      <td>NaN</td>\n",
       "      <td>1.099131</td>\n",
       "      <td>-0.101163</td>\n",
       "      <td>1.067417</td>\n",
       "      <td>NaN</td>\n",
       "      <td>-1.188550</td>\n",
       "      <td>-0.565069</td>\n",
       "      <td>-1.189582</td>\n",
       "      <td>...</td>\n",
       "      <td>1e88c74f</td>\n",
       "      <td>9880032b</td>\n",
       "      <td>21ddcdc9</td>\n",
       "      <td>5840adea</td>\n",
       "      <td>baf3777b</td>\n",
       "      <td>NaN</td>\n",
       "      <td>32c7478e</td>\n",
       "      <td>5f13bb00</td>\n",
       "      <td>fd2fe0bd</td>\n",
       "      <td>aa5f0a15</td>\n",
       "    </tr>\n",
       "    <tr>\n",
       "      <th>1</th>\n",
       "      <td>1</td>\n",
       "      <td>NaN</td>\n",
       "      <td>NaN</td>\n",
       "      <td>-1.221917</td>\n",
       "      <td>NaN</td>\n",
       "      <td>0.515437</td>\n",
       "      <td>-1.153559</td>\n",
       "      <td>0.226893</td>\n",
       "      <td>-1.764770</td>\n",
       "      <td>0.495264</td>\n",
       "      <td>...</td>\n",
       "      <td>e5ba7672</td>\n",
       "      <td>47e4d79e</td>\n",
       "      <td>21ddcdc9</td>\n",
       "      <td>a458ea53</td>\n",
       "      <td>f93c1581</td>\n",
       "      <td>NaN</td>\n",
       "      <td>32c7478e</td>\n",
       "      <td>a9d771cd</td>\n",
       "      <td>c9f3bea7</td>\n",
       "      <td>0a47000d</td>\n",
       "    </tr>\n",
       "    <tr>\n",
       "      <th>2</th>\n",
       "      <td>1</td>\n",
       "      <td>-0.894306</td>\n",
       "      <td>NaN</td>\n",
       "      <td>-0.454853</td>\n",
       "      <td>-0.665177</td>\n",
       "      <td>0.238106</td>\n",
       "      <td>0.325690</td>\n",
       "      <td>1.181370</td>\n",
       "      <td>0.687097</td>\n",
       "      <td>0.893698</td>\n",
       "      <td>...</td>\n",
       "      <td>e5ba7672</td>\n",
       "      <td>3cb7e3f0</td>\n",
       "      <td>21ddcdc9</td>\n",
       "      <td>b1252a9d</td>\n",
       "      <td>59a15e58</td>\n",
       "      <td>NaN</td>\n",
       "      <td>93bad2c0</td>\n",
       "      <td>8d653a3e</td>\n",
       "      <td>445bbe3b</td>\n",
       "      <td>8e1ae331</td>\n",
       "    </tr>\n",
       "    <tr>\n",
       "      <th>3</th>\n",
       "      <td>0</td>\n",
       "      <td>-0.894306</td>\n",
       "      <td>NaN</td>\n",
       "      <td>0.407084</td>\n",
       "      <td>0.953840</td>\n",
       "      <td>0.276778</td>\n",
       "      <td>0.396706</td>\n",
       "      <td>0.324023</td>\n",
       "      <td>0.869964</td>\n",
       "      <td>0.591389</td>\n",
       "      <td>...</td>\n",
       "      <td>27c07bd6</td>\n",
       "      <td>a78bd508</td>\n",
       "      <td>21ddcdc9</td>\n",
       "      <td>5840adea</td>\n",
       "      <td>c2a93b37</td>\n",
       "      <td>ad3062eb</td>\n",
       "      <td>32c7478e</td>\n",
       "      <td>1793a828</td>\n",
       "      <td>e8b83407</td>\n",
       "      <td>2fede552</td>\n",
       "    </tr>\n",
       "    <tr>\n",
       "      <th>4</th>\n",
       "      <td>0</td>\n",
       "      <td>-0.894306</td>\n",
       "      <td>NaN</td>\n",
       "      <td>-0.641655</td>\n",
       "      <td>2.324844</td>\n",
       "      <td>0.090617</td>\n",
       "      <td>1.085939</td>\n",
       "      <td>-0.180168</td>\n",
       "      <td>1.510073</td>\n",
       "      <td>0.897876</td>\n",
       "      <td>...</td>\n",
       "      <td>07c540c4</td>\n",
       "      <td>e7e991cb</td>\n",
       "      <td>68c36492</td>\n",
       "      <td>a458ea53</td>\n",
       "      <td>c39d0f12</td>\n",
       "      <td>NaN</td>\n",
       "      <td>3a171ecb</td>\n",
       "      <td>abec2c22</td>\n",
       "      <td>fd2fe0bd</td>\n",
       "      <td>22538d57</td>\n",
       "    </tr>\n",
       "  </tbody>\n",
       "</table>\n",
       "<p>5 rows × 40 columns</p>\n",
       "</div>"
      ],
      "text/plain": [
       "   label  intFeature1  intFeature2  intFeature3  intFeature4  intFeature5  \\\n",
       "0      0          NaN          NaN     1.099131    -0.101163     1.067417   \n",
       "1      1          NaN          NaN    -1.221917          NaN     0.515437   \n",
       "2      1    -0.894306          NaN    -0.454853    -0.665177     0.238106   \n",
       "3      0    -0.894306          NaN     0.407084     0.953840     0.276778   \n",
       "4      0    -0.894306          NaN    -0.641655     2.324844     0.090617   \n",
       "\n",
       "   intFeature6  intFeature7  intFeature8  intFeature9     ...       \\\n",
       "0          NaN    -1.188550    -0.565069    -1.189582     ...        \n",
       "1    -1.153559     0.226893    -1.764770     0.495264     ...        \n",
       "2     0.325690     1.181370     0.687097     0.893698     ...        \n",
       "3     0.396706     0.324023     0.869964     0.591389     ...        \n",
       "4     1.085939    -0.180168     1.510073     0.897876     ...        \n",
       "\n",
       "   catFeature17  catFeature18  catFeature19  catFeature20 catFeature21  \\\n",
       "0      1e88c74f      9880032b      21ddcdc9      5840adea     baf3777b   \n",
       "1      e5ba7672      47e4d79e      21ddcdc9      a458ea53     f93c1581   \n",
       "2      e5ba7672      3cb7e3f0      21ddcdc9      b1252a9d     59a15e58   \n",
       "3      27c07bd6      a78bd508      21ddcdc9      5840adea     c2a93b37   \n",
       "4      07c540c4      e7e991cb      68c36492      a458ea53     c39d0f12   \n",
       "\n",
       "  catFeature22 catFeature23 catFeature24 catFeature25 catFeature26  \n",
       "0          NaN     32c7478e     5f13bb00     fd2fe0bd     aa5f0a15  \n",
       "1          NaN     32c7478e     a9d771cd     c9f3bea7     0a47000d  \n",
       "2          NaN     93bad2c0     8d653a3e     445bbe3b     8e1ae331  \n",
       "3     ad3062eb     32c7478e     1793a828     e8b83407     2fede552  \n",
       "4          NaN     3a171ecb     abec2c22     fd2fe0bd     22538d57  \n",
       "\n",
       "[5 rows x 40 columns]"
      ]
     },
     "execution_count": 6,
     "metadata": {},
     "output_type": "execute_result"
    }
   ],
   "source": [
    "#read in normalized train data\n",
    "trainSampleLogNorm = pd.read_csv('eda/trainSampleNorm.csv')\n",
    "trainSampleLogNorm.head(5)"
   ]
  },
  {
   "cell_type": "markdown",
   "metadata": {},
   "source": []
  },
  {
   "cell_type": "code",
   "execution_count": 68,
   "metadata": {},
   "outputs": [
    {
     "data": {
      "image/png": "[encoded data removed]",
      "text/plain": [
       "<Figure size 792x648 with 2 Axes>"
      ]
     },
     "metadata": {
      "needs_background": "light"
     },
     "output_type": "display_data"
    }
   ],
   "source": [
    "# plot heatmap for correlations matrix among integer features\n",
    "intFeatures = trainSampleNorm.columns[1:14]\n",
    "\n",
    "corr = trainSampleLogNorm[intFeatures].corr()\n",
    "fig, ax = plt.subplots(figsize=(11, 9))\n",
    "mask = np.zeros_like(corr, dtype=np.bool)\n",
    "mask[np.triu_indices_from(mask)] = True\n",
    "cmap = sns.diverging_palette(240, 10, as_cmap=True)\n",
    "sns.heatmap(corr, mask=mask, cmap=cmap, center=0, linewidths=.5)\n",
    "plt.title(\"Correlations between Integer features.\")\n",
    "plt.show()"
   ]
  },
  {
   "cell_type": "markdown",
   "metadata": {},
   "source": [
    "assumption in logistic regression is no perfect collinearity so not to worried about the few high correlations between:\n",
    "* intFeature 4 and intFeature13\n",
    "* intFeature 8 and intFeature13\n",
    "* intFeature 7 and intFeature11"
   ]
  },
  {
   "cell_type": "code",
   "execution_count": 27,
   "metadata": {},
   "outputs": [
    {
     "name": "stderr",
     "output_type": "stream",
     "text": [
      "/opt/anaconda/lib/python3.6/site-packages/scipy/stats/stats.py:1713: FutureWarning: Using a non-tuple sequence for multidimensional indexing is deprecated; use `arr[tuple(seq)]` instead of `arr[seq]`. In the future this will be interpreted as an array index, `arr[np.array(seq)]`, which will result either in an error or a different result.\n",
      "  return np.add.reduce(sorted[indexer] * weights, axis=axis) / sumval\n"
     ]
    },
    {
     "data": {
      "image/png": "[encoded data removed]",
      "text/plain": [
       "<Figure size 432x288 with 1 Axes>"
      ]
     },
     "metadata": {
      "needs_background": "light"
     },
     "output_type": "display_data"
    }
   ],
   "source": [
    "import seaborn as sns\n",
    "# fig, ax_grid = plt.subplots(2, 1, figsize=(15,15)\n",
    "sns.regplot(x='intFeature7', y=\"intFeature11\",data=trainSampleLogNorm)                            \n",
    "plt.show()"
   ]
  },
  {
   "cell_type": "code",
   "execution_count": 28,
   "metadata": {},
   "outputs": [
    {
     "name": "stderr",
     "output_type": "stream",
     "text": [
      "/opt/anaconda/lib/python3.6/site-packages/scipy/stats/stats.py:1713: FutureWarning: Using a non-tuple sequence for multidimensional indexing is deprecated; use `arr[tuple(seq)]` instead of `arr[seq]`. In the future this will be interpreted as an array index, `arr[np.array(seq)]`, which will result either in an error or a different result.\n",
      "  return np.add.reduce(sorted[indexer] * weights, axis=axis) / sumval\n"
     ]
    },
    {
     "data": {
      "image/png": "[encoded data removed]",
      "text/plain": [
       "<Figure size 432x288 with 1 Axes>"
      ]
     },
     "metadata": {
      "needs_background": "light"
     },
     "output_type": "display_data"
    }
   ],
   "source": [
    "import seaborn as sns\n",
    "# fig, ax_grid = plt.subplots(2, 1, figsize=(15,15)\n",
    "sns.regplot(x='intFeature5', y=\"intFeature10\",data=trainSampleLogNorm)                            \n",
    "plt.show()"
   ]
  },
  {
   "cell_type": "markdown",
   "metadata": {},
   "source": [
    "Looking at the above scatter plot between intFeature7 and intFeature11 it appears that those two variables have close to perfect collinearity. This behavior can confuse our learning model....elaborate on this. May make sense to drop either intFeature11 or intFeature7"
   ]
  },
  {
   "cell_type": "code",
   "execution_count": 69,
   "metadata": {},
   "outputs": [
    {
     "data": {
      "image/png": "[encoded data removed]",
      "text/plain": [
       "<Figure size 1080x1080 with 16 Axes>"
      ]
     },
     "metadata": {
      "needs_background": "light"
     },
     "output_type": "display_data"
    }
   ],
   "source": [
    "#multivariate analysis against target feature\n",
    "\"\"\"plot boxplots of each feature vs. the outcome\"\"\"\n",
    "fig, ax_grid = plt.subplots(4, 4, figsize=(15,15))\n",
    "y = trainSampleLogNorm['label']\n",
    "for idx, feature in enumerate(intFeatures):\n",
    "    x = trainSampleLogNorm[feature]\n",
    "    sns.boxplot(x, y, ax=ax_grid[idx//4][idx%4], orient='h', linewidth=.5)\n",
    "#     ax_grid[idx//3][idx%3].invert_yaxis()\n",
    "fig.suptitle(\"Integer Features vs. Outcome(Click, No Click)\", fontsize=15, y=0.9)\n",
    "plt.show()"
   ]
  },
  {
   "cell_type": "markdown",
   "metadata": {},
   "source": [
    "outliers skewing data, so it's difficult to gauge differences in boxplots. may make sense to bin our integer data\n",
    "see here for reference on [adaptive binning](https://towardsdatascience.com/understanding-feature-engineering-part-1-continuous-numeric-data-da4e47099a7b)\n",
    "transforming integer counts to interval data...maybe?\n",
    "\n",
    "so far, most integer features don't seem to show much linear association with click success or failure"
   ]
  },
  {
   "cell_type": "code",
   "execution_count": null,
   "metadata": {},
   "outputs": [],
   "source": []
  },
  {
   "cell_type": "markdown",
   "metadata": {},
   "source": [
    "### EDA Categorical Data "
   ]
  },
  {
   "cell_type": "code",
   "execution_count": 23,
   "metadata": {},
   "outputs": [
    {
     "data": {
      "image/png": "[encoded data removed]",
      "text/plain": [
       "<Figure size 432x288 with 1 Axes>"
      ]
     },
     "metadata": {
      "needs_background": "light"
     },
     "output_type": "display_data"
    }
   ],
   "source": [
    "uniqueCounts = pd.read_csv('eda/featureCounts_unique.csv')\n",
    "categoryLevels = uniqueCounts[uniqueCounts['Feature Name'].str.contains('cat')]\n",
    "sns.barplot('Feature Name', 'Approximate Unique Values',data = categoryLevels)\n",
    "plt.xticks(rotation=45)\n",
    "plt.show()"
   ]
  },
  {
   "cell_type": "markdown",
   "metadata": {},
   "source": [
    "There are an extremely high number of levels within most categorical features and unfortunately we're given no information about the semantics of the levels within each category it's difficult to reduce these lacking that context. For instance, catFeature3 may be page content that could be reduced to a broader classification of content such as sports, finance, etc"
   ]
  },
  {
   "cell_type": "code",
   "execution_count": 24,
   "metadata": {},
   "outputs": [
    {
     "data": {
      "text/html": [
       "<div>\n",
       "<style scoped>\n",
       "    .dataframe tbody tr th:only-of-type {\n",
       "        vertical-align: middle;\n",
       "    }\n",
       "\n",
       "    .dataframe tbody tr th {\n",
       "        vertical-align: top;\n",
       "    }\n",
       "\n",
       "    .dataframe thead th {\n",
       "        text-align: right;\n",
       "    }\n",
       "</style>\n",
       "<table border=\"1\" class=\"dataframe\">\n",
       "  <thead>\n",
       "    <tr style=\"text-align: right;\">\n",
       "      <th></th>\n",
       "      <th>Feature Name</th>\n",
       "      <th>Approximate Unique Values</th>\n",
       "    </tr>\n",
       "  </thead>\n",
       "  <tbody>\n",
       "    <tr>\n",
       "      <th>0</th>\n",
       "      <td>catFeature3</td>\n",
       "      <td>10109504</td>\n",
       "    </tr>\n",
       "    <tr>\n",
       "      <th>1</th>\n",
       "      <td>catFeature12</td>\n",
       "      <td>8365982</td>\n",
       "    </tr>\n",
       "    <tr>\n",
       "      <th>2</th>\n",
       "      <td>catFeature21</td>\n",
       "      <td>6449535</td>\n",
       "    </tr>\n",
       "    <tr>\n",
       "      <th>3</th>\n",
       "      <td>catFeature16</td>\n",
       "      <td>5436217</td>\n",
       "    </tr>\n",
       "    <tr>\n",
       "      <th>4</th>\n",
       "      <td>catFeature4</td>\n",
       "      <td>2239607</td>\n",
       "    </tr>\n",
       "    <tr>\n",
       "      <th>6</th>\n",
       "      <td>catFeature24</td>\n",
       "      <td>281672</td>\n",
       "    </tr>\n",
       "    <tr>\n",
       "      <th>7</th>\n",
       "      <td>catFeature26</td>\n",
       "      <td>148093</td>\n",
       "    </tr>\n",
       "    <tr>\n",
       "      <th>8</th>\n",
       "      <td>catFeature10</td>\n",
       "      <td>95718</td>\n",
       "    </tr>\n",
       "    <tr>\n",
       "      <th>9</th>\n",
       "      <td>catFeature15</td>\n",
       "      <td>15286</td>\n",
       "    </tr>\n",
       "    <tr>\n",
       "      <th>11</th>\n",
       "      <td>catFeature7</td>\n",
       "      <td>12507</td>\n",
       "    </tr>\n",
       "    <tr>\n",
       "      <th>15</th>\n",
       "      <td>catFeature11</td>\n",
       "      <td>5855</td>\n",
       "    </tr>\n",
       "    <tr>\n",
       "      <th>16</th>\n",
       "      <td>catFeature18</td>\n",
       "      <td>5475</td>\n",
       "    </tr>\n",
       "    <tr>\n",
       "      <th>18</th>\n",
       "      <td>catFeature13</td>\n",
       "      <td>3392</td>\n",
       "    </tr>\n",
       "    <tr>\n",
       "      <th>19</th>\n",
       "      <td>catFeature19</td>\n",
       "      <td>2134</td>\n",
       "    </tr>\n",
       "    <tr>\n",
       "      <th>20</th>\n",
       "      <td>catFeature1</td>\n",
       "      <td>1513</td>\n",
       "    </tr>\n",
       "    <tr>\n",
       "      <th>23</th>\n",
       "      <td>catFeature8</td>\n",
       "      <td>657</td>\n",
       "    </tr>\n",
       "    <tr>\n",
       "      <th>25</th>\n",
       "      <td>catFeature2</td>\n",
       "      <td>564</td>\n",
       "    </tr>\n",
       "    <tr>\n",
       "      <th>28</th>\n",
       "      <td>catFeature5</td>\n",
       "      <td>305</td>\n",
       "    </tr>\n",
       "    <tr>\n",
       "      <th>30</th>\n",
       "      <td>catFeature25</td>\n",
       "      <td>106</td>\n",
       "    </tr>\n",
       "    <tr>\n",
       "      <th>31</th>\n",
       "      <td>catFeature14</td>\n",
       "      <td>28</td>\n",
       "    </tr>\n",
       "    <tr>\n",
       "      <th>32</th>\n",
       "      <td>catFeature6</td>\n",
       "      <td>24</td>\n",
       "    </tr>\n",
       "    <tr>\n",
       "      <th>33</th>\n",
       "      <td>catFeature22</td>\n",
       "      <td>17</td>\n",
       "    </tr>\n",
       "    <tr>\n",
       "      <th>34</th>\n",
       "      <td>catFeature23</td>\n",
       "      <td>15</td>\n",
       "    </tr>\n",
       "    <tr>\n",
       "      <th>36</th>\n",
       "      <td>catFeature17</td>\n",
       "      <td>10</td>\n",
       "    </tr>\n",
       "    <tr>\n",
       "      <th>37</th>\n",
       "      <td>catFeature9</td>\n",
       "      <td>3</td>\n",
       "    </tr>\n",
       "    <tr>\n",
       "      <th>38</th>\n",
       "      <td>catFeature20</td>\n",
       "      <td>3</td>\n",
       "    </tr>\n",
       "  </tbody>\n",
       "</table>\n",
       "</div>"
      ],
      "text/plain": [
       "    Feature Name  Approximate Unique Values\n",
       "0    catFeature3                   10109504\n",
       "1   catFeature12                    8365982\n",
       "2   catFeature21                    6449535\n",
       "3   catFeature16                    5436217\n",
       "4    catFeature4                    2239607\n",
       "6   catFeature24                     281672\n",
       "7   catFeature26                     148093\n",
       "8   catFeature10                      95718\n",
       "9   catFeature15                      15286\n",
       "11   catFeature7                      12507\n",
       "15  catFeature11                       5855\n",
       "16  catFeature18                       5475\n",
       "18  catFeature13                       3392\n",
       "19  catFeature19                       2134\n",
       "20   catFeature1                       1513\n",
       "23   catFeature8                        657\n",
       "25   catFeature2                        564\n",
       "28   catFeature5                        305\n",
       "30  catFeature25                        106\n",
       "31  catFeature14                         28\n",
       "32   catFeature6                         24\n",
       "33  catFeature22                         17\n",
       "34  catFeature23                         15\n",
       "36  catFeature17                         10\n",
       "37   catFeature9                          3\n",
       "38  catFeature20                          3"
      ]
     },
     "execution_count": 24,
     "metadata": {},
     "output_type": "execute_result"
    }
   ],
   "source": [
    "categoryLevels"
   ]
  },
  {
   "cell_type": "code",
   "execution_count": 61,
   "metadata": {},
   "outputs": [
    {
     "data": {
      "text/html": [
       "<div>\n",
       "<style scoped>\n",
       "    .dataframe tbody tr th:only-of-type {\n",
       "        vertical-align: middle;\n",
       "    }\n",
       "\n",
       "    .dataframe tbody tr th {\n",
       "        vertical-align: top;\n",
       "    }\n",
       "\n",
       "    .dataframe thead th {\n",
       "        text-align: right;\n",
       "    }\n",
       "</style>\n",
       "<table border=\"1\" class=\"dataframe\">\n",
       "  <thead>\n",
       "    <tr style=\"text-align: right;\">\n",
       "      <th></th>\n",
       "      <th>% of levels w/ obs &lt; 10</th>\n",
       "    </tr>\n",
       "  </thead>\n",
       "  <tbody>\n",
       "    <tr>\n",
       "      <th>catFeature3</th>\n",
       "      <td>0.983703</td>\n",
       "    </tr>\n",
       "    <tr>\n",
       "      <th>catFeature12</th>\n",
       "      <td>0.981044</td>\n",
       "    </tr>\n",
       "    <tr>\n",
       "      <th>catFeature21</th>\n",
       "      <td>0.977976</td>\n",
       "    </tr>\n",
       "    <tr>\n",
       "      <th>catFeature16</th>\n",
       "      <td>0.972554</td>\n",
       "    </tr>\n",
       "    <tr>\n",
       "      <th>catFeature4</th>\n",
       "      <td>0.942490</td>\n",
       "    </tr>\n",
       "    <tr>\n",
       "      <th>catFeature24</th>\n",
       "      <td>0.853626</td>\n",
       "    </tr>\n",
       "    <tr>\n",
       "      <th>catFeature26</th>\n",
       "      <td>0.830430</td>\n",
       "    </tr>\n",
       "    <tr>\n",
       "      <th>catFeature10</th>\n",
       "      <td>0.716533</td>\n",
       "    </tr>\n",
       "    <tr>\n",
       "      <th>catFeature15</th>\n",
       "      <td>0.477884</td>\n",
       "    </tr>\n",
       "    <tr>\n",
       "      <th>catFeature7</th>\n",
       "      <td>0.230520</td>\n",
       "    </tr>\n",
       "    <tr>\n",
       "      <th>catFeature11</th>\n",
       "      <td>0.177734</td>\n",
       "    </tr>\n",
       "    <tr>\n",
       "      <th>catFeature18</th>\n",
       "      <td>0.374335</td>\n",
       "    </tr>\n",
       "    <tr>\n",
       "      <th>catFeature13</th>\n",
       "      <td>0.039179</td>\n",
       "    </tr>\n",
       "    <tr>\n",
       "      <th>catFeature19</th>\n",
       "      <td>0.287169</td>\n",
       "    </tr>\n",
       "    <tr>\n",
       "      <th>catFeature1</th>\n",
       "      <td>0.630205</td>\n",
       "    </tr>\n",
       "    <tr>\n",
       "      <th>catFeature8</th>\n",
       "      <td>0.576244</td>\n",
       "    </tr>\n",
       "    <tr>\n",
       "      <th>catFeature2</th>\n",
       "      <td>0.043400</td>\n",
       "    </tr>\n",
       "    <tr>\n",
       "      <th>catFeature5</th>\n",
       "      <td>0.516556</td>\n",
       "    </tr>\n",
       "    <tr>\n",
       "      <th>catFeature25</th>\n",
       "      <td>0.329114</td>\n",
       "    </tr>\n",
       "    <tr>\n",
       "      <th>catFeature14</th>\n",
       "      <td>0.037037</td>\n",
       "    </tr>\n",
       "    <tr>\n",
       "      <th>catFeature6</th>\n",
       "      <td>0.200000</td>\n",
       "    </tr>\n",
       "    <tr>\n",
       "      <th>catFeature22</th>\n",
       "      <td>0.470588</td>\n",
       "    </tr>\n",
       "    <tr>\n",
       "      <th>catFeature23</th>\n",
       "      <td>0.066667</td>\n",
       "    </tr>\n",
       "    <tr>\n",
       "      <th>catFeature17</th>\n",
       "      <td>0.000000</td>\n",
       "    </tr>\n",
       "    <tr>\n",
       "      <th>catFeature9</th>\n",
       "      <td>0.000000</td>\n",
       "    </tr>\n",
       "    <tr>\n",
       "      <th>catFeature20</th>\n",
       "      <td>0.000000</td>\n",
       "    </tr>\n",
       "  </tbody>\n",
       "</table>\n",
       "</div>"
      ],
      "text/plain": [
       "              % of levels w/ obs < 10\n",
       "catFeature3                  0.983703\n",
       "catFeature12                 0.981044\n",
       "catFeature21                 0.977976\n",
       "catFeature16                 0.972554\n",
       "catFeature4                  0.942490\n",
       "catFeature24                 0.853626\n",
       "catFeature26                 0.830430\n",
       "catFeature10                 0.716533\n",
       "catFeature15                 0.477884\n",
       "catFeature7                  0.230520\n",
       "catFeature11                 0.177734\n",
       "catFeature18                 0.374335\n",
       "catFeature13                 0.039179\n",
       "catFeature19                 0.287169\n",
       "catFeature1                  0.630205\n",
       "catFeature8                  0.576244\n",
       "catFeature2                  0.043400\n",
       "catFeature5                  0.516556\n",
       "catFeature25                 0.329114\n",
       "catFeature14                 0.037037\n",
       "catFeature6                  0.200000\n",
       "catFeature22                 0.470588\n",
       "catFeature23                 0.066667\n",
       "catFeature17                 0.000000\n",
       "catFeature9                  0.000000\n",
       "catFeature20                 0.000000"
      ]
     },
     "execution_count": 61,
     "metadata": {},
     "output_type": "execute_result"
    }
   ],
   "source": [
    "#let's look at relative frequency of each level among our categories\n",
    "def levelRarity(DataFrame,FeatureSet,threshold = 10):\n",
    "    '''takes a dataset and given list of its categorical features and returns \n",
    "    the percentage of levels in a category with fewer observations than\n",
    "    the threshold (rarity)'''\n",
    "    #construct dictionary with features as keys\n",
    "    fDict = {f:None for f in FeatureSet}\n",
    "\n",
    "    for f in FeatureSet:\n",
    "        x = DataFrame[f].value_counts()\n",
    "        num = len(x[x<threshold])\n",
    "        denom = len(x)\n",
    "        #update feature value with percent less than threshold\n",
    "        fDict[f] = num/denom\n",
    "\n",
    "    return pd.DataFrame.from_dict(fDict, orient='index',columns = [\"% of levels w/ obs < \"+ str(threshold)])\n",
    "\n",
    "FeatureSet = np.array(categoryLevels['Feature Name'])\n",
    "\n",
    "levelRarity(trainSampleLogNorm,FeatureSet)"
   ]
  },
  {
   "cell_type": "code",
   "execution_count": 116,
   "metadata": {},
   "outputs": [],
   "source": [
    "#iteratively build dataframe with categorical adjustments\n",
    "\n",
    "for f in catFeatures:\n",
    "    newCol_name = f + \"_binned\"\n",
    "    row_elements = []\n",
    "    #counts of unique labels per category\n",
    "    uniq = trainSampleLogNorm[f].value_counts()\n",
    "    #indx of labels with fewer than 30 observations (return the labels with .index)\n",
    "    idx = set(uniq[uniq<30].index)\n",
    "    labels = trainSampleLogNorm[f].values\n",
    "    for label in labels:\n",
    "        if label in idx:\n",
    "            row_elements.append(f+\"-bucket\")\n",
    "        else:\n",
    "            row_elements.append(label)\n",
    "            \n",
    "    trainSampleLogNorm[newCol_name] = row_elements\n"
   ]
  },
  {
   "cell_type": "code",
   "execution_count": 120,
   "metadata": {},
   "outputs": [],
   "source": [
    "#write to file for later use\n",
    "fpath = 'eda/trainSampleLogNorm_Binned.csv'\n",
    "trainSampleLogNorm.to_csv(path_or_buf = fpath, index = False)"
   ]
  },
  {
   "cell_type": "code",
   "execution_count": 7,
   "metadata": {},
   "outputs": [
    {
     "data": {
      "text/html": [
       "<div>\n",
       "<style scoped>\n",
       "    .dataframe tbody tr th:only-of-type {\n",
       "        vertical-align: middle;\n",
       "    }\n",
       "\n",
       "    .dataframe tbody tr th {\n",
       "        vertical-align: top;\n",
       "    }\n",
       "\n",
       "    .dataframe thead th {\n",
       "        text-align: right;\n",
       "    }\n",
       "</style>\n",
       "<table border=\"1\" class=\"dataframe\">\n",
       "  <thead>\n",
       "    <tr style=\"text-align: right;\">\n",
       "      <th></th>\n",
       "      <th>label</th>\n",
       "      <th>intFeature1</th>\n",
       "      <th>intFeature2</th>\n",
       "      <th>intFeature3</th>\n",
       "      <th>intFeature4</th>\n",
       "      <th>intFeature5</th>\n",
       "      <th>intFeature6</th>\n",
       "      <th>intFeature7</th>\n",
       "      <th>intFeature8</th>\n",
       "      <th>intFeature9</th>\n",
       "      <th>...</th>\n",
       "      <th>catFeature17_binned</th>\n",
       "      <th>catFeature18_binned</th>\n",
       "      <th>catFeature19_binned</th>\n",
       "      <th>catFeature20_binned</th>\n",
       "      <th>catFeature21_binned</th>\n",
       "      <th>catFeature22_binned</th>\n",
       "      <th>catFeature23_binned</th>\n",
       "      <th>catFeature24_binned</th>\n",
       "      <th>catFeature25_binned</th>\n",
       "      <th>catFeature26_binned</th>\n",
       "    </tr>\n",
       "  </thead>\n",
       "  <tbody>\n",
       "    <tr>\n",
       "      <th>0</th>\n",
       "      <td>0</td>\n",
       "      <td>NaN</td>\n",
       "      <td>NaN</td>\n",
       "      <td>1.099131</td>\n",
       "      <td>-0.101163</td>\n",
       "      <td>1.067417</td>\n",
       "      <td>NaN</td>\n",
       "      <td>-1.188550</td>\n",
       "      <td>-0.565069</td>\n",
       "      <td>-1.189582</td>\n",
       "      <td>...</td>\n",
       "      <td>1e88c74f</td>\n",
       "      <td>9880032b</td>\n",
       "      <td>21ddcdc9</td>\n",
       "      <td>5840adea</td>\n",
       "      <td>catFeature21-bucket</td>\n",
       "      <td>NaN</td>\n",
       "      <td>32c7478e</td>\n",
       "      <td>5f13bb00</td>\n",
       "      <td>fd2fe0bd</td>\n",
       "      <td>aa5f0a15</td>\n",
       "    </tr>\n",
       "    <tr>\n",
       "      <th>1</th>\n",
       "      <td>1</td>\n",
       "      <td>NaN</td>\n",
       "      <td>NaN</td>\n",
       "      <td>-1.221917</td>\n",
       "      <td>NaN</td>\n",
       "      <td>0.515437</td>\n",
       "      <td>-1.153559</td>\n",
       "      <td>0.226893</td>\n",
       "      <td>-1.764770</td>\n",
       "      <td>0.495264</td>\n",
       "      <td>...</td>\n",
       "      <td>e5ba7672</td>\n",
       "      <td>47e4d79e</td>\n",
       "      <td>21ddcdc9</td>\n",
       "      <td>a458ea53</td>\n",
       "      <td>catFeature21-bucket</td>\n",
       "      <td>NaN</td>\n",
       "      <td>32c7478e</td>\n",
       "      <td>a9d771cd</td>\n",
       "      <td>c9f3bea7</td>\n",
       "      <td>0a47000d</td>\n",
       "    </tr>\n",
       "    <tr>\n",
       "      <th>2</th>\n",
       "      <td>1</td>\n",
       "      <td>-0.894306</td>\n",
       "      <td>NaN</td>\n",
       "      <td>-0.454853</td>\n",
       "      <td>-0.665177</td>\n",
       "      <td>0.238106</td>\n",
       "      <td>0.325690</td>\n",
       "      <td>1.181370</td>\n",
       "      <td>0.687097</td>\n",
       "      <td>0.893698</td>\n",
       "      <td>...</td>\n",
       "      <td>e5ba7672</td>\n",
       "      <td>3cb7e3f0</td>\n",
       "      <td>21ddcdc9</td>\n",
       "      <td>b1252a9d</td>\n",
       "      <td>59a15e58</td>\n",
       "      <td>NaN</td>\n",
       "      <td>93bad2c0</td>\n",
       "      <td>8d653a3e</td>\n",
       "      <td>445bbe3b</td>\n",
       "      <td>8e1ae331</td>\n",
       "    </tr>\n",
       "    <tr>\n",
       "      <th>3</th>\n",
       "      <td>0</td>\n",
       "      <td>-0.894306</td>\n",
       "      <td>NaN</td>\n",
       "      <td>0.407084</td>\n",
       "      <td>0.953840</td>\n",
       "      <td>0.276778</td>\n",
       "      <td>0.396706</td>\n",
       "      <td>0.324023</td>\n",
       "      <td>0.869964</td>\n",
       "      <td>0.591389</td>\n",
       "      <td>...</td>\n",
       "      <td>27c07bd6</td>\n",
       "      <td>a78bd508</td>\n",
       "      <td>21ddcdc9</td>\n",
       "      <td>5840adea</td>\n",
       "      <td>c2a93b37</td>\n",
       "      <td>ad3062eb</td>\n",
       "      <td>32c7478e</td>\n",
       "      <td>1793a828</td>\n",
       "      <td>e8b83407</td>\n",
       "      <td>2fede552</td>\n",
       "    </tr>\n",
       "    <tr>\n",
       "      <th>4</th>\n",
       "      <td>0</td>\n",
       "      <td>-0.894306</td>\n",
       "      <td>NaN</td>\n",
       "      <td>-0.641655</td>\n",
       "      <td>2.324844</td>\n",
       "      <td>0.090617</td>\n",
       "      <td>1.085939</td>\n",
       "      <td>-0.180168</td>\n",
       "      <td>1.510073</td>\n",
       "      <td>0.897876</td>\n",
       "      <td>...</td>\n",
       "      <td>07c540c4</td>\n",
       "      <td>e7e991cb</td>\n",
       "      <td>68c36492</td>\n",
       "      <td>a458ea53</td>\n",
       "      <td>catFeature21-bucket</td>\n",
       "      <td>NaN</td>\n",
       "      <td>3a171ecb</td>\n",
       "      <td>catFeature24-bucket</td>\n",
       "      <td>fd2fe0bd</td>\n",
       "      <td>catFeature26-bucket</td>\n",
       "    </tr>\n",
       "  </tbody>\n",
       "</table>\n",
       "<p>5 rows × 66 columns</p>\n",
       "</div>"
      ],
      "text/plain": [
       "   label  intFeature1  intFeature2  intFeature3  intFeature4  intFeature5  \\\n",
       "0      0          NaN          NaN     1.099131    -0.101163     1.067417   \n",
       "1      1          NaN          NaN    -1.221917          NaN     0.515437   \n",
       "2      1    -0.894306          NaN    -0.454853    -0.665177     0.238106   \n",
       "3      0    -0.894306          NaN     0.407084     0.953840     0.276778   \n",
       "4      0    -0.894306          NaN    -0.641655     2.324844     0.090617   \n",
       "\n",
       "   intFeature6  intFeature7  intFeature8  intFeature9         ...           \\\n",
       "0          NaN    -1.188550    -0.565069    -1.189582         ...            \n",
       "1    -1.153559     0.226893    -1.764770     0.495264         ...            \n",
       "2     0.325690     1.181370     0.687097     0.893698         ...            \n",
       "3     0.396706     0.324023     0.869964     0.591389         ...            \n",
       "4     1.085939    -0.180168     1.510073     0.897876         ...            \n",
       "\n",
       "   catFeature17_binned  catFeature18_binned  catFeature19_binned  \\\n",
       "0             1e88c74f             9880032b             21ddcdc9   \n",
       "1             e5ba7672             47e4d79e             21ddcdc9   \n",
       "2             e5ba7672             3cb7e3f0             21ddcdc9   \n",
       "3             27c07bd6             a78bd508             21ddcdc9   \n",
       "4             07c540c4             e7e991cb             68c36492   \n",
       "\n",
       "   catFeature20_binned  catFeature21_binned catFeature22_binned  \\\n",
       "0             5840adea  catFeature21-bucket                 NaN   \n",
       "1             a458ea53  catFeature21-bucket                 NaN   \n",
       "2             b1252a9d             59a15e58                 NaN   \n",
       "3             5840adea             c2a93b37            ad3062eb   \n",
       "4             a458ea53  catFeature21-bucket                 NaN   \n",
       "\n",
       "  catFeature23_binned  catFeature24_binned catFeature25_binned  \\\n",
       "0            32c7478e             5f13bb00            fd2fe0bd   \n",
       "1            32c7478e             a9d771cd            c9f3bea7   \n",
       "2            93bad2c0             8d653a3e            445bbe3b   \n",
       "3            32c7478e             1793a828            e8b83407   \n",
       "4            3a171ecb  catFeature24-bucket            fd2fe0bd   \n",
       "\n",
       "   catFeature26_binned  \n",
       "0             aa5f0a15  \n",
       "1             0a47000d  \n",
       "2             8e1ae331  \n",
       "3             2fede552  \n",
       "4  catFeature26-bucket  \n",
       "\n",
       "[5 rows x 66 columns]"
      ]
     },
     "execution_count": 7,
     "metadata": {},
     "output_type": "execute_result"
    }
   ],
   "source": [
    "#read in normalized train data\n",
    "trainLogNormBinned = pd.read_csv('eda/trainSampleLogNorm_Binned.csv')\n",
    "trainLogNormBinned.head(5)"
   ]
  },
  {
   "cell_type": "code",
   "execution_count": 19,
   "metadata": {},
   "outputs": [],
   "source": [
    "#cleaning for train/test\n",
    "#drop intFeature12 and catFeature22 based on columnwise incompleteness\n",
    "trainLogNormBinned = trainLogNormBinned.drop(columns = ['intFeature12','catFeature22'])\n",
    "#dropping rowise incompleteness (must be 3/4 complete)\n"
   ]
  },
  {
   "cell_type": "code",
   "execution_count": 31,
   "metadata": {},
   "outputs": [],
   "source": [
    "#drop form cat variables (unbinned)\n",
    "# unbinned_catFeatures = ['catFeature1', 'catFeature2', 'catFeature3', 'catFeature4',\n",
    "#        'catFeature5', 'catFeature6', 'catFeature7', 'catFeature8',\n",
    "#        'catFeature9', 'catFeature10', 'catFeature11', 'catFeature12',\n",
    "#        'catFeature13', 'catFeature14', 'catFeature15', 'catFeature16',\n",
    "#        'catFeature17', 'catFeature18', 'catFeature19', 'catFeature20',\n",
    "#        'catFeature21', 'catFeature23', 'catFeature24', 'catFeature25',\n",
    "#        'catFeature26']\n",
    "# trainLogNormBinned = trainLogNormBinned.drop(columns = unbinned_catFeatures)\n"
   ]
  },
  {
   "cell_type": "code",
   "execution_count": 33,
   "metadata": {},
   "outputs": [
    {
     "data": {
      "text/plain": [
       "(2291847, 38)"
      ]
     },
     "execution_count": 33,
     "metadata": {},
     "output_type": "execute_result"
    }
   ],
   "source": [
    "# trainLogNormBinned = trainLogNormBinned.drop(columns = ['catFeature22_binned'])\n",
    "trainLogNormBinned.shape"
   ]
  },
  {
   "cell_type": "code",
   "execution_count": 23,
   "metadata": {},
   "outputs": [],
   "source": [
    "trainLogNormBinned = trainLogNormBinned.dropna(thresh = 30 )"
   ]
  },
  {
   "cell_type": "code",
   "execution_count": 36,
   "metadata": {},
   "outputs": [
    {
     "data": {
      "text/plain": [
       "(2291847, 38)"
      ]
     },
     "execution_count": 36,
     "metadata": {},
     "output_type": "execute_result"
    }
   ],
   "source": [
    "trainLogNormBinned.shape"
   ]
  },
  {
   "cell_type": "code",
   "execution_count": 51,
   "metadata": {},
   "outputs": [],
   "source": [
    "#replacing missing categorical values with its own bucket (_NA)\n",
    "catFeatures = trainLogNormBinned.columns[13:]\n",
    "for f in catFeatures:\n",
    "    new_bucket = f+\"_NA\"\n",
    "    trainLogNormBinned[f].fillna(new_bucket,inplace = True)"
   ]
  },
  {
   "cell_type": "code",
   "execution_count": 54,
   "metadata": {},
   "outputs": [
    {
     "data": {
      "text/plain": [
       "-3.668122845783655e-12"
      ]
     },
     "execution_count": 54,
     "metadata": {},
     "output_type": "execute_result"
    }
   ],
   "source": [
    "trainLogNormBinned['intFeature2'].mean()"
   ]
  },
  {
   "cell_type": "code",
   "execution_count": 55,
   "metadata": {},
   "outputs": [],
   "source": [
    "#replacing missing integer values with the mean\n",
    "intFeatures = trainLogNormBinned.columns[1:13]\n",
    "for f in intFeatures:\n",
    "    colMean = trainLogNormBinned[f].mean()\n",
    "    trainLogNormBinned[f].fillna(colMean,inplace = True)"
   ]
  },
  {
   "cell_type": "code",
   "execution_count": 80,
   "metadata": {},
   "outputs": [],
   "source": [
    "#write pre-processed data to file for later use\n",
    "trainLogNormBinned.to_csv('eda/pre-processed.csv', index = False)"
   ]
  },
  {
   "cell_type": "code",
   "execution_count": null,
   "metadata": {},
   "outputs": [],
   "source": [
    "#read pre-processed data\n"
   ]
  },
  {
   "cell_type": "code",
   "execution_count": 65,
   "metadata": {},
   "outputs": [],
   "source": [
    "#split processed data into train and test set\n",
    "from sklearn.model_selection import train_test_split\n",
    "y = trainLogNormBinned.label\n",
    "X = trainLogNormBinned.drop(columns = ['label'])\n",
    "X_train, X_test, y_train, y_test = train_test_split(X, y, test_size=0.20, random_state=11)"
   ]
  },
  {
   "cell_type": "code",
   "execution_count": 73,
   "metadata": {},
   "outputs": [],
   "source": [
    "#write to file train and test data for later use\n",
    "X_train.to_csv('eda/X_train.csv', index = False)\n",
    "X_test.to_csv('eda/X_test.csv', index = False)\n",
    "y_train.to_csv('eda/y_train.csv', index = False)\n",
    "y_test.to_csv('eda/y_test.csv', index = False)"
   ]
  },
  {
   "cell_type": "code",
   "execution_count": 75,
   "metadata": {},
   "outputs": [],
   "source": [
    "intFeatures = trainLogNormBinned.columns[1:13]\n",
    "catFeatures = trainLogNormBinned.columns[13:]\n",
    "target = trainLogNormBinned.columns[0]"
   ]
  },
  {
   "cell_type": "markdown",
   "metadata": {},
   "source": [
    "### Taking a Go at Logistic Regression as is on Pre-Processed Data"
   ]
  },
  {
   "cell_type": "markdown",
   "metadata": {},
   "source": [
    "#### Notes on the preprocessed data\n",
    "* dropped intFeature12 and catFeature22 based on columnwise incompleteness\n",
    "* dropped rows missing 3/4 or more of total features values ~at least 30 columns needed to have data\n",
    "* converted negative integer values in intFeature2 to absolute value (assumed negative was input error)\n",
    "* log transformed and normalized integer features\n",
    "* bucketed levels/labels that have fewer than 30 observations into a single level/label per category feature (ends with _binned)\n",
    "* imputed NaN values:\n",
    "    *created a new label/level for categorical NaN values\n",
    "    *imputed mean of column for int features\n",
    "    \n",
    "Resources:\n",
    "- [see logistic regression section](https://spark.apache.org/docs/latest/mllib-linear-methods.html)"
   ]
  },
  {
   "cell_type": "code",
   "execution_count": 30,
   "metadata": {},
   "outputs": [],
   "source": [
    "intFeatures = ['intFeature1', 'intFeature2', 'intFeature3', 'intFeature4',\n",
    "       'intFeature5', 'intFeature6', 'intFeature7', 'intFeature8',\n",
    "       'intFeature9', 'intFeature10', 'intFeature11', 'intFeature13']\n",
    "catFeatures = ['catFeature3_binned', 'catFeature1_binned', 'catFeature2_binned',\n",
    "       'catFeature4_binned', 'catFeature5_binned', 'catFeature6_binned',\n",
    "       'catFeature7_binned', 'catFeature8_binned', 'catFeature9_binned',\n",
    "       'catFeature10_binned', 'catFeature11_binned', 'catFeature12_binned',\n",
    "       'catFeature13_binned', 'catFeature14_binned', 'catFeature15_binned',\n",
    "       'catFeature16_binned', 'catFeature17_binned', 'catFeature18_binned',\n",
    "       'catFeature19_binned', 'catFeature20_binned', 'catFeature21_binned',\n",
    "       'catFeature23_binned', 'catFeature24_binned', 'catFeature25_binned',\n",
    "       'catFeature26_binned']\n",
    "\n",
    "target = ['click']"
   ]
  },
  {
   "cell_type": "code",
   "execution_count": 7,
   "metadata": {},
   "outputs": [],
   "source": [
    "#setting schema and reading in pre-processed data to pyspark dataframe\n",
    "outcomeField = [StructField(\"click\", IntegerType(), True)]\n",
    "quantFields = [StructField(f, DoubleType(), True) for f in intFeatures]\n",
    "qualFields = [StructField(f, StringType(), True) for f in catFeatures]\n",
    "schema = StructType(outcomeField + quantFields + qualFields)\n",
    "\n",
    "df = spark.read.schema(schema) \\\n",
    "    .option(\"ignoreLeadingWhiteSpace\",True) \\\n",
    "    .option(\"ignoreTrailingWhiteSpace\",True) \\\n",
    "    .csv('eda/pre-processed.csv',nullValue = \"NaN\")"
   ]
  },
  {
   "cell_type": "code",
   "execution_count": 8,
   "metadata": {},
   "outputs": [],
   "source": [
    "catCols = [f for f in df.columns if \"cat\" in f]\n",
    "numericCols = [f for f in df.columns if \"int\" in f]\n",
    "target = ['click']\n",
    "indexers = [StringIndexer(inputCol=c, outputCol=\"{0}_indexed\".format(c), handleInvalid=\"skip\") for c in catCols]\n",
    "label = StringIndexer(inputCol= target[0], outputCol=\"label\", handleInvalid=\"skip\")"
   ]
  },
  {
   "cell_type": "code",
   "execution_count": 9,
   "metadata": {},
   "outputs": [],
   "source": [
    "#formatting for logistic regression\n",
    "encoder = OneHotEncoderEstimator(\n",
    "    inputCols=[indexer.getOutputCol() for indexer in indexers],\n",
    "    outputCols=[\"{0}_encoded\".format(indexer.getOutputCol()) for indexer in indexers],\n",
    "    dropLast=False)\n",
    "\n",
    "assembler = VectorAssembler(\n",
    "    inputCols= encoder.getOutputCols() + numericCols,\n",
    "    outputCol= \"features\")\n",
    "\n",
    "pipeline = Pipeline(stages = indexers + [encoder,assembler,label])\n",
    "\n",
    "processedDF = pipeline.fit(df).transform(df)"
   ]
  },
  {
   "cell_type": "code",
   "execution_count": 10,
   "metadata": {},
   "outputs": [
    {
     "data": {
      "text/plain": [
       "DataFrame[label: double, features: vector]"
      ]
     },
     "metadata": {},
     "output_type": "display_data"
    }
   ],
   "source": [
    "# Keep relevant columns\n",
    "selectedcols = [\"label\", \"features\"]\n",
    "dataset = processedDF.select(selectedcols)\n",
    "display(dataset)"
   ]
  },
  {
   "cell_type": "code",
   "execution_count": 11,
   "metadata": {},
   "outputs": [
    {
     "name": "stdout",
     "output_type": "stream",
     "text": [
      "1603982\n",
      "687865\n"
     ]
    }
   ],
   "source": [
    "### Randomly split data into training and test sets. set seed for reproducibility\n",
    "(trainingData, testData) = dataset.randomSplit([0.7, 0.3], seed=100)\n",
    "print(trainingData.count())\n",
    "print(testData.count())"
   ]
  },
  {
   "cell_type": "code",
   "execution_count": 12,
   "metadata": {},
   "outputs": [],
   "source": [
    "# Create initial LogisticRegression model\n",
    "from pyspark.ml.classification import LogisticRegression\n",
    "lr = LogisticRegression(labelCol=\"label\", featuresCol=\"features\", maxIter=10)\n",
    "# Train model with Training Data\n",
    "lrModel = lr.fit(trainingData)"
   ]
  },
  {
   "cell_type": "code",
   "execution_count": 14,
   "metadata": {},
   "outputs": [],
   "source": [
    "# Make predictions on test data using the transform() method. - LogisticRegression.transform() will only use the 'features' column.\n",
    "predictions = lrModel.transform(testData)"
   ]
  },
  {
   "cell_type": "code",
   "execution_count": 15,
   "metadata": {},
   "outputs": [
    {
     "name": "stdout",
     "output_type": "stream",
     "text": [
      "+-----+----------+--------------------+\n",
      "|label|prediction|         probability|\n",
      "+-----+----------+--------------------+\n",
      "|  0.0|       0.0|[0.92870709566892...|\n",
      "|  0.0|       0.0|[0.85836635788769...|\n",
      "|  0.0|       0.0|[0.89089600238478...|\n",
      "|  0.0|       0.0|[0.85420658571523...|\n",
      "|  0.0|       0.0|[0.61823702911393...|\n",
      "+-----+----------+--------------------+\n",
      "only showing top 5 rows\n",
      "\n"
     ]
    }
   ],
   "source": [
    "# View model's predictions and probabilities of each prediction class\n",
    "# You can select any columns granted they're in the schema\n",
    "selected = predictions.select(\"label\", \"prediction\", \"probability\")\n",
    "selected.show(5)"
   ]
  },
  {
   "cell_type": "markdown",
   "metadata": {},
   "source": [
    "#### Evaluation of Logistic Regression Model Fit\n",
    "\n",
    "[scikit LogLoss](https://scikit-learn.org/stable/modules/model_evaluation.html#log-loss)\n",
    "\n",
    "[when accuracy doesn't make sense](https://towardsdatascience.com/metrics-to-evaluate-your-machine-learning-algorithm-f10ba6e38234)\n",
    "\n",
    "[good site for log loss](https://deeplearningretreat.com/understanding-binary-cross-entropy-log-loss-a-visual-explanation/)"
   ]
  },
  {
   "cell_type": "markdown",
   "metadata": {},
   "source": [
    "Accuracy vs LogLoss(cross-entropy loss)\n",
    "\n",
    "* Accuracy is the number of predictions correct out of all predictions. Accuracy can be a flawed evaluation metric when there is a sizable discrepancy between the number of samples belonging to each class. In the context of our dataset, roughly 3/4 of the data belong to our \"no-click\" class (0) and 1/4 of the sample belongs to our \"click\" class (1). Given that ratio, our model can easily get 75% training accuracy by simply predicting every training sample belonging to the \"no-click\" class. Accuracy tends to work well only when there are a near equal number of samples belonging to each class. Further, accuracy gives no context with respect to costs. It may be much more costly to make false positives than false negatives. Accuracy doesn't give us a means to make that distinction.\n",
    "\n",
    "* Log loss takes into account the uncertainty of predictions based on how much they vary from the actual label. Log loss penalizes both types of errors, but especially those predications that are confident (higher or lower probabilities) and wrong. Our logistic regression model outputs probabilities for each label (no click, click) so we can use those to compute the log loss of our model. A log loss close to zero implies that are probabilities are both very confident and accurate. So, the lower the log loss, the better the fit."
   ]
  },
  {
   "cell_type": "markdown",
   "metadata": {},
   "source": [
    "for a single sample/record, log loss is defined as the negative log-likelihood of the classifier given the true label:\n",
    "\n",
    "$L_{\\log}(y, p) = -\\log \\operatorname{Pr}(y|p) = -(y \\log (p) + (1 - y) \\log (1 - p))$\n",
    "\n",
    "where $p = \\operatorname{Pr}(y = 1)$ and $y \\in \\{0,1\\}$ is the true label\n",
    "\n",
    "and for the entire dataset:\n",
    "\n",
    "$L_{\\log}(Y, P) = -\\log \\operatorname{Pr}(Y|P) = - \\frac{1}{N} \\sum_{i=0}^{N-1} \\sum_{k=0}^{K-1} y_{i,k} \\log p_{i,k}$"
   ]
  },
  {
   "cell_type": "code",
   "execution_count": 17,
   "metadata": {},
   "outputs": [
    {
     "data": {
      "text/html": [
       "<div>\n",
       "<style scoped>\n",
       "    .dataframe tbody tr th:only-of-type {\n",
       "        vertical-align: middle;\n",
       "    }\n",
       "\n",
       "    .dataframe tbody tr th {\n",
       "        vertical-align: top;\n",
       "    }\n",
       "\n",
       "    .dataframe thead th {\n",
       "        text-align: right;\n",
       "    }\n",
       "</style>\n",
       "<table border=\"1\" class=\"dataframe\">\n",
       "  <thead>\n",
       "    <tr style=\"text-align: right;\">\n",
       "      <th></th>\n",
       "      <th>label</th>\n",
       "      <th>prediction</th>\n",
       "      <th>probability</th>\n",
       "    </tr>\n",
       "  </thead>\n",
       "  <tbody>\n",
       "    <tr>\n",
       "      <th>0</th>\n",
       "      <td>0.0</td>\n",
       "      <td>0.0</td>\n",
       "      <td>[0.9287070956689216, 0.07129290433107825]</td>\n",
       "    </tr>\n",
       "    <tr>\n",
       "      <th>1</th>\n",
       "      <td>0.0</td>\n",
       "      <td>0.0</td>\n",
       "      <td>[0.8583663578876993, 0.1416336421123006]</td>\n",
       "    </tr>\n",
       "    <tr>\n",
       "      <th>2</th>\n",
       "      <td>0.0</td>\n",
       "      <td>0.0</td>\n",
       "      <td>[0.8908960023847876, 0.10910399761521238]</td>\n",
       "    </tr>\n",
       "    <tr>\n",
       "      <th>3</th>\n",
       "      <td>0.0</td>\n",
       "      <td>0.0</td>\n",
       "      <td>[0.8542065857152341, 0.14579341428476583]</td>\n",
       "    </tr>\n",
       "    <tr>\n",
       "      <th>4</th>\n",
       "      <td>0.0</td>\n",
       "      <td>0.0</td>\n",
       "      <td>[0.6182370291139324, 0.38176297088606764]</td>\n",
       "    </tr>\n",
       "  </tbody>\n",
       "</table>\n",
       "</div>"
      ],
      "text/plain": [
       "   label  prediction                                probability\n",
       "0    0.0         0.0  [0.9287070956689216, 0.07129290433107825]\n",
       "1    0.0         0.0   [0.8583663578876993, 0.1416336421123006]\n",
       "2    0.0         0.0  [0.8908960023847876, 0.10910399761521238]\n",
       "3    0.0         0.0  [0.8542065857152341, 0.14579341428476583]\n",
       "4    0.0         0.0  [0.6182370291139324, 0.38176297088606764]"
      ]
     },
     "execution_count": 17,
     "metadata": {},
     "output_type": "execute_result"
    }
   ],
   "source": [
    "#converting to pandas dataframe...has to be a better way to do this with just pyspark\n",
    "mod_output = selected.toPandas()\n",
    "mod_output.head(5)"
   ]
  },
  {
   "cell_type": "code",
   "execution_count": 21,
   "metadata": {},
   "outputs": [
    {
     "data": {
      "text/plain": [
       "0.47331558641314886"
      ]
     },
     "execution_count": 21,
     "metadata": {},
     "output_type": "execute_result"
    }
   ],
   "source": [
    "#pyspark doesn't have a logLoss evaluation method in its Evaluator class so we need to write our own function\n",
    "\n",
    "import math\n",
    "\n",
    "def logLoss(df):\n",
    "    '''takes the pandas dataframe resulting from fitting our test set\n",
    "    against our logistic regression model'''\n",
    "    logLoss_vals = []\n",
    "    epsilon = 1e-16\n",
    "    for idx in df.index:\n",
    "        if df.label[idx] == 1:\n",
    "            #the 2nd element in the list (index 1) is the probability of click\n",
    "            loss = -math.log(df.probability[idx][1] + epsilon)\n",
    "        else:\n",
    "            loss = -math.log(1. - df.probability[idx][1] + epsilon)\n",
    "        \n",
    "        logLoss_vals.append(loss)\n",
    "        \n",
    "    return np.mean(logLoss_vals)\n",
    "\n",
    "logLoss(mod_output)"
   ]
  },
  {
   "cell_type": "markdown",
   "metadata": {},
   "source": [
    "initial model resulted in a LogLoss of .47"
   ]
  },
  {
   "cell_type": "code",
   "execution_count": 43,
   "metadata": {},
   "outputs": [
    {
     "name": "stdout",
     "output_type": "stream",
     "text": [
      "+---------------------+\n",
      "|<lambda>(probability)|\n",
      "+---------------------+\n",
      "|           0.07129291|\n",
      "|           0.14163364|\n",
      "|             0.109104|\n",
      "|           0.14579341|\n",
      "|           0.38176298|\n",
      "+---------------------+\n",
      "only showing top 5 rows\n",
      "\n"
     ]
    }
   ],
   "source": [
    "from pyspark.sql.functions import udf\n",
    "from pyspark.sql.types import FloatType\n",
    "#need a user defined function to manipulate columns of array types\n",
    "firstelement=udf(lambda v:float(v[1]),FloatType())\n",
    "selected.select(firstelement('probability')).show(5)"
   ]
  },
  {
   "cell_type": "code",
   "execution_count": 54,
   "metadata": {},
   "outputs": [],
   "source": [
    "#pyspark implementation for logLoss\n",
    "pyspark_mod = selected.withColumn(\n",
    "        'logloss'\n",
    "        , -f.col('label')*f.log(firstelement(f.col('probability'))) - (1.-f.col('label'))*f.log(1.-firstelement(f.col('probability')))\n",
    "    )\n",
    "pyspark_modLL = pyspark_mod.agg(f.mean('logloss').alias('ll')).collect()[0]['ll']"
   ]
  },
  {
   "cell_type": "code",
   "execution_count": 55,
   "metadata": {},
   "outputs": [
    {
     "data": {
      "text/plain": [
       "0.47331558636583215"
      ]
     },
     "execution_count": 55,
     "metadata": {},
     "output_type": "execute_result"
    }
   ],
   "source": [
    "pyspark_modLL"
   ]
  },
  {
   "cell_type": "code",
   "execution_count": 35,
   "metadata": {},
   "outputs": [
    {
     "data": {
      "text/plain": [
       "0.7751897874589211"
      ]
     },
     "execution_count": 35,
     "metadata": {},
     "output_type": "execute_result"
    }
   ],
   "source": [
    "from pyspark.ml.evaluation import BinaryClassificationEvaluator\n",
    "# Evaluate model accuracy (default is area under ROC curve)\n",
    "evaluator = BinaryClassificationEvaluator(rawPredictionCol=\"rawPrediction\")\n",
    "evaluator.evaluate(predictions)"
   ]
  },
  {
   "cell_type": "markdown",
   "metadata": {},
   "source": [
    "manual feature selection (see preprocessed notes) with binary logistic regression yielded accuracy of .775"
   ]
  },
  {
   "cell_type": "markdown",
   "metadata": {},
   "source": [
    "#### Regularizing with Lasso\n",
    "Lasso shrinks the less important feature’s coefficient to zero, and therefore, may remove some feature altogether. So, this can be another form of feature selection when we have a large number of features\n",
    "[see reference](https://spark.apache.org/docs/1.5.2/ml-linear-methods.html)"
   ]
  },
  {
   "cell_type": "code",
   "execution_count": 37,
   "metadata": {},
   "outputs": [],
   "source": [
    "#logistic regression with lasso regularization\n",
    "lr_l1 = LogisticRegression(labelCol=\"label\", featuresCol=\"features\", regParam=0.0, elasticNetParam =1.0, maxIter=10)\n",
    "# Fit the model\n",
    "lrModel_lasso = lr_l1.fit(trainingData)"
   ]
  },
  {
   "cell_type": "code",
   "execution_count": 38,
   "metadata": {},
   "outputs": [],
   "source": [
    "predictions_lasso = lrModel_lasso.transform(testData)"
   ]
  },
  {
   "cell_type": "code",
   "execution_count": 39,
   "metadata": {},
   "outputs": [
    {
     "data": {
      "text/plain": [
       "0.7751897874589285"
      ]
     },
     "execution_count": 39,
     "metadata": {},
     "output_type": "execute_result"
    }
   ],
   "source": [
    "evaluator = BinaryClassificationEvaluator(rawPredictionCol=\"rawPrediction\")\n",
    "evaluator.evaluate(predictions_lasso)"
   ]
  },
  {
   "cell_type": "markdown",
   "metadata": {},
   "source": [
    "### Testing Fit after Dropping intFeature11\n",
    "removing near perfect collinearity in the dataset"
   ]
  },
  {
   "cell_type": "code",
   "execution_count": 31,
   "metadata": {},
   "outputs": [],
   "source": [
    "#reading in the pre-processed data\n",
    "#setting schema and reading in pre-processed data to pyspark dataframe\n",
    "outcomeField = [StructField(\"click\", IntegerType(), True)]\n",
    "quantFields = [StructField(f, DoubleType(), True) for f in intFeatures]\n",
    "qualFields = [StructField(f, StringType(), True) for f in catFeatures]\n",
    "schema = StructType(outcomeField + quantFields + qualFields)\n",
    "\n",
    "df = spark.read.schema(schema) \\\n",
    "    .option(\"ignoreLeadingWhiteSpace\",True) \\\n",
    "    .option(\"ignoreTrailingWhiteSpace\",True) \\\n",
    "    .csv('eda/pre-processed.csv',nullValue = \"NaN\")"
   ]
  },
  {
   "cell_type": "code",
   "execution_count": 32,
   "metadata": {},
   "outputs": [],
   "source": [
    "#drop feature that is highly correlated with intFeature7\n",
    "df = df.drop('intFeature11')"
   ]
  },
  {
   "cell_type": "code",
   "execution_count": 37,
   "metadata": {},
   "outputs": [],
   "source": [
    "#prep for training\n",
    "catCols = [f for f in df.columns if \"cat\" in f]\n",
    "numericCols = [f for f in df.columns if \"int\" in f]\n",
    "target = ['click']\n",
    "indexers = [StringIndexer(inputCol=c, outputCol=\"{0}_indexed\".format(c), handleInvalid=\"skip\") for c in catCols]\n",
    "label = StringIndexer(inputCol= target[0], outputCol=\"label\", handleInvalid=\"skip\")"
   ]
  },
  {
   "cell_type": "code",
   "execution_count": 38,
   "metadata": {},
   "outputs": [],
   "source": [
    "#formatting for logistic regression\n",
    "encoder = OneHotEncoderEstimator(\n",
    "    inputCols=[indexer.getOutputCol() for indexer in indexers],\n",
    "    outputCols=[\"{0}_encoded\".format(indexer.getOutputCol()) for indexer in indexers],\n",
    "    dropLast=False)\n",
    "\n",
    "assembler = VectorAssembler(\n",
    "    inputCols= encoder.getOutputCols() + numericCols,\n",
    "    outputCol= \"features\")\n",
    "\n",
    "pipeline = Pipeline(stages = indexers + [encoder,assembler,label])\n",
    "\n",
    "processedDF = pipeline.fit(df).transform(df)"
   ]
  },
  {
   "cell_type": "code",
   "execution_count": 40,
   "metadata": {},
   "outputs": [],
   "source": [
    "# Keep relevant columns and split for train/test\n",
    "selectedcols = [\"label\", \"features\"]\n",
    "dataset = processedDF.select(selectedcols)\n",
    "### Randomly split data into training and test sets. set seed for reproducibility\n",
    "(trainingData, testData) = dataset.randomSplit([0.7, 0.3], seed=100)"
   ]
  },
  {
   "cell_type": "code",
   "execution_count": 41,
   "metadata": {},
   "outputs": [],
   "source": [
    "# Create initial LogisticRegression model\n",
    "from pyspark.ml.classification import LogisticRegression\n",
    "lr = LogisticRegression(labelCol=\"label\", featuresCol=\"features\", maxIter=10)\n",
    "# Train model with Training Data\n",
    "lrModel = lr.fit(trainingData)"
   ]
  },
  {
   "cell_type": "code",
   "execution_count": 42,
   "metadata": {},
   "outputs": [],
   "source": [
    "# Make predictions on test data using the transform() method. - LogisticRegression.transform() will only use the 'features' column.\n",
    "predictions = lrModel.transform(testData)\n",
    "# You can select any columns granted they're in the schema\n",
    "selected = predictions.select(\"label\", \"prediction\", \"probability\")"
   ]
  },
  {
   "cell_type": "code",
   "execution_count": 44,
   "metadata": {},
   "outputs": [
    {
     "data": {
      "text/plain": [
       "0.4745497451524262"
      ]
     },
     "execution_count": 44,
     "metadata": {},
     "output_type": "execute_result"
    }
   ],
   "source": [
    "#evaluation of logit fit after dropping intFeature 11 with logLoss\n",
    "from pyspark.sql.functions import udf\n",
    "from pyspark.sql.types import FloatType\n",
    "from pyspark.sql import functions as f\n",
    "#need a user defined function to manipulate columns of array types\n",
    "firstelement=udf(lambda v:float(v[1]),FloatType())\n",
    "\n",
    "#pyspark implementation for logLoss\n",
    "pyspark_mod = selected.withColumn(\n",
    "        'logloss'\n",
    "        , -f.col('label')*f.log(firstelement(f.col('probability'))) - (1.-f.col('label'))*f.log(1.-firstelement(f.col('probability')))\n",
    "    )\n",
    "\n",
    "\n",
    "pyspark_mod.agg(f.mean('logloss').alias('ll')).collect()[0]['ll']"
   ]
  },
  {
   "cell_type": "markdown",
   "metadata": {},
   "source": [
    "### Binning the Int Features data as a method of feature engineering\n",
    "\n",
    "We saw that the integer features were still very skewed after log-transforming and normalizing them. Our model may benefit from improving the distribution of those"
   ]
  },
  {
   "cell_type": "code",
   "execution_count": 8,
   "metadata": {},
   "outputs": [],
   "source": [
    "#load the trainSample into memory with a pandas dataframe\n",
    "import glob\n",
    "files = np.sort(glob.glob('eda/trainSample/*.csv'))\n",
    "trainSample = pd.concat([pd.read_csv(f) for f in files],ignore_index = True)"
   ]
  },
  {
   "cell_type": "code",
   "execution_count": 9,
   "metadata": {},
   "outputs": [],
   "source": [
    "#replace negative values with NaNs in intFeature2\n",
    "f2 = trainSample['intFeature2']\n",
    "neg_vals = f2[f2<0].unique()\n",
    "trainSample.intFeature2 = trainSample['intFeature2'].replace(to_replace = neg_vals, value = np.NaN)"
   ]
  },
  {
   "cell_type": "code",
   "execution_count": 66,
   "metadata": {},
   "outputs": [],
   "source": [
    "#drop columns missing most of their data; drop rows missing most of their data\n",
    "# trainSample = trainSample.drop(columns = ['intFeature12','catFeature22']) \\\n",
    "#                 .dropna(thresh = 30 )"
   ]
  },
  {
   "cell_type": "code",
   "execution_count": 72,
   "metadata": {},
   "outputs": [
    {
     "data": {
      "text/html": [
       "<div>\n",
       "<style scoped>\n",
       "    .dataframe tbody tr th:only-of-type {\n",
       "        vertical-align: middle;\n",
       "    }\n",
       "\n",
       "    .dataframe tbody tr th {\n",
       "        vertical-align: top;\n",
       "    }\n",
       "\n",
       "    .dataframe thead th {\n",
       "        text-align: right;\n",
       "    }\n",
       "</style>\n",
       "<table border=\"1\" class=\"dataframe\">\n",
       "  <thead>\n",
       "    <tr style=\"text-align: right;\">\n",
       "      <th></th>\n",
       "      <th>label</th>\n",
       "      <th>intFeature1</th>\n",
       "      <th>intFeature2</th>\n",
       "      <th>intFeature3</th>\n",
       "      <th>intFeature4</th>\n",
       "      <th>intFeature5</th>\n",
       "      <th>intFeature6</th>\n",
       "      <th>intFeature7</th>\n",
       "      <th>intFeature8</th>\n",
       "      <th>intFeature9</th>\n",
       "      <th>...</th>\n",
       "      <th>catFeature16</th>\n",
       "      <th>catFeature17</th>\n",
       "      <th>catFeature18</th>\n",
       "      <th>catFeature19</th>\n",
       "      <th>catFeature20</th>\n",
       "      <th>catFeature21</th>\n",
       "      <th>catFeature23</th>\n",
       "      <th>catFeature24</th>\n",
       "      <th>catFeature25</th>\n",
       "      <th>catFeature26</th>\n",
       "    </tr>\n",
       "  </thead>\n",
       "  <tbody>\n",
       "    <tr>\n",
       "      <th>0</th>\n",
       "      <td>0</td>\n",
       "      <td>3.504356</td>\n",
       "      <td>115.555623</td>\n",
       "      <td>31.0</td>\n",
       "      <td>4.000000</td>\n",
       "      <td>33060.0</td>\n",
       "      <td>113.874226</td>\n",
       "      <td>0.0</td>\n",
       "      <td>3.0</td>\n",
       "      <td>4.0</td>\n",
       "      <td>...</td>\n",
       "      <td>e43a2c3f</td>\n",
       "      <td>1e88c74f</td>\n",
       "      <td>9880032b</td>\n",
       "      <td>21ddcdc9</td>\n",
       "      <td>5840adea</td>\n",
       "      <td>baf3777b</td>\n",
       "      <td>32c7478e</td>\n",
       "      <td>5f13bb00</td>\n",
       "      <td>fd2fe0bd</td>\n",
       "      <td>aa5f0a15</td>\n",
       "    </tr>\n",
       "    <tr>\n",
       "      <th>1</th>\n",
       "      <td>1</td>\n",
       "      <td>3.504356</td>\n",
       "      <td>115.555623</td>\n",
       "      <td>1.0</td>\n",
       "      <td>7.382695</td>\n",
       "      <td>6576.0</td>\n",
       "      <td>3.000000</td>\n",
       "      <td>6.0</td>\n",
       "      <td>0.0</td>\n",
       "      <td>76.0</td>\n",
       "      <td>...</td>\n",
       "      <td>75aaa8ad</td>\n",
       "      <td>e5ba7672</td>\n",
       "      <td>47e4d79e</td>\n",
       "      <td>21ddcdc9</td>\n",
       "      <td>a458ea53</td>\n",
       "      <td>f93c1581</td>\n",
       "      <td>32c7478e</td>\n",
       "      <td>a9d771cd</td>\n",
       "      <td>c9f3bea7</td>\n",
       "      <td>0a47000d</td>\n",
       "    </tr>\n",
       "    <tr>\n",
       "      <th>2</th>\n",
       "      <td>1</td>\n",
       "      <td>0.000000</td>\n",
       "      <td>115.555623</td>\n",
       "      <td>4.0</td>\n",
       "      <td>2.000000</td>\n",
       "      <td>2921.0</td>\n",
       "      <td>52.000000</td>\n",
       "      <td>25.0</td>\n",
       "      <td>16.0</td>\n",
       "      <td>146.0</td>\n",
       "      <td>...</td>\n",
       "      <td>c2807520</td>\n",
       "      <td>e5ba7672</td>\n",
       "      <td>3cb7e3f0</td>\n",
       "      <td>21ddcdc9</td>\n",
       "      <td>b1252a9d</td>\n",
       "      <td>59a15e58</td>\n",
       "      <td>93bad2c0</td>\n",
       "      <td>8d653a3e</td>\n",
       "      <td>445bbe3b</td>\n",
       "      <td>8e1ae331</td>\n",
       "    </tr>\n",
       "    <tr>\n",
       "      <th>3</th>\n",
       "      <td>0</td>\n",
       "      <td>0.000000</td>\n",
       "      <td>115.555623</td>\n",
       "      <td>13.0</td>\n",
       "      <td>12.000000</td>\n",
       "      <td>3271.0</td>\n",
       "      <td>59.000000</td>\n",
       "      <td>7.0</td>\n",
       "      <td>20.0</td>\n",
       "      <td>89.0</td>\n",
       "      <td>...</td>\n",
       "      <td>587267a3</td>\n",
       "      <td>27c07bd6</td>\n",
       "      <td>a78bd508</td>\n",
       "      <td>21ddcdc9</td>\n",
       "      <td>5840adea</td>\n",
       "      <td>c2a93b37</td>\n",
       "      <td>32c7478e</td>\n",
       "      <td>1793a828</td>\n",
       "      <td>e8b83407</td>\n",
       "      <td>2fede552</td>\n",
       "    </tr>\n",
       "    <tr>\n",
       "      <th>4</th>\n",
       "      <td>0</td>\n",
       "      <td>0.000000</td>\n",
       "      <td>115.555623</td>\n",
       "      <td>3.0</td>\n",
       "      <td>44.000000</td>\n",
       "      <td>1897.0</td>\n",
       "      <td>199.000000</td>\n",
       "      <td>3.0</td>\n",
       "      <td>43.0</td>\n",
       "      <td>147.0</td>\n",
       "      <td>...</td>\n",
       "      <td>d46dd85d</td>\n",
       "      <td>07c540c4</td>\n",
       "      <td>e7e991cb</td>\n",
       "      <td>68c36492</td>\n",
       "      <td>a458ea53</td>\n",
       "      <td>c39d0f12</td>\n",
       "      <td>3a171ecb</td>\n",
       "      <td>abec2c22</td>\n",
       "      <td>fd2fe0bd</td>\n",
       "      <td>22538d57</td>\n",
       "    </tr>\n",
       "  </tbody>\n",
       "</table>\n",
       "<p>5 rows × 38 columns</p>\n",
       "</div>"
      ],
      "text/plain": [
       "   label  intFeature1  intFeature2  intFeature3  intFeature4  intFeature5  \\\n",
       "0      0     3.504356   115.555623         31.0     4.000000      33060.0   \n",
       "1      1     3.504356   115.555623          1.0     7.382695       6576.0   \n",
       "2      1     0.000000   115.555623          4.0     2.000000       2921.0   \n",
       "3      0     0.000000   115.555623         13.0    12.000000       3271.0   \n",
       "4      0     0.000000   115.555623          3.0    44.000000       1897.0   \n",
       "\n",
       "   intFeature6  intFeature7  intFeature8  intFeature9     ...       \\\n",
       "0   113.874226          0.0          3.0          4.0     ...        \n",
       "1     3.000000          6.0          0.0         76.0     ...        \n",
       "2    52.000000         25.0         16.0        146.0     ...        \n",
       "3    59.000000          7.0         20.0         89.0     ...        \n",
       "4   199.000000          3.0         43.0        147.0     ...        \n",
       "\n",
       "   catFeature16  catFeature17  catFeature18 catFeature19 catFeature20  \\\n",
       "0      e43a2c3f      1e88c74f      9880032b     21ddcdc9     5840adea   \n",
       "1      75aaa8ad      e5ba7672      47e4d79e     21ddcdc9     a458ea53   \n",
       "2      c2807520      e5ba7672      3cb7e3f0     21ddcdc9     b1252a9d   \n",
       "3      587267a3      27c07bd6      a78bd508     21ddcdc9     5840adea   \n",
       "4      d46dd85d      07c540c4      e7e991cb     68c36492     a458ea53   \n",
       "\n",
       "  catFeature21 catFeature23 catFeature24 catFeature25 catFeature26  \n",
       "0     baf3777b     32c7478e     5f13bb00     fd2fe0bd     aa5f0a15  \n",
       "1     f93c1581     32c7478e     a9d771cd     c9f3bea7     0a47000d  \n",
       "2     59a15e58     93bad2c0     8d653a3e     445bbe3b     8e1ae331  \n",
       "3     c2a93b37     32c7478e     1793a828     e8b83407     2fede552  \n",
       "4     c39d0f12     3a171ecb     abec2c22     fd2fe0bd     22538d57  \n",
       "\n",
       "[5 rows x 38 columns]"
      ]
     },
     "execution_count": 72,
     "metadata": {},
     "output_type": "execute_result"
    }
   ],
   "source": [
    "#impute mean on int Features\n",
    "intFeatures = trainSample.columns[1:13]\n",
    "for f in intFeatures:\n",
    "    colMean = trainSample[f].mean()\n",
    "    trainSample[f].fillna(colMean,inplace = True)\n",
    "    \n",
    "trainSample.head(5)"
   ]
  },
  {
   "cell_type": "code",
   "execution_count": 73,
   "metadata": {},
   "outputs": [
    {
     "data": {
      "text/html": [
       "<div>\n",
       "<style scoped>\n",
       "    .dataframe tbody tr th:only-of-type {\n",
       "        vertical-align: middle;\n",
       "    }\n",
       "\n",
       "    .dataframe tbody tr th {\n",
       "        vertical-align: top;\n",
       "    }\n",
       "\n",
       "    .dataframe thead th {\n",
       "        text-align: right;\n",
       "    }\n",
       "</style>\n",
       "<table border=\"1\" class=\"dataframe\">\n",
       "  <thead>\n",
       "    <tr style=\"text-align: right;\">\n",
       "      <th></th>\n",
       "      <th>label</th>\n",
       "      <th>intFeature1</th>\n",
       "      <th>intFeature2</th>\n",
       "      <th>intFeature3</th>\n",
       "      <th>intFeature4</th>\n",
       "      <th>intFeature5</th>\n",
       "      <th>intFeature6</th>\n",
       "      <th>intFeature7</th>\n",
       "      <th>intFeature8</th>\n",
       "      <th>intFeature9</th>\n",
       "      <th>...</th>\n",
       "      <th>intFeature3_Qbin</th>\n",
       "      <th>intFeature4_Qbin</th>\n",
       "      <th>intFeature5_Qbin</th>\n",
       "      <th>intFeature6_Qbin</th>\n",
       "      <th>intFeature7_Qbin</th>\n",
       "      <th>intFeature8_Qbin</th>\n",
       "      <th>intFeature9_Qbin</th>\n",
       "      <th>intFeature10_Qbin</th>\n",
       "      <th>intFeature11_Qbin</th>\n",
       "      <th>intFeature13_Qbin</th>\n",
       "    </tr>\n",
       "  </thead>\n",
       "  <tbody>\n",
       "    <tr>\n",
       "      <th>0</th>\n",
       "      <td>0</td>\n",
       "      <td>3.504356</td>\n",
       "      <td>115.555623</td>\n",
       "      <td>31.0</td>\n",
       "      <td>4.000000</td>\n",
       "      <td>33060.0</td>\n",
       "      <td>113.874226</td>\n",
       "      <td>0.0</td>\n",
       "      <td>3.0</td>\n",
       "      <td>4.0</td>\n",
       "      <td>...</td>\n",
       "      <td>(1545001.0, 2060001.0]</td>\n",
       "      <td>(515001.0, 1030001.0]</td>\n",
       "      <td>(1545001.0, 2060001.0]</td>\n",
       "      <td>(1030001.0, 1545001.0]</td>\n",
       "      <td>(0.999, 515001.0]</td>\n",
       "      <td>(0.999, 515001.0]</td>\n",
       "      <td>(0.999, 515001.0]</td>\n",
       "      <td>(515001.0, 1030001.0]</td>\n",
       "      <td>(0.999, 515001.0]</td>\n",
       "      <td>(515001.0, 1030001.0]</td>\n",
       "    </tr>\n",
       "    <tr>\n",
       "      <th>1</th>\n",
       "      <td>1</td>\n",
       "      <td>3.504356</td>\n",
       "      <td>115.555623</td>\n",
       "      <td>1.0</td>\n",
       "      <td>7.382695</td>\n",
       "      <td>6576.0</td>\n",
       "      <td>3.000000</td>\n",
       "      <td>6.0</td>\n",
       "      <td>0.0</td>\n",
       "      <td>76.0</td>\n",
       "      <td>...</td>\n",
       "      <td>(0.999, 515001.0]</td>\n",
       "      <td>(1030001.0, 1545001.0]</td>\n",
       "      <td>(1030001.0, 1545001.0]</td>\n",
       "      <td>(0.999, 515001.0]</td>\n",
       "      <td>(1030001.0, 1545001.0]</td>\n",
       "      <td>(0.999, 515001.0]</td>\n",
       "      <td>(1030001.0, 1545001.0]</td>\n",
       "      <td>(515001.0, 1030001.0]</td>\n",
       "      <td>(1545001.0, 2060001.0]</td>\n",
       "      <td>(1030001.0, 1545001.0]</td>\n",
       "    </tr>\n",
       "    <tr>\n",
       "      <th>2</th>\n",
       "      <td>1</td>\n",
       "      <td>0.000000</td>\n",
       "      <td>115.555623</td>\n",
       "      <td>4.0</td>\n",
       "      <td>2.000000</td>\n",
       "      <td>2921.0</td>\n",
       "      <td>52.000000</td>\n",
       "      <td>25.0</td>\n",
       "      <td>16.0</td>\n",
       "      <td>146.0</td>\n",
       "      <td>...</td>\n",
       "      <td>(515001.0, 1030001.0]</td>\n",
       "      <td>(0.999, 515001.0]</td>\n",
       "      <td>(1030001.0, 1545001.0]</td>\n",
       "      <td>(515001.0, 1030001.0]</td>\n",
       "      <td>(1545001.0, 2060001.0]</td>\n",
       "      <td>(1030001.0, 1545001.0]</td>\n",
       "      <td>(1545001.0, 2060001.0]</td>\n",
       "      <td>(0.999, 515001.0]</td>\n",
       "      <td>(1030001.0, 1545001.0]</td>\n",
       "      <td>(0.999, 515001.0]</td>\n",
       "    </tr>\n",
       "    <tr>\n",
       "      <th>3</th>\n",
       "      <td>0</td>\n",
       "      <td>0.000000</td>\n",
       "      <td>115.555623</td>\n",
       "      <td>13.0</td>\n",
       "      <td>12.000000</td>\n",
       "      <td>3271.0</td>\n",
       "      <td>59.000000</td>\n",
       "      <td>7.0</td>\n",
       "      <td>20.0</td>\n",
       "      <td>89.0</td>\n",
       "      <td>...</td>\n",
       "      <td>(1030001.0, 1545001.0]</td>\n",
       "      <td>(1545001.0, 2060001.0]</td>\n",
       "      <td>(1030001.0, 1545001.0]</td>\n",
       "      <td>(1030001.0, 1545001.0]</td>\n",
       "      <td>(1030001.0, 1545001.0]</td>\n",
       "      <td>(1030001.0, 1545001.0]</td>\n",
       "      <td>(1030001.0, 1545001.0]</td>\n",
       "      <td>(0.999, 515001.0]</td>\n",
       "      <td>(1030001.0, 1545001.0]</td>\n",
       "      <td>(1545001.0, 2060001.0]</td>\n",
       "    </tr>\n",
       "    <tr>\n",
       "      <th>4</th>\n",
       "      <td>0</td>\n",
       "      <td>0.000000</td>\n",
       "      <td>115.555623</td>\n",
       "      <td>3.0</td>\n",
       "      <td>44.000000</td>\n",
       "      <td>1897.0</td>\n",
       "      <td>199.000000</td>\n",
       "      <td>3.0</td>\n",
       "      <td>43.0</td>\n",
       "      <td>147.0</td>\n",
       "      <td>...</td>\n",
       "      <td>(0.999, 515001.0]</td>\n",
       "      <td>(1545001.0, 2060001.0]</td>\n",
       "      <td>(515001.0, 1030001.0]</td>\n",
       "      <td>(1545001.0, 2060001.0]</td>\n",
       "      <td>(515001.0, 1030001.0]</td>\n",
       "      <td>(1545001.0, 2060001.0]</td>\n",
       "      <td>(1545001.0, 2060001.0]</td>\n",
       "      <td>(0.999, 515001.0]</td>\n",
       "      <td>(1030001.0, 1545001.0]</td>\n",
       "      <td>(1545001.0, 2060001.0]</td>\n",
       "    </tr>\n",
       "  </tbody>\n",
       "</table>\n",
       "<p>5 rows × 50 columns</p>\n",
       "</div>"
      ],
      "text/plain": [
       "   label  intFeature1  intFeature2  intFeature3  intFeature4  intFeature5  \\\n",
       "0      0     3.504356   115.555623         31.0     4.000000      33060.0   \n",
       "1      1     3.504356   115.555623          1.0     7.382695       6576.0   \n",
       "2      1     0.000000   115.555623          4.0     2.000000       2921.0   \n",
       "3      0     0.000000   115.555623         13.0    12.000000       3271.0   \n",
       "4      0     0.000000   115.555623          3.0    44.000000       1897.0   \n",
       "\n",
       "   intFeature6  intFeature7  intFeature8  intFeature9           ...            \\\n",
       "0   113.874226          0.0          3.0          4.0           ...             \n",
       "1     3.000000          6.0          0.0         76.0           ...             \n",
       "2    52.000000         25.0         16.0        146.0           ...             \n",
       "3    59.000000          7.0         20.0         89.0           ...             \n",
       "4   199.000000          3.0         43.0        147.0           ...             \n",
       "\n",
       "         intFeature3_Qbin        intFeature4_Qbin        intFeature5_Qbin  \\\n",
       "0  (1545001.0, 2060001.0]   (515001.0, 1030001.0]  (1545001.0, 2060001.0]   \n",
       "1       (0.999, 515001.0]  (1030001.0, 1545001.0]  (1030001.0, 1545001.0]   \n",
       "2   (515001.0, 1030001.0]       (0.999, 515001.0]  (1030001.0, 1545001.0]   \n",
       "3  (1030001.0, 1545001.0]  (1545001.0, 2060001.0]  (1030001.0, 1545001.0]   \n",
       "4       (0.999, 515001.0]  (1545001.0, 2060001.0]   (515001.0, 1030001.0]   \n",
       "\n",
       "         intFeature6_Qbin        intFeature7_Qbin        intFeature8_Qbin  \\\n",
       "0  (1030001.0, 1545001.0]       (0.999, 515001.0]       (0.999, 515001.0]   \n",
       "1       (0.999, 515001.0]  (1030001.0, 1545001.0]       (0.999, 515001.0]   \n",
       "2   (515001.0, 1030001.0]  (1545001.0, 2060001.0]  (1030001.0, 1545001.0]   \n",
       "3  (1030001.0, 1545001.0]  (1030001.0, 1545001.0]  (1030001.0, 1545001.0]   \n",
       "4  (1545001.0, 2060001.0]   (515001.0, 1030001.0]  (1545001.0, 2060001.0]   \n",
       "\n",
       "         intFeature9_Qbin      intFeature10_Qbin       intFeature11_Qbin  \\\n",
       "0       (0.999, 515001.0]  (515001.0, 1030001.0]       (0.999, 515001.0]   \n",
       "1  (1030001.0, 1545001.0]  (515001.0, 1030001.0]  (1545001.0, 2060001.0]   \n",
       "2  (1545001.0, 2060001.0]      (0.999, 515001.0]  (1030001.0, 1545001.0]   \n",
       "3  (1030001.0, 1545001.0]      (0.999, 515001.0]  (1030001.0, 1545001.0]   \n",
       "4  (1545001.0, 2060001.0]      (0.999, 515001.0]  (1030001.0, 1545001.0]   \n",
       "\n",
       "        intFeature13_Qbin  \n",
       "0   (515001.0, 1030001.0]  \n",
       "1  (1030001.0, 1545001.0]  \n",
       "2       (0.999, 515001.0]  \n",
       "3  (1545001.0, 2060001.0]  \n",
       "4  (1545001.0, 2060001.0]  \n",
       "\n",
       "[5 rows x 50 columns]"
      ]
     },
     "execution_count": 73,
     "metadata": {},
     "output_type": "execute_result"
    }
   ],
   "source": [
    "#iteratively build dataframe with quantile binning on intFeatures\n",
    "\n",
    "for f in intFeatures:\n",
    "    newCol_name = f + \"_Qbin\"\n",
    "    trainSample[newCol_name] = pd.qcut(trainSample[f].rank(method='first'), 4)\n",
    "\n",
    "trainSample.head(5)"
   ]
  },
  {
   "cell_type": "code",
   "execution_count": 78,
   "metadata": {},
   "outputs": [
    {
     "data": {
      "text/html": [
       "<div>\n",
       "<style scoped>\n",
       "    .dataframe tbody tr th:only-of-type {\n",
       "        vertical-align: middle;\n",
       "    }\n",
       "\n",
       "    .dataframe tbody tr th {\n",
       "        vertical-align: top;\n",
       "    }\n",
       "\n",
       "    .dataframe thead th {\n",
       "        text-align: right;\n",
       "    }\n",
       "</style>\n",
       "<table border=\"1\" class=\"dataframe\">\n",
       "  <thead>\n",
       "    <tr style=\"text-align: right;\">\n",
       "      <th></th>\n",
       "      <th>label</th>\n",
       "      <th>intFeature1</th>\n",
       "      <th>intFeature2</th>\n",
       "      <th>intFeature3</th>\n",
       "      <th>intFeature4</th>\n",
       "      <th>intFeature5</th>\n",
       "      <th>intFeature6</th>\n",
       "      <th>intFeature7</th>\n",
       "      <th>intFeature8</th>\n",
       "      <th>intFeature9</th>\n",
       "      <th>...</th>\n",
       "      <th>catFeature16_binned</th>\n",
       "      <th>catFeature17_binned</th>\n",
       "      <th>catFeature18_binned</th>\n",
       "      <th>catFeature19_binned</th>\n",
       "      <th>catFeature20_binned</th>\n",
       "      <th>catFeature21_binned</th>\n",
       "      <th>catFeature23_binned</th>\n",
       "      <th>catFeature24_binned</th>\n",
       "      <th>catFeature25_binned</th>\n",
       "      <th>catFeature26_binned</th>\n",
       "    </tr>\n",
       "  </thead>\n",
       "  <tbody>\n",
       "    <tr>\n",
       "      <th>0</th>\n",
       "      <td>0</td>\n",
       "      <td>3.504356</td>\n",
       "      <td>115.555623</td>\n",
       "      <td>31.0</td>\n",
       "      <td>4.000000</td>\n",
       "      <td>33060.0</td>\n",
       "      <td>113.874226</td>\n",
       "      <td>0.0</td>\n",
       "      <td>3.0</td>\n",
       "      <td>4.0</td>\n",
       "      <td>...</td>\n",
       "      <td>e43a2c3f</td>\n",
       "      <td>1e88c74f</td>\n",
       "      <td>9880032b</td>\n",
       "      <td>21ddcdc9</td>\n",
       "      <td>5840adea</td>\n",
       "      <td>catFeature21-bucket</td>\n",
       "      <td>32c7478e</td>\n",
       "      <td>5f13bb00</td>\n",
       "      <td>fd2fe0bd</td>\n",
       "      <td>aa5f0a15</td>\n",
       "    </tr>\n",
       "    <tr>\n",
       "      <th>1</th>\n",
       "      <td>1</td>\n",
       "      <td>3.504356</td>\n",
       "      <td>115.555623</td>\n",
       "      <td>1.0</td>\n",
       "      <td>7.382695</td>\n",
       "      <td>6576.0</td>\n",
       "      <td>3.000000</td>\n",
       "      <td>6.0</td>\n",
       "      <td>0.0</td>\n",
       "      <td>76.0</td>\n",
       "      <td>...</td>\n",
       "      <td>catFeature16-bucket</td>\n",
       "      <td>e5ba7672</td>\n",
       "      <td>47e4d79e</td>\n",
       "      <td>21ddcdc9</td>\n",
       "      <td>a458ea53</td>\n",
       "      <td>catFeature21-bucket</td>\n",
       "      <td>32c7478e</td>\n",
       "      <td>a9d771cd</td>\n",
       "      <td>c9f3bea7</td>\n",
       "      <td>0a47000d</td>\n",
       "    </tr>\n",
       "    <tr>\n",
       "      <th>2</th>\n",
       "      <td>1</td>\n",
       "      <td>0.000000</td>\n",
       "      <td>115.555623</td>\n",
       "      <td>4.0</td>\n",
       "      <td>2.000000</td>\n",
       "      <td>2921.0</td>\n",
       "      <td>52.000000</td>\n",
       "      <td>25.0</td>\n",
       "      <td>16.0</td>\n",
       "      <td>146.0</td>\n",
       "      <td>...</td>\n",
       "      <td>c2807520</td>\n",
       "      <td>e5ba7672</td>\n",
       "      <td>3cb7e3f0</td>\n",
       "      <td>21ddcdc9</td>\n",
       "      <td>b1252a9d</td>\n",
       "      <td>59a15e58</td>\n",
       "      <td>93bad2c0</td>\n",
       "      <td>8d653a3e</td>\n",
       "      <td>445bbe3b</td>\n",
       "      <td>8e1ae331</td>\n",
       "    </tr>\n",
       "    <tr>\n",
       "      <th>3</th>\n",
       "      <td>0</td>\n",
       "      <td>0.000000</td>\n",
       "      <td>115.555623</td>\n",
       "      <td>13.0</td>\n",
       "      <td>12.000000</td>\n",
       "      <td>3271.0</td>\n",
       "      <td>59.000000</td>\n",
       "      <td>7.0</td>\n",
       "      <td>20.0</td>\n",
       "      <td>89.0</td>\n",
       "      <td>...</td>\n",
       "      <td>587267a3</td>\n",
       "      <td>27c07bd6</td>\n",
       "      <td>a78bd508</td>\n",
       "      <td>21ddcdc9</td>\n",
       "      <td>5840adea</td>\n",
       "      <td>c2a93b37</td>\n",
       "      <td>32c7478e</td>\n",
       "      <td>1793a828</td>\n",
       "      <td>e8b83407</td>\n",
       "      <td>2fede552</td>\n",
       "    </tr>\n",
       "    <tr>\n",
       "      <th>4</th>\n",
       "      <td>0</td>\n",
       "      <td>0.000000</td>\n",
       "      <td>115.555623</td>\n",
       "      <td>3.0</td>\n",
       "      <td>44.000000</td>\n",
       "      <td>1897.0</td>\n",
       "      <td>199.000000</td>\n",
       "      <td>3.0</td>\n",
       "      <td>43.0</td>\n",
       "      <td>147.0</td>\n",
       "      <td>...</td>\n",
       "      <td>catFeature16-bucket</td>\n",
       "      <td>07c540c4</td>\n",
       "      <td>e7e991cb</td>\n",
       "      <td>68c36492</td>\n",
       "      <td>a458ea53</td>\n",
       "      <td>catFeature21-bucket</td>\n",
       "      <td>3a171ecb</td>\n",
       "      <td>catFeature24-bucket</td>\n",
       "      <td>fd2fe0bd</td>\n",
       "      <td>catFeature26-bucket</td>\n",
       "    </tr>\n",
       "  </tbody>\n",
       "</table>\n",
       "<p>5 rows × 75 columns</p>\n",
       "</div>"
      ],
      "text/plain": [
       "   label  intFeature1  intFeature2  intFeature3  intFeature4  intFeature5  \\\n",
       "0      0     3.504356   115.555623         31.0     4.000000      33060.0   \n",
       "1      1     3.504356   115.555623          1.0     7.382695       6576.0   \n",
       "2      1     0.000000   115.555623          4.0     2.000000       2921.0   \n",
       "3      0     0.000000   115.555623         13.0    12.000000       3271.0   \n",
       "4      0     0.000000   115.555623          3.0    44.000000       1897.0   \n",
       "\n",
       "   intFeature6  intFeature7  intFeature8  intFeature9         ...           \\\n",
       "0   113.874226          0.0          3.0          4.0         ...            \n",
       "1     3.000000          6.0          0.0         76.0         ...            \n",
       "2    52.000000         25.0         16.0        146.0         ...            \n",
       "3    59.000000          7.0         20.0         89.0         ...            \n",
       "4   199.000000          3.0         43.0        147.0         ...            \n",
       "\n",
       "   catFeature16_binned  catFeature17_binned  catFeature18_binned  \\\n",
       "0             e43a2c3f             1e88c74f             9880032b   \n",
       "1  catFeature16-bucket             e5ba7672             47e4d79e   \n",
       "2             c2807520             e5ba7672             3cb7e3f0   \n",
       "3             587267a3             27c07bd6             a78bd508   \n",
       "4  catFeature16-bucket             07c540c4             e7e991cb   \n",
       "\n",
       "  catFeature19_binned catFeature20_binned  catFeature21_binned  \\\n",
       "0            21ddcdc9            5840adea  catFeature21-bucket   \n",
       "1            21ddcdc9            a458ea53  catFeature21-bucket   \n",
       "2            21ddcdc9            b1252a9d             59a15e58   \n",
       "3            21ddcdc9            5840adea             c2a93b37   \n",
       "4            68c36492            a458ea53  catFeature21-bucket   \n",
       "\n",
       "  catFeature23_binned  catFeature24_binned catFeature25_binned  \\\n",
       "0            32c7478e             5f13bb00            fd2fe0bd   \n",
       "1            32c7478e             a9d771cd            c9f3bea7   \n",
       "2            93bad2c0             8d653a3e            445bbe3b   \n",
       "3            32c7478e             1793a828            e8b83407   \n",
       "4            3a171ecb  catFeature24-bucket            fd2fe0bd   \n",
       "\n",
       "   catFeature26_binned  \n",
       "0             aa5f0a15  \n",
       "1             0a47000d  \n",
       "2             8e1ae331  \n",
       "3             2fede552  \n",
       "4  catFeature26-bucket  \n",
       "\n",
       "[5 rows x 75 columns]"
      ]
     },
     "execution_count": 78,
     "metadata": {},
     "output_type": "execute_result"
    }
   ],
   "source": [
    "#iteratively build dataframe with categorical adjustments\n",
    "catFeatures = trainSample.columns[13:38]\n",
    "for f in catFeatures:\n",
    "    newCol_name = f + \"_binned\"\n",
    "    row_elements = []\n",
    "    #counts of unique labels per category\n",
    "    uniq = trainSample[f].value_counts()\n",
    "    #indx of labels with fewer than 30 observations (return the labels with .index)\n",
    "    idx = set(uniq[uniq<30].index)\n",
    "    labels = trainSample[f].values\n",
    "    for label in labels:\n",
    "        if label in idx:\n",
    "            row_elements.append(f+\"-bucket\")\n",
    "        else:\n",
    "            row_elements.append(label)\n",
    "            \n",
    "    trainSample[newCol_name] = row_elements\n",
    "    \n",
    "trainSample.head(5)"
   ]
  },
  {
   "cell_type": "code",
   "execution_count": 85,
   "metadata": {},
   "outputs": [
    {
     "data": {
      "text/plain": [
       "Index(['catFeature1', 'catFeature2', 'catFeature3', 'catFeature4',\n",
       "       'catFeature5', 'catFeature6', 'catFeature7', 'catFeature8',\n",
       "       'catFeature9', 'catFeature10', 'catFeature11', 'catFeature12',\n",
       "       'catFeature13', 'catFeature14', 'catFeature15', 'catFeature16',\n",
       "       'catFeature17', 'catFeature18', 'catFeature19', 'catFeature20',\n",
       "       'catFeature21', 'catFeature23', 'catFeature24', 'catFeature25',\n",
       "       'catFeature26', 'catFeature1_binned', 'catFeature2_binned',\n",
       "       'catFeature3_binned', 'catFeature4_binned', 'catFeature5_binned',\n",
       "       'catFeature6_binned', 'catFeature7_binned', 'catFeature8_binned',\n",
       "       'catFeature9_binned', 'catFeature10_binned', 'catFeature11_binned',\n",
       "       'catFeature12_binned', 'catFeature13_binned', 'catFeature14_binned',\n",
       "       'catFeature15_binned', 'catFeature16_binned', 'catFeature17_binned',\n",
       "       'catFeature18_binned', 'catFeature19_binned', 'catFeature20_binned',\n",
       "       'catFeature21_binned', 'catFeature23_binned', 'catFeature24_binned',\n",
       "       'catFeature25_binned', 'catFeature26_binned'],\n",
       "      dtype='object')"
      ]
     },
     "execution_count": 85,
     "metadata": {},
     "output_type": "execute_result"
    }
   ],
   "source": [
    "all_catFeatures = trainSample.columns.str.contains('cat')\n",
    "all_catFeatures = trainSample.columns[catFeatures]\n",
    "all_catFeatures"
   ]
  },
  {
   "cell_type": "code",
   "execution_count": 86,
   "metadata": {},
   "outputs": [],
   "source": [
    "#add NA buckets...can do this in the above code when building columns iteratively\n",
    "for f in all_catFeatures:\n",
    "    new_bucket = f+\"_NA\"\n",
    "    trainSample[f].fillna(new_bucket,inplace = True)"
   ]
  },
  {
   "cell_type": "code",
   "execution_count": 101,
   "metadata": {},
   "outputs": [
    {
     "data": {
      "text/html": [
       "<div>\n",
       "<style scoped>\n",
       "    .dataframe tbody tr th:only-of-type {\n",
       "        vertical-align: middle;\n",
       "    }\n",
       "\n",
       "    .dataframe tbody tr th {\n",
       "        vertical-align: top;\n",
       "    }\n",
       "\n",
       "    .dataframe thead th {\n",
       "        text-align: right;\n",
       "    }\n",
       "</style>\n",
       "<table border=\"1\" class=\"dataframe\">\n",
       "  <thead>\n",
       "    <tr style=\"text-align: right;\">\n",
       "      <th></th>\n",
       "      <th>label</th>\n",
       "      <th>intFeature1_Qbin</th>\n",
       "      <th>intFeature2_Qbin</th>\n",
       "      <th>intFeature3_Qbin</th>\n",
       "      <th>intFeature4_Qbin</th>\n",
       "      <th>intFeature5_Qbin</th>\n",
       "      <th>intFeature6_Qbin</th>\n",
       "      <th>intFeature7_Qbin</th>\n",
       "      <th>intFeature8_Qbin</th>\n",
       "      <th>intFeature9_Qbin</th>\n",
       "      <th>...</th>\n",
       "      <th>catFeature16_binned</th>\n",
       "      <th>catFeature17_binned</th>\n",
       "      <th>catFeature18_binned</th>\n",
       "      <th>catFeature19_binned</th>\n",
       "      <th>catFeature20_binned</th>\n",
       "      <th>catFeature21_binned</th>\n",
       "      <th>catFeature23_binned</th>\n",
       "      <th>catFeature24_binned</th>\n",
       "      <th>catFeature25_binned</th>\n",
       "      <th>catFeature26_binned</th>\n",
       "    </tr>\n",
       "  </thead>\n",
       "  <tbody>\n",
       "    <tr>\n",
       "      <th>0</th>\n",
       "      <td>0</td>\n",
       "      <td>(515001.0, 1030001.0]</td>\n",
       "      <td>(1545001.0, 2060001.0]</td>\n",
       "      <td>(1545001.0, 2060001.0]</td>\n",
       "      <td>(515001.0, 1030001.0]</td>\n",
       "      <td>(1545001.0, 2060001.0]</td>\n",
       "      <td>(1030001.0, 1545001.0]</td>\n",
       "      <td>(0.999, 515001.0]</td>\n",
       "      <td>(0.999, 515001.0]</td>\n",
       "      <td>(0.999, 515001.0]</td>\n",
       "      <td>...</td>\n",
       "      <td>e43a2c3f</td>\n",
       "      <td>1e88c74f</td>\n",
       "      <td>9880032b</td>\n",
       "      <td>21ddcdc9</td>\n",
       "      <td>5840adea</td>\n",
       "      <td>catFeature21-bucket</td>\n",
       "      <td>32c7478e</td>\n",
       "      <td>5f13bb00</td>\n",
       "      <td>fd2fe0bd</td>\n",
       "      <td>aa5f0a15</td>\n",
       "    </tr>\n",
       "    <tr>\n",
       "      <th>1</th>\n",
       "      <td>1</td>\n",
       "      <td>(515001.0, 1030001.0]</td>\n",
       "      <td>(1545001.0, 2060001.0]</td>\n",
       "      <td>(0.999, 515001.0]</td>\n",
       "      <td>(1030001.0, 1545001.0]</td>\n",
       "      <td>(1030001.0, 1545001.0]</td>\n",
       "      <td>(0.999, 515001.0]</td>\n",
       "      <td>(1030001.0, 1545001.0]</td>\n",
       "      <td>(0.999, 515001.0]</td>\n",
       "      <td>(1030001.0, 1545001.0]</td>\n",
       "      <td>...</td>\n",
       "      <td>catFeature16-bucket</td>\n",
       "      <td>e5ba7672</td>\n",
       "      <td>47e4d79e</td>\n",
       "      <td>21ddcdc9</td>\n",
       "      <td>a458ea53</td>\n",
       "      <td>catFeature21-bucket</td>\n",
       "      <td>32c7478e</td>\n",
       "      <td>a9d771cd</td>\n",
       "      <td>c9f3bea7</td>\n",
       "      <td>0a47000d</td>\n",
       "    </tr>\n",
       "    <tr>\n",
       "      <th>2</th>\n",
       "      <td>1</td>\n",
       "      <td>(0.999, 515001.0]</td>\n",
       "      <td>(1545001.0, 2060001.0]</td>\n",
       "      <td>(515001.0, 1030001.0]</td>\n",
       "      <td>(0.999, 515001.0]</td>\n",
       "      <td>(1030001.0, 1545001.0]</td>\n",
       "      <td>(515001.0, 1030001.0]</td>\n",
       "      <td>(1545001.0, 2060001.0]</td>\n",
       "      <td>(1030001.0, 1545001.0]</td>\n",
       "      <td>(1545001.0, 2060001.0]</td>\n",
       "      <td>...</td>\n",
       "      <td>c2807520</td>\n",
       "      <td>e5ba7672</td>\n",
       "      <td>3cb7e3f0</td>\n",
       "      <td>21ddcdc9</td>\n",
       "      <td>b1252a9d</td>\n",
       "      <td>59a15e58</td>\n",
       "      <td>93bad2c0</td>\n",
       "      <td>8d653a3e</td>\n",
       "      <td>445bbe3b</td>\n",
       "      <td>8e1ae331</td>\n",
       "    </tr>\n",
       "    <tr>\n",
       "      <th>3</th>\n",
       "      <td>0</td>\n",
       "      <td>(0.999, 515001.0]</td>\n",
       "      <td>(1545001.0, 2060001.0]</td>\n",
       "      <td>(1030001.0, 1545001.0]</td>\n",
       "      <td>(1545001.0, 2060001.0]</td>\n",
       "      <td>(1030001.0, 1545001.0]</td>\n",
       "      <td>(1030001.0, 1545001.0]</td>\n",
       "      <td>(1030001.0, 1545001.0]</td>\n",
       "      <td>(1030001.0, 1545001.0]</td>\n",
       "      <td>(1030001.0, 1545001.0]</td>\n",
       "      <td>...</td>\n",
       "      <td>587267a3</td>\n",
       "      <td>27c07bd6</td>\n",
       "      <td>a78bd508</td>\n",
       "      <td>21ddcdc9</td>\n",
       "      <td>5840adea</td>\n",
       "      <td>c2a93b37</td>\n",
       "      <td>32c7478e</td>\n",
       "      <td>1793a828</td>\n",
       "      <td>e8b83407</td>\n",
       "      <td>2fede552</td>\n",
       "    </tr>\n",
       "    <tr>\n",
       "      <th>4</th>\n",
       "      <td>0</td>\n",
       "      <td>(0.999, 515001.0]</td>\n",
       "      <td>(1545001.0, 2060001.0]</td>\n",
       "      <td>(0.999, 515001.0]</td>\n",
       "      <td>(1545001.0, 2060001.0]</td>\n",
       "      <td>(515001.0, 1030001.0]</td>\n",
       "      <td>(1545001.0, 2060001.0]</td>\n",
       "      <td>(515001.0, 1030001.0]</td>\n",
       "      <td>(1545001.0, 2060001.0]</td>\n",
       "      <td>(1545001.0, 2060001.0]</td>\n",
       "      <td>...</td>\n",
       "      <td>catFeature16-bucket</td>\n",
       "      <td>07c540c4</td>\n",
       "      <td>e7e991cb</td>\n",
       "      <td>68c36492</td>\n",
       "      <td>a458ea53</td>\n",
       "      <td>catFeature21-bucket</td>\n",
       "      <td>3a171ecb</td>\n",
       "      <td>catFeature24-bucket</td>\n",
       "      <td>fd2fe0bd</td>\n",
       "      <td>catFeature26-bucket</td>\n",
       "    </tr>\n",
       "  </tbody>\n",
       "</table>\n",
       "<p>5 rows × 38 columns</p>\n",
       "</div>"
      ],
      "text/plain": [
       "   label       intFeature1_Qbin        intFeature2_Qbin  \\\n",
       "0      0  (515001.0, 1030001.0]  (1545001.0, 2060001.0]   \n",
       "1      1  (515001.0, 1030001.0]  (1545001.0, 2060001.0]   \n",
       "2      1      (0.999, 515001.0]  (1545001.0, 2060001.0]   \n",
       "3      0      (0.999, 515001.0]  (1545001.0, 2060001.0]   \n",
       "4      0      (0.999, 515001.0]  (1545001.0, 2060001.0]   \n",
       "\n",
       "         intFeature3_Qbin        intFeature4_Qbin        intFeature5_Qbin  \\\n",
       "0  (1545001.0, 2060001.0]   (515001.0, 1030001.0]  (1545001.0, 2060001.0]   \n",
       "1       (0.999, 515001.0]  (1030001.0, 1545001.0]  (1030001.0, 1545001.0]   \n",
       "2   (515001.0, 1030001.0]       (0.999, 515001.0]  (1030001.0, 1545001.0]   \n",
       "3  (1030001.0, 1545001.0]  (1545001.0, 2060001.0]  (1030001.0, 1545001.0]   \n",
       "4       (0.999, 515001.0]  (1545001.0, 2060001.0]   (515001.0, 1030001.0]   \n",
       "\n",
       "         intFeature6_Qbin        intFeature7_Qbin        intFeature8_Qbin  \\\n",
       "0  (1030001.0, 1545001.0]       (0.999, 515001.0]       (0.999, 515001.0]   \n",
       "1       (0.999, 515001.0]  (1030001.0, 1545001.0]       (0.999, 515001.0]   \n",
       "2   (515001.0, 1030001.0]  (1545001.0, 2060001.0]  (1030001.0, 1545001.0]   \n",
       "3  (1030001.0, 1545001.0]  (1030001.0, 1545001.0]  (1030001.0, 1545001.0]   \n",
       "4  (1545001.0, 2060001.0]   (515001.0, 1030001.0]  (1545001.0, 2060001.0]   \n",
       "\n",
       "         intFeature9_Qbin         ...           catFeature16_binned  \\\n",
       "0       (0.999, 515001.0]         ...                      e43a2c3f   \n",
       "1  (1030001.0, 1545001.0]         ...           catFeature16-bucket   \n",
       "2  (1545001.0, 2060001.0]         ...                      c2807520   \n",
       "3  (1030001.0, 1545001.0]         ...                      587267a3   \n",
       "4  (1545001.0, 2060001.0]         ...           catFeature16-bucket   \n",
       "\n",
       "  catFeature17_binned catFeature18_binned catFeature19_binned  \\\n",
       "0            1e88c74f            9880032b            21ddcdc9   \n",
       "1            e5ba7672            47e4d79e            21ddcdc9   \n",
       "2            e5ba7672            3cb7e3f0            21ddcdc9   \n",
       "3            27c07bd6            a78bd508            21ddcdc9   \n",
       "4            07c540c4            e7e991cb            68c36492   \n",
       "\n",
       "  catFeature20_binned  catFeature21_binned catFeature23_binned  \\\n",
       "0            5840adea  catFeature21-bucket            32c7478e   \n",
       "1            a458ea53  catFeature21-bucket            32c7478e   \n",
       "2            b1252a9d             59a15e58            93bad2c0   \n",
       "3            5840adea             c2a93b37            32c7478e   \n",
       "4            a458ea53  catFeature21-bucket            3a171ecb   \n",
       "\n",
       "   catFeature24_binned catFeature25_binned  catFeature26_binned  \n",
       "0             5f13bb00            fd2fe0bd             aa5f0a15  \n",
       "1             a9d771cd            c9f3bea7             0a47000d  \n",
       "2             8d653a3e            445bbe3b             8e1ae331  \n",
       "3             1793a828            e8b83407             2fede552  \n",
       "4  catFeature24-bucket            fd2fe0bd  catFeature26-bucket  \n",
       "\n",
       "[5 rows x 38 columns]"
      ]
     },
     "execution_count": 101,
     "metadata": {},
     "output_type": "execute_result"
    }
   ],
   "source": [
    "#created dataframe of all binned features\n",
    "binned = trainSample.columns.str.contains('bin|label')\n",
    "\n",
    "trainSample_binned = trainSample.columns[binned]\n",
    "trainSample_bins = trainSample[trainSample_binned]\n",
    "trainSample_bins.head(5)"
   ]
  },
  {
   "cell_type": "code",
   "execution_count": 15,
   "metadata": {},
   "outputs": [],
   "source": [
    "#write to file for later use\n",
    "fpath = 'eda/trainSampleBinned.csv'\n",
    "trainSample_bins.to_csv(path_or_buf = fpath, index = False)"
   ]
  },
  {
   "cell_type": "code",
   "execution_count": 16,
   "metadata": {},
   "outputs": [],
   "source": [
    "#setting up schema to read in pyspark dataframe\n",
    "catFeatures_bin = ['intFeature1_Qbin', 'intFeature2_Qbin', 'intFeature3_Qbin',\n",
    "       'intFeature4_Qbin', 'intFeature5_Qbin', 'intFeature6_Qbin',\n",
    "       'intFeature7_Qbin', 'intFeature8_Qbin', 'intFeature9_Qbin',\n",
    "       'intFeature10_Qbin', 'intFeature11_Qbin', 'intFeature13_Qbin',\n",
    "       'catFeature1_binned', 'catFeature2_binned', 'catFeature3_binned',\n",
    "       'catFeature4_binned', 'catFeature5_binned', 'catFeature6_binned',\n",
    "       'catFeature7_binned', 'catFeature8_binned', 'catFeature9_binned',\n",
    "       'catFeature10_binned', 'catFeature11_binned', 'catFeature12_binned',\n",
    "       'catFeature13_binned', 'catFeature14_binned', 'catFeature15_binned',\n",
    "       'catFeature16_binned', 'catFeature17_binned', 'catFeature18_binned',\n",
    "       'catFeature19_binned', 'catFeature20_binned', 'catFeature21_binned',\n",
    "       'catFeature23_binned', 'catFeature24_binned', 'catFeature25_binned',\n",
    "       'catFeature26_binned']\n",
    "\n",
    "target = ['click']\n",
    "\n",
    "#setting schema and reading in pre-processed data to pyspark dataframe\n",
    "outcomeField = [StructField(\"click\", IntegerType(), True)]\n",
    "qualFields = [StructField(f, StringType(), True) for f in catFeatures_bin]\n",
    "schema = StructType(outcomeField + qualFields)\n",
    "\n",
    "df = spark.read.schema(schema) \\\n",
    "    .option(\"ignoreLeadingWhiteSpace\",True) \\\n",
    "    .option(\"ignoreTrailingWhiteSpace\",True) \\\n",
    "    .csv('eda/trainSampleBinned.csv',nullValue = \"NaN\")"
   ]
  },
  {
   "cell_type": "code",
   "execution_count": 17,
   "metadata": {},
   "outputs": [
    {
     "name": "stdout",
     "output_type": "stream",
     "text": [
      "+-----+--------------------+--------------------+--------------------+--------------------+--------------------+--------------------+--------------------+--------------------+--------------------+--------------------+--------------------+--------------------+------------------+------------------+------------------+------------------+------------------+--------------------+------------------+------------------+------------------+-------------------+-------------------+-------------------+-------------------+-------------------+-------------------+-------------------+-------------------+-------------------+-------------------+-------------------+-------------------+-------------------+-------------------+-------------------+-------------------+\n",
      "|click|    intFeature1_Qbin|    intFeature2_Qbin|    intFeature3_Qbin|    intFeature4_Qbin|    intFeature5_Qbin|    intFeature6_Qbin|    intFeature7_Qbin|    intFeature8_Qbin|    intFeature9_Qbin|   intFeature10_Qbin|   intFeature11_Qbin|   intFeature13_Qbin|catFeature1_binned|catFeature2_binned|catFeature3_binned|catFeature4_binned|catFeature5_binned|  catFeature6_binned|catFeature7_binned|catFeature8_binned|catFeature9_binned|catFeature10_binned|catFeature11_binned|catFeature12_binned|catFeature13_binned|catFeature14_binned|catFeature15_binned|catFeature16_binned|catFeature17_binned|catFeature18_binned|catFeature19_binned|catFeature20_binned|catFeature21_binned|catFeature23_binned|catFeature24_binned|catFeature25_binned|catFeature26_binned|\n",
      "+-----+--------------------+--------------------+--------------------+--------------------+--------------------+--------------------+--------------------+--------------------+--------------------+--------------------+--------------------+--------------------+------------------+------------------+------------------+------------------+------------------+--------------------+------------------+------------------+------------------+-------------------+-------------------+-------------------+-------------------+-------------------+-------------------+-------------------+-------------------+-------------------+-------------------+-------------------+-------------------+-------------------+-------------------+-------------------+-------------------+\n",
      "| null|                null|                null|                null|                null|                null|                null|                null|                null|                null|                null|                null|                null|              null|              null|              null|              null|              null|                null|              null|              null|              null|               null|               null|               null|               null|               null|               null|               null|               null|               null|               null|               null|               null|               null|               null|               null|               null|\n",
      "|    0|(515001.0, 103000...|(1545001.0, 20600...|(1545001.0, 20600...|(515001.0, 103000...|(1545001.0, 20600...|(1030001.0, 15450...|   (0.999, 515001.0]|   (0.999, 515001.0]|   (0.999, 515001.0]|(515001.0, 103000...|   (0.999, 515001.0]|(515001.0, 103000...|          5a9ed9b0|          0468d672|catFeature3-bucket|          1dd6f634|          25c83c98|            7e0ccccf|          e9972d45|          0b153874|          a73ee510|           5612701e|           96736975|catFeature12-bucket|           fab2664b|           1adce6ef|           4f3b3616|           e43a2c3f|           1e88c74f|           9880032b|           21ddcdc9|           5840adea|catFeature21-bucket|           32c7478e|           5f13bb00|           fd2fe0bd|           aa5f0a15|\n",
      "|    1|(515001.0, 103000...|(1545001.0, 20600...|   (0.999, 515001.0]|(1030001.0, 15450...|(1030001.0, 15450...|   (0.999, 515001.0]|(1030001.0, 15450...|   (0.999, 515001.0]|(1030001.0, 15450...|(515001.0, 103000...|(1545001.0, 20600...|(1030001.0, 15450...|          68fd1e64|          4e8d18ed|catFeature3-bucket|catFeature4-bucket|          4cf72387|catFeature6_binne...|          6f208241|          0b153874|          a73ee510|           be01243d|           d9244025|catFeature12-bucket|           a615211e|           1adce6ef|           bbee52f9|catFeature16-bucket|           e5ba7672|           47e4d79e|           21ddcdc9|           a458ea53|catFeature21-bucket|           32c7478e|           a9d771cd|           c9f3bea7|           0a47000d|\n",
      "|    1|   (0.999, 515001.0]|(1545001.0, 20600...|(515001.0, 103000...|   (0.999, 515001.0]|(1030001.0, 15450...|(515001.0, 103000...|(1545001.0, 20600...|(1030001.0, 15450...|(1545001.0, 20600...|   (0.999, 515001.0]|(1030001.0, 15450...|   (0.999, 515001.0]|          05db9164|          6e638bbc|          e3a92241|          c771bf5c|          25c83c98|            fe6b92e5|          7537857d|          1f89b562|          a73ee510|           3b08e48b|           35accc5c|           4f7b022c|           4632bcdc|           07d13a8f|           1f29ec61|           c2807520|           e5ba7672|           3cb7e3f0|           21ddcdc9|           b1252a9d|           59a15e58|           93bad2c0|           8d653a3e|           445bbe3b|           8e1ae331|\n",
      "|    0|   (0.999, 515001.0]|(1545001.0, 20600...|(1030001.0, 15450...|(1545001.0, 20600...|(1030001.0, 15450...|(1030001.0, 15450...|(1030001.0, 15450...|(1030001.0, 15450...|(1030001.0, 15450...|   (0.999, 515001.0]|(1030001.0, 15450...|(1545001.0, 20600...|          68fd1e64|          403ea497|          2cbec47f|          3e2bfbda|          4cf72387|            fe6b92e5|          815e3303|          5b392875|          a73ee510|catFeature10-bucket|           2cfc1696|           21a23bfe|           9bbdb8bd|           07d13a8f|           e3209fc2|           587267a3|           27c07bd6|           a78bd508|           21ddcdc9|           5840adea|           c2a93b37|           32c7478e|           1793a828|           e8b83407|           2fede552|\n",
      "+-----+--------------------+--------------------+--------------------+--------------------+--------------------+--------------------+--------------------+--------------------+--------------------+--------------------+--------------------+--------------------+------------------+------------------+------------------+------------------+------------------+--------------------+------------------+------------------+------------------+-------------------+-------------------+-------------------+-------------------+-------------------+-------------------+-------------------+-------------------+-------------------+-------------------+-------------------+-------------------+-------------------+-------------------+-------------------+-------------------+\n",
      "only showing top 5 rows\n",
      "\n"
     ]
    }
   ],
   "source": [
    "df.show(5)"
   ]
  },
  {
   "cell_type": "code",
   "execution_count": 10,
   "metadata": {},
   "outputs": [
    {
     "data": {
      "text/plain": [
       "['intFeature1_Qbin',\n",
       " 'intFeature2_Qbin',\n",
       " 'intFeature3_Qbin',\n",
       " 'intFeature4_Qbin',\n",
       " 'intFeature5_Qbin',\n",
       " 'intFeature6_Qbin',\n",
       " 'intFeature7_Qbin',\n",
       " 'intFeature8_Qbin',\n",
       " 'intFeature9_Qbin',\n",
       " 'intFeature10_Qbin',\n",
       " 'intFeature11_Qbin',\n",
       " 'intFeature13_Qbin',\n",
       " 'catFeature1_binned',\n",
       " 'catFeature2_binned',\n",
       " 'catFeature3_binned',\n",
       " 'catFeature4_binned',\n",
       " 'catFeature5_binned',\n",
       " 'catFeature6_binned',\n",
       " 'catFeature7_binned',\n",
       " 'catFeature8_binned',\n",
       " 'catFeature9_binned',\n",
       " 'catFeature10_binned',\n",
       " 'catFeature11_binned',\n",
       " 'catFeature12_binned',\n",
       " 'catFeature13_binned',\n",
       " 'catFeature14_binned',\n",
       " 'catFeature15_binned',\n",
       " 'catFeature16_binned',\n",
       " 'catFeature17_binned',\n",
       " 'catFeature18_binned',\n",
       " 'catFeature19_binned',\n",
       " 'catFeature20_binned',\n",
       " 'catFeature21_binned',\n",
       " 'catFeature23_binned',\n",
       " 'catFeature24_binned',\n",
       " 'catFeature25_binned',\n",
       " 'catFeature26_binned']"
      ]
     },
     "execution_count": 10,
     "metadata": {},
     "output_type": "execute_result"
    }
   ],
   "source": [
    "df.columns[1:]"
   ]
  },
  {
   "cell_type": "code",
   "execution_count": 18,
   "metadata": {},
   "outputs": [],
   "source": [
    "catCols = df.columns[1:]\n",
    "target = ['click']\n",
    "indexers = [StringIndexer(inputCol=c, outputCol=\"{0}_indexed\".format(c), handleInvalid=\"skip\") for c in catCols]\n",
    "label = StringIndexer(inputCol= target[0], outputCol=\"label\", handleInvalid=\"skip\")"
   ]
  },
  {
   "cell_type": "code",
   "execution_count": 19,
   "metadata": {},
   "outputs": [],
   "source": [
    "#formatting for logistic regression\n",
    "encoder = OneHotEncoderEstimator(\n",
    "    inputCols=[indexer.getOutputCol() for indexer in indexers],\n",
    "    outputCols=[\"{0}_encoded\".format(indexer.getOutputCol()) for indexer in indexers],\n",
    "    dropLast=False)\n",
    "\n",
    "assembler = VectorAssembler(\n",
    "    inputCols= encoder.getOutputCols(),\n",
    "    outputCol= \"features\")\n",
    "\n",
    "pipeline = Pipeline(stages = indexers + [encoder,assembler,label])\n",
    "\n",
    "processedDF = pipeline.fit(df).transform(df)"
   ]
  },
  {
   "cell_type": "code",
   "execution_count": 22,
   "metadata": {},
   "outputs": [
    {
     "name": "stdout",
     "output_type": "stream",
     "text": [
      "+-----+--------------------+--------------------+--------------------+--------------------+--------------------+--------------------+--------------------+--------------------+--------------------+--------------------+--------------------+--------------------+------------------+------------------+------------------+------------------+------------------+--------------------+------------------+------------------+------------------+-------------------+-------------------+-------------------+-------------------+-------------------+-------------------+-------------------+-------------------+-------------------+-------------------+-------------------+-------------------+-------------------+-------------------+-------------------+-------------------+------------------------+------------------------+------------------------+------------------------+------------------------+------------------------+------------------------+------------------------+------------------------+-------------------------+-------------------------+-------------------------+--------------------------+--------------------------+--------------------------+--------------------------+--------------------------+--------------------------+--------------------------+--------------------------+--------------------------+---------------------------+---------------------------+---------------------------+---------------------------+---------------------------+---------------------------+---------------------------+---------------------------+---------------------------+---------------------------+---------------------------+---------------------------+---------------------------+---------------------------+---------------------------+---------------------------+----------------------------------+-----------------------------------+-----------------------------------+---------------------------------+--------------------------------+----------------------------------+---------------------------------+-----------------------------------+-----------------------------------+--------------------------------+-----------------------------------+-----------------------------------+--------------------------------+----------------------------------+-----------------------------------+----------------------------------+--------------------------------+--------------------------------+----------------------------------+-----------------------------------+--------------------------------+-----------------------------------+----------------------------------+--------------------------------+--------------------------------+-----------------------------------+-----------------------------------+-----------------------------------+-----------------------------------+-----------------------------------+----------------------------------+--------------------------------+-----------------------------------+---------------------------------+-----------------------------------+----------------------------------+----------------------------------+--------------------+-----+\n",
      "|click|    intFeature1_Qbin|    intFeature2_Qbin|    intFeature3_Qbin|    intFeature4_Qbin|    intFeature5_Qbin|    intFeature6_Qbin|    intFeature7_Qbin|    intFeature8_Qbin|    intFeature9_Qbin|   intFeature10_Qbin|   intFeature11_Qbin|   intFeature13_Qbin|catFeature1_binned|catFeature2_binned|catFeature3_binned|catFeature4_binned|catFeature5_binned|  catFeature6_binned|catFeature7_binned|catFeature8_binned|catFeature9_binned|catFeature10_binned|catFeature11_binned|catFeature12_binned|catFeature13_binned|catFeature14_binned|catFeature15_binned|catFeature16_binned|catFeature17_binned|catFeature18_binned|catFeature19_binned|catFeature20_binned|catFeature21_binned|catFeature23_binned|catFeature24_binned|catFeature25_binned|catFeature26_binned|intFeature1_Qbin_indexed|intFeature2_Qbin_indexed|intFeature3_Qbin_indexed|intFeature4_Qbin_indexed|intFeature5_Qbin_indexed|intFeature6_Qbin_indexed|intFeature7_Qbin_indexed|intFeature8_Qbin_indexed|intFeature9_Qbin_indexed|intFeature10_Qbin_indexed|intFeature11_Qbin_indexed|intFeature13_Qbin_indexed|catFeature1_binned_indexed|catFeature2_binned_indexed|catFeature3_binned_indexed|catFeature4_binned_indexed|catFeature5_binned_indexed|catFeature6_binned_indexed|catFeature7_binned_indexed|catFeature8_binned_indexed|catFeature9_binned_indexed|catFeature10_binned_indexed|catFeature11_binned_indexed|catFeature12_binned_indexed|catFeature13_binned_indexed|catFeature14_binned_indexed|catFeature15_binned_indexed|catFeature16_binned_indexed|catFeature17_binned_indexed|catFeature18_binned_indexed|catFeature19_binned_indexed|catFeature20_binned_indexed|catFeature21_binned_indexed|catFeature23_binned_indexed|catFeature24_binned_indexed|catFeature25_binned_indexed|catFeature26_binned_indexed|catFeature6_binned_indexed_encoded|catFeature23_binned_indexed_encoded|catFeature15_binned_indexed_encoded|intFeature10_Qbin_indexed_encoded|intFeature5_Qbin_indexed_encoded|catFeature7_binned_indexed_encoded|intFeature11_Qbin_indexed_encoded|catFeature25_binned_indexed_encoded|catFeature21_binned_indexed_encoded|intFeature9_Qbin_indexed_encoded|catFeature10_binned_indexed_encoded|catFeature26_binned_indexed_encoded|intFeature3_Qbin_indexed_encoded|catFeature3_binned_indexed_encoded|catFeature18_binned_indexed_encoded|catFeature1_binned_indexed_encoded|intFeature8_Qbin_indexed_encoded|intFeature6_Qbin_indexed_encoded|catFeature5_binned_indexed_encoded|catFeature19_binned_indexed_encoded|intFeature7_Qbin_indexed_encoded|catFeature11_binned_indexed_encoded|catFeature8_binned_indexed_encoded|intFeature1_Qbin_indexed_encoded|intFeature2_Qbin_indexed_encoded|catFeature24_binned_indexed_encoded|catFeature16_binned_indexed_encoded|catFeature13_binned_indexed_encoded|catFeature14_binned_indexed_encoded|catFeature12_binned_indexed_encoded|catFeature2_binned_indexed_encoded|intFeature4_Qbin_indexed_encoded|catFeature17_binned_indexed_encoded|intFeature13_Qbin_indexed_encoded|catFeature20_binned_indexed_encoded|catFeature4_binned_indexed_encoded|catFeature9_binned_indexed_encoded|            features|label|\n",
      "+-----+--------------------+--------------------+--------------------+--------------------+--------------------+--------------------+--------------------+--------------------+--------------------+--------------------+--------------------+--------------------+------------------+------------------+------------------+------------------+------------------+--------------------+------------------+------------------+------------------+-------------------+-------------------+-------------------+-------------------+-------------------+-------------------+-------------------+-------------------+-------------------+-------------------+-------------------+-------------------+-------------------+-------------------+-------------------+-------------------+------------------------+------------------------+------------------------+------------------------+------------------------+------------------------+------------------------+------------------------+------------------------+-------------------------+-------------------------+-------------------------+--------------------------+--------------------------+--------------------------+--------------------------+--------------------------+--------------------------+--------------------------+--------------------------+--------------------------+---------------------------+---------------------------+---------------------------+---------------------------+---------------------------+---------------------------+---------------------------+---------------------------+---------------------------+---------------------------+---------------------------+---------------------------+---------------------------+---------------------------+---------------------------+---------------------------+----------------------------------+-----------------------------------+-----------------------------------+---------------------------------+--------------------------------+----------------------------------+---------------------------------+-----------------------------------+-----------------------------------+--------------------------------+-----------------------------------+-----------------------------------+--------------------------------+----------------------------------+-----------------------------------+----------------------------------+--------------------------------+--------------------------------+----------------------------------+-----------------------------------+--------------------------------+-----------------------------------+----------------------------------+--------------------------------+--------------------------------+-----------------------------------+-----------------------------------+-----------------------------------+-----------------------------------+-----------------------------------+----------------------------------+--------------------------------+-----------------------------------+---------------------------------+-----------------------------------+----------------------------------+----------------------------------+--------------------+-----+\n",
      "|    0|(515001.0, 103000...|(1545001.0, 20600...|(1545001.0, 20600...|(515001.0, 103000...|(1545001.0, 20600...|(1030001.0, 15450...|   (0.999, 515001.0]|   (0.999, 515001.0]|   (0.999, 515001.0]|(515001.0, 103000...|   (0.999, 515001.0]|(515001.0, 103000...|          5a9ed9b0|          0468d672|catFeature3-bucket|          1dd6f634|          25c83c98|            7e0ccccf|          e9972d45|          0b153874|          a73ee510|           5612701e|           96736975|catFeature12-bucket|           fab2664b|           1adce6ef|           4f3b3616|           e43a2c3f|           1e88c74f|           9880032b|           21ddcdc9|           5840adea|catFeature21-bucket|           32c7478e|           5f13bb00|           fd2fe0bd|           aa5f0a15|                     1.0|                     3.0|                     3.0|                     1.0|                     3.0|                     2.0|                     0.0|                     0.0|                     0.0|                      1.0|                      0.0|                      1.0|                       2.0|                      16.0|                       0.0|                    2256.0|                       0.0|                       0.0|                    4735.0|                       0.0|                       0.0|                       95.0|                     1346.0|                        0.0|                     1219.0|                        2.0|                       81.0|                     4048.0|                        7.0|                       17.0|                        1.0|                        3.0|                        0.0|                        0.0|                      620.0|                       24.0|                        6.0|                    (13,[0],[1.0])|                     (16,[0],[1.0])|                  (3276,[81],[1.0])|                    (5,[1],[1.0])|                   (5,[3],[1.0])|               (6343,[4735],[1.0])|                    (5,[0],[1.0])|                    (46,[24],[1.0])|                   (4216,[0],[1.0])|                   (5,[0],[1.0])|                  (5882,[95],[1.0])|                   (3508,[6],[1.0])|                   (5,[3],[1.0])|                  (3956,[0],[1.0])|                  (1762,[17],[1.0])|                   (272,[2],[1.0])|                   (5,[0],[1.0])|                   (5,[2],[1.0])|                    (87,[0],[1.0])|                   (1035,[1],[1.0])|                   (5,[0],[1.0])|                (3466,[1346],[1.0])|                   (149,[0],[1.0])|                   (5,[1],[1.0])|                   (5,[3],[1.0])|                 (4400,[620],[1.0])|                (4584,[4048],[1.0])|                (2761,[1219],[1.0])|                     (27,[2],[1.0])|                   (4064,[0],[1.0])|                  (487,[16],[1.0])|                   (5,[1],[1.0])|                     (11,[7],[1.0])|                    (5,[1],[1.0])|                      (5,[3],[1.0])|               (5351,[2256],[1.0])|                     (4,[0],[1.0])|(55781,[1,8,13,16...|  0.0|\n",
      "|    1|(515001.0, 103000...|(1545001.0, 20600...|   (0.999, 515001.0]|(1030001.0, 15450...|(1030001.0, 15450...|   (0.999, 515001.0]|(1030001.0, 15450...|   (0.999, 515001.0]|(1030001.0, 15450...|(515001.0, 103000...|(1545001.0, 20600...|(1030001.0, 15450...|          68fd1e64|          4e8d18ed|catFeature3-bucket|catFeature4-bucket|          4cf72387|catFeature6_binne...|          6f208241|          0b153874|          a73ee510|           be01243d|           d9244025|catFeature12-bucket|           a615211e|           1adce6ef|           bbee52f9|catFeature16-bucket|           e5ba7672|           47e4d79e|           21ddcdc9|           a458ea53|catFeature21-bucket|           32c7478e|           a9d771cd|           c9f3bea7|           0a47000d|                     1.0|                     3.0|                     0.0|                     2.0|                     2.0|                     0.0|                     2.0|                     0.0|                     2.0|                      1.0|                      3.0|                      2.0|                       1.0|                      46.0|                       0.0|                       0.0|                       1.0|                       3.0|                    1734.0|                       0.0|                       0.0|                     3010.0|                      920.0|                        0.0|                      863.0|                        2.0|                      160.0|                        0.0|                        0.0|                       46.0|                        1.0|                        2.0|                        0.0|                        0.0|                     2485.0|                       11.0|                     1841.0|                    (13,[3],[1.0])|                     (16,[0],[1.0])|                 (3276,[160],[1.0])|                    (5,[1],[1.0])|                   (5,[2],[1.0])|               (6343,[1734],[1.0])|                    (5,[3],[1.0])|                    (46,[11],[1.0])|                   (4216,[0],[1.0])|                   (5,[2],[1.0])|                (5882,[3010],[1.0])|                (3508,[1841],[1.0])|                   (5,[0],[1.0])|                  (3956,[0],[1.0])|                  (1762,[46],[1.0])|                   (272,[1],[1.0])|                   (5,[0],[1.0])|                   (5,[0],[1.0])|                    (87,[1],[1.0])|                   (1035,[1],[1.0])|                   (5,[2],[1.0])|                 (3466,[920],[1.0])|                   (149,[0],[1.0])|                   (5,[1],[1.0])|                   (5,[3],[1.0])|                (4400,[2485],[1.0])|                   (4584,[0],[1.0])|                 (2761,[863],[1.0])|                     (27,[2],[1.0])|                   (4064,[0],[1.0])|                  (487,[46],[1.0])|                   (5,[2],[1.0])|                     (11,[0],[1.0])|                    (5,[2],[1.0])|                      (5,[2],[1.0])|                  (5351,[0],[1.0])|                     (4,[0],[1.0])|(55781,[1,8,10,17...|  1.0|\n",
      "|    1|   (0.999, 515001.0]|(1545001.0, 20600...|(515001.0, 103000...|   (0.999, 515001.0]|(1030001.0, 15450...|(515001.0, 103000...|(1545001.0, 20600...|(1030001.0, 15450...|(1545001.0, 20600...|   (0.999, 515001.0]|(1030001.0, 15450...|   (0.999, 515001.0]|          05db9164|          6e638bbc|          e3a92241|          c771bf5c|          25c83c98|            fe6b92e5|          7537857d|          1f89b562|          a73ee510|           3b08e48b|           35accc5c|           4f7b022c|           4632bcdc|           07d13a8f|           1f29ec61|           c2807520|           e5ba7672|           3cb7e3f0|           21ddcdc9|           b1252a9d|           59a15e58|           93bad2c0|           8d653a3e|           445bbe3b|           8e1ae331|                     0.0|                     3.0|                     1.0|                     0.0|                     2.0|                     1.0|                     3.0|                     2.0|                     3.0|                      0.0|                      2.0|                      0.0|                       0.0|                      28.0|                     257.0|                     311.0|                       0.0|                       2.0|                    2098.0|                       2.0|                       0.0|                        0.0|                     2753.0|                      267.0|                     1544.0|                        1.0|                       98.0|                      295.0|                        0.0|                       34.0|                        1.0|                        1.0|                      277.0|                        8.0|                       28.0|                        6.0|                       14.0|                    (13,[2],[1.0])|                     (16,[8],[1.0])|                  (3276,[98],[1.0])|                    (5,[0],[1.0])|                   (5,[2],[1.0])|               (6343,[2098],[1.0])|                    (5,[2],[1.0])|                     (46,[6],[1.0])|                 (4216,[277],[1.0])|                   (5,[3],[1.0])|                   (5882,[0],[1.0])|                  (3508,[14],[1.0])|                   (5,[1],[1.0])|                (3956,[257],[1.0])|                  (1762,[34],[1.0])|                   (272,[0],[1.0])|                   (5,[2],[1.0])|                   (5,[1],[1.0])|                    (87,[0],[1.0])|                   (1035,[1],[1.0])|                   (5,[3],[1.0])|                (3466,[2753],[1.0])|                   (149,[2],[1.0])|                   (5,[0],[1.0])|                   (5,[3],[1.0])|                  (4400,[28],[1.0])|                 (4584,[295],[1.0])|                (2761,[1544],[1.0])|                     (27,[1],[1.0])|                 (4064,[267],[1.0])|                  (487,[28],[1.0])|                   (5,[0],[1.0])|                     (11,[0],[1.0])|                    (5,[0],[1.0])|                      (5,[1],[1.0])|                (5351,[311],[1.0])|                     (4,[0],[1.0])|(55781,[0,8,11,15...|  1.0|\n",
      "|    0|   (0.999, 515001.0]|(1545001.0, 20600...|(1030001.0, 15450...|(1545001.0, 20600...|(1030001.0, 15450...|(1030001.0, 15450...|(1030001.0, 15450...|(1030001.0, 15450...|(1030001.0, 15450...|   (0.999, 515001.0]|(1030001.0, 15450...|(1545001.0, 20600...|          68fd1e64|          403ea497|          2cbec47f|          3e2bfbda|          4cf72387|            fe6b92e5|          815e3303|          5b392875|          a73ee510|catFeature10-bucket|           2cfc1696|           21a23bfe|           9bbdb8bd|           07d13a8f|           e3209fc2|           587267a3|           27c07bd6|           a78bd508|           21ddcdc9|           5840adea|           c2a93b37|           32c7478e|           1793a828|           e8b83407|           2fede552|                     0.0|                     3.0|                     2.0|                     3.0|                     2.0|                     2.0|                     2.0|                     2.0|                     2.0|                      0.0|                      2.0|                      3.0|                       1.0|                      34.0|                      12.0|                      14.0|                       1.0|                       2.0|                     630.0|                       1.0|                       0.0|                        1.0|                     2578.0|                       13.0|                       74.0|                        1.0|                       42.0|                       14.0|                        5.0|                       31.0|                        1.0|                        3.0|                       14.0|                        0.0|                        2.0|                        2.0|                        4.0|                    (13,[2],[1.0])|                     (16,[0],[1.0])|                  (3276,[42],[1.0])|                    (5,[0],[1.0])|                   (5,[2],[1.0])|                (6343,[630],[1.0])|                    (5,[2],[1.0])|                     (46,[2],[1.0])|                  (4216,[14],[1.0])|                   (5,[2],[1.0])|                   (5882,[1],[1.0])|                   (3508,[4],[1.0])|                   (5,[2],[1.0])|                 (3956,[12],[1.0])|                  (1762,[31],[1.0])|                   (272,[1],[1.0])|                   (5,[2],[1.0])|                   (5,[2],[1.0])|                    (87,[1],[1.0])|                   (1035,[1],[1.0])|                   (5,[2],[1.0])|                (3466,[2578],[1.0])|                   (149,[1],[1.0])|                   (5,[0],[1.0])|                   (5,[3],[1.0])|                   (4400,[2],[1.0])|                  (4584,[14],[1.0])|                  (2761,[74],[1.0])|                     (27,[1],[1.0])|                  (4064,[13],[1.0])|                  (487,[34],[1.0])|                   (5,[3],[1.0])|                     (11,[5],[1.0])|                    (5,[3],[1.0])|                      (5,[3],[1.0])|                 (5351,[14],[1.0])|                     (4,[0],[1.0])|(55781,[0,8,12,18...|  0.0|\n",
      "|    0|   (0.999, 515001.0]|(1545001.0, 20600...|   (0.999, 515001.0]|(1545001.0, 20600...|(515001.0, 103000...|(1545001.0, 20600...|(515001.0, 103000...|(1545001.0, 20600...|(1545001.0, 20600...|   (0.999, 515001.0]|(1030001.0, 15450...|(1545001.0, 20600...|          68fd1e64|          78ccd99e|catFeature3-bucket|catFeature4-bucket|          25c83c98|            7e0ccccf|          397def4e|          5b392875|          a73ee510|           02abaecf|           20b05825|catFeature12-bucket|           c28589ee|           051219e6|           9917ad07|catFeature16-bucket|           07c540c4|           e7e991cb|           68c36492|           a458ea53|catFeature21-bucket|           3a171ecb|catFeature24-bucket|           fd2fe0bd|catFeature26-bucket|                     0.0|                     3.0|                     0.0|                     3.0|                     1.0|                     3.0|                     1.0|                     3.0|                     3.0|                      0.0|                      2.0|                      3.0|                       1.0|                      19.0|                       0.0|                       0.0|                       0.0|                       0.0|                     110.0|                       1.0|                       0.0|                     5363.0|                      123.0|                        0.0|                      143.0|                        5.0|                       65.0|                        0.0|                        1.0|                       11.0|                       63.0|                        2.0|                        0.0|                        1.0|                        0.0|                       24.0|                        1.0|                    (13,[0],[1.0])|                     (16,[1],[1.0])|                  (3276,[65],[1.0])|                    (5,[0],[1.0])|                   (5,[1],[1.0])|                (6343,[110],[1.0])|                    (5,[2],[1.0])|                    (46,[24],[1.0])|                   (4216,[0],[1.0])|                   (5,[3],[1.0])|                (5882,[5363],[1.0])|                   (3508,[1],[1.0])|                   (5,[0],[1.0])|                  (3956,[0],[1.0])|                  (1762,[11],[1.0])|                   (272,[1],[1.0])|                   (5,[3],[1.0])|                   (5,[3],[1.0])|                    (87,[0],[1.0])|                  (1035,[63],[1.0])|                   (5,[1],[1.0])|                 (3466,[123],[1.0])|                   (149,[1],[1.0])|                   (5,[0],[1.0])|                   (5,[3],[1.0])|                   (4400,[0],[1.0])|                   (4584,[0],[1.0])|                 (2761,[143],[1.0])|                     (27,[5],[1.0])|                   (4064,[0],[1.0])|                  (487,[19],[1.0])|                   (5,[3],[1.0])|                     (11,[1],[1.0])|                    (5,[3],[1.0])|                      (5,[2],[1.0])|                  (5351,[0],[1.0])|                     (4,[0],[1.0])|(55781,[0,8,10,18...|  0.0|\n",
      "+-----+--------------------+--------------------+--------------------+--------------------+--------------------+--------------------+--------------------+--------------------+--------------------+--------------------+--------------------+--------------------+------------------+------------------+------------------+------------------+------------------+--------------------+------------------+------------------+------------------+-------------------+-------------------+-------------------+-------------------+-------------------+-------------------+-------------------+-------------------+-------------------+-------------------+-------------------+-------------------+-------------------+-------------------+-------------------+-------------------+------------------------+------------------------+------------------------+------------------------+------------------------+------------------------+------------------------+------------------------+------------------------+-------------------------+-------------------------+-------------------------+--------------------------+--------------------------+--------------------------+--------------------------+--------------------------+--------------------------+--------------------------+--------------------------+--------------------------+---------------------------+---------------------------+---------------------------+---------------------------+---------------------------+---------------------------+---------------------------+---------------------------+---------------------------+---------------------------+---------------------------+---------------------------+---------------------------+---------------------------+---------------------------+---------------------------+----------------------------------+-----------------------------------+-----------------------------------+---------------------------------+--------------------------------+----------------------------------+---------------------------------+-----------------------------------+-----------------------------------+--------------------------------+-----------------------------------+-----------------------------------+--------------------------------+----------------------------------+-----------------------------------+----------------------------------+--------------------------------+--------------------------------+----------------------------------+-----------------------------------+--------------------------------+-----------------------------------+----------------------------------+--------------------------------+--------------------------------+-----------------------------------+-----------------------------------+-----------------------------------+-----------------------------------+-----------------------------------+----------------------------------+--------------------------------+-----------------------------------+---------------------------------+-----------------------------------+----------------------------------+----------------------------------+--------------------+-----+\n",
      "only showing top 5 rows\n",
      "\n"
     ]
    }
   ],
   "source": [
    "processedDF.show(5)"
   ]
  },
  {
   "cell_type": "code",
   "execution_count": 23,
   "metadata": {},
   "outputs": [],
   "source": [
    "# Keep relevant columns and split for train/test\n",
    "selectedcols = [\"label\", \"features\"]\n",
    "dataset = processedDF.select(selectedcols)\n",
    "### Randomly split data into training and test sets. set seed for reproducibility\n",
    "(trainingData, testData) = dataset.randomSplit([0.7, 0.3], seed=100)"
   ]
  },
  {
   "cell_type": "code",
   "execution_count": 24,
   "metadata": {},
   "outputs": [],
   "source": [
    "# Create initial LogisticRegression model\n",
    "from pyspark.ml.classification import LogisticRegression\n",
    "lr = LogisticRegression(labelCol=\"label\", featuresCol=\"features\", maxIter=10)\n",
    "# Train model with Training Data\n",
    "lrModel = lr.fit(trainingData)"
   ]
  },
  {
   "cell_type": "code",
   "execution_count": 25,
   "metadata": {},
   "outputs": [],
   "source": [
    "# Make predictions on test data using the transform() method. - LogisticRegression.transform() will only use the 'features' column.\n",
    "predictions = lrModel.transform(testData)\n",
    "# You can select any columns granted they're in the schema\n",
    "selected = predictions.select(\"label\", \"prediction\", \"probability\")"
   ]
  },
  {
   "cell_type": "code",
   "execution_count": 26,
   "metadata": {},
   "outputs": [
    {
     "data": {
      "text/plain": [
       "0.4781020603240861"
      ]
     },
     "execution_count": 26,
     "metadata": {},
     "output_type": "execute_result"
    }
   ],
   "source": [
    "#evaluation of logit fit after dropping intFeature 11 with logLoss\n",
    "from pyspark.sql.functions import udf\n",
    "from pyspark.sql.types import FloatType\n",
    "from pyspark.sql import functions as f\n",
    "#need a user defined function to manipulate columns of array types\n",
    "firstelement=udf(lambda v:float(v[1]),FloatType())\n",
    "\n",
    "#pyspark implementation for logLoss\n",
    "pyspark_mod = selected.withColumn(\n",
    "        'logloss'\n",
    "        , -f.col('label')*f.log(firstelement(f.col('probability'))) - (1.-f.col('label'))*f.log(1.-firstelement(f.col('probability')))\n",
    "    )\n",
    "\n",
    "\n",
    "pyspark_mod.agg(f.mean('logloss').alias('ll')).collect()[0]['ll']"
   ]
  },
  {
   "cell_type": "code",
   "execution_count": 27,
   "metadata": {},
   "outputs": [],
   "source": [
    "##---------------__###"
   ]
  },
  {
   "cell_type": "code",
   "execution_count": 55,
   "metadata": {},
   "outputs": [
    {
     "name": "stdout",
     "output_type": "stream",
     "text": [
      "Bucketizer output with 4 buckets\n",
      "+--------+----------------+\n",
      "|features|bucketedFeatures|\n",
      "+--------+----------------+\n",
      "|  -999.9|             0.0|\n",
      "|    -0.5|             1.0|\n",
      "|    -0.3|             1.0|\n",
      "|     0.0|             2.0|\n",
      "|     0.2|             2.0|\n",
      "|   999.9|             3.0|\n",
      "+--------+----------------+\n",
      "\n"
     ]
    }
   ],
   "source": [
    "# from pyspark.ml.feature import Bucketizer\n",
    "\n",
    "# splits = [-float(\"inf\"), -0.5, 0.0, 0.5, float(\"inf\")]\n",
    "\n",
    "# data = [(-999.9,), (-0.5,), (-0.3,), (0.0,), (0.2,), (999.9,)]\n",
    "# dataFrame = spark.createDataFrame(data, [\"features\"])\n",
    "\n",
    "# bucketizer = Bucketizer(splits=splits, inputCol=\"features\", outputCol=\"bucketedFeatures\")\n",
    "\n",
    "# # Transform original data into its bucket index.\n",
    "# bucketedData = bucketizer.transform(dataFrame)\n",
    "\n",
    "# print(\"Bucketizer output with %d buckets\" % (len(bucketizer.getSplits())-1))\n",
    "# bucketedData.show()\n"
   ]
  },
  {
   "cell_type": "code",
   "execution_count": null,
   "metadata": {},
   "outputs": [],
   "source": [
    "#---for pyspark---#\n",
    "# from pyspark.ml.feature import Bucketizer\n",
    "# bucketizer = Bucketizer(splits=[ 0, 6, 18, 60, float('Inf') ],inputCol=\"ages\", outputCol=\"buckets\")\n",
    "# df_buck = bucketizer.setHandleInvalid(\"keep\").transform(df)\n",
    "\n",
    "# df_buck.show()"
   ]
  },
  {
   "cell_type": "code",
   "execution_count": 63,
   "metadata": {},
   "outputs": [
    {
     "data": {
      "text/plain": [
       "<matplotlib.axes._subplots.AxesSubplot at 0x7f99d213bf98>"
      ]
     },
     "execution_count": 63,
     "metadata": {},
     "output_type": "execute_result"
    },
    {
     "data": {
      "image/png": "[encoded data removed]",
      "text/plain": [
       "<Figure size 432x288 with 1 Axes>"
      ]
     },
     "metadata": {
      "needs_background": "light"
     },
     "output_type": "display_data"
    }
   ],
   "source": [
    "def log_transform(x):\n",
    "    '''shifts x by un'''\n",
    "    return np.log(x+1)\n",
    "x = pd.value_counts(pd.cut(f9,15))\n",
    "\n",
    "# ax = x.plot.bar(rot=0, color=\"b\", figsize=(6,4))\n",
    "# ax.set_xticklabels([c[1:-1].replace(\",\",\" to\") for c in x.cat.categories])\n",
    "# plt.show()\n",
    "f9.apply(lambda x: np.log(x+1)).hist()"
   ]
  },
  {
   "cell_type": "raw",
   "metadata": {},
   "source": [
    "--------------------------------------"
   ]
  },
  {
   "cell_type": "code",
   "execution_count": 26,
   "metadata": {},
   "outputs": [],
   "source": [
    "# load the raw training data into an RDD then split into a training and validation dataset\n",
    "trainDataRDD = sc.textFile('data/train.txt')\n",
    "trainRDD, validationRDD = trainDataRDD.randomSplit([0.8,0.2], seed = 1)"
   ]
  },
  {
   "cell_type": "code",
   "execution_count": 27,
   "metadata": {},
   "outputs": [],
   "source": [
    "#will need to sample the data for EDA since we have such a large dataset (starting with 450K observations ~1% of all observations)\n",
    "trainSample = trainRDD.map(lambda x: x.split('\\t')) \\\n",
    "                .takeSample(False, 100000)"
   ]
  },
  {
   "cell_type": "code",
   "execution_count": 54,
   "metadata": {},
   "outputs": [],
   "source": [
    "#transform ndarray to dataframe, add headers, and save to csv for later use\n",
    "cols = ['outcome']+[\"var\"+str(i+1) for i in np.arange(39)]\n",
    "df = pd.DataFrame(trainSample,columns = cols)\n",
    "df.to_csv(PWD + '/data/trainSample.csv', index = False)"
   ]
  },
  {
   "cell_type": "code",
   "execution_count": 60,
   "metadata": {},
   "outputs": [],
   "source": [
    "#read in the csv data - this automatically converts datatypes to floats and ints\n",
    "df = pd.read_csv('data/trainSample.csv')"
   ]
  },
  {
   "cell_type": "code",
   "execution_count": null,
   "metadata": {},
   "outputs": [],
   "source": []
  },
  {
   "cell_type": "code",
   "execution_count": 56,
   "metadata": {},
   "outputs": [],
   "source": [
    "#summary of our quantitative variables\n",
    "#summary = df.describe()\n"
   ]
  },
  {
   "cell_type": "markdown",
   "metadata": {},
   "source": [
    ">_ An initial look at the spread of each our our quantitative variables from our sample suggests we'll need to normalize these variables. We can also see that several quantitative variables have relatively few observations so sparsity will be a concern."
   ]
  },
  {
   "cell_type": "markdown",
   "metadata": {},
   "source": [
    ">_ we can see from our categorical variables that there are many levels within each category. For instance var16, var25, var34 all have over 40,000 levels. If we were to make indicator variables out of these, in the context of a logistic/binary regression, then we'll have a very high dimensional dataset."
   ]
  },
  {
   "cell_type": "markdown",
   "metadata": {},
   "source": [
    "### Initial Thoughts on Concepts\n",
    "\n",
    "* a lot of work during the preprocess phase\n",
    "* normalization\n",
    "* sparsity\n",
    "* regularization for feature selection in high dimensionality \n",
    "* binary logistic regression, its assumptions and the bias variance tradeoff\n",
    "* scalability"
   ]
  },
  {
   "cell_type": "code",
   "execution_count": 21,
   "metadata": {},
   "outputs": [],
   "source": [
    "#helper functions\n",
    "#-columns are tab-separated\n",
    "\n",
    "#note: to convert RDD to DataFrame in Pyspark, each record (line) needs to be converted to a row object\n",
    "#a quick way to do this is to convert the record to a tuple\n",
    "\n",
    "def Row_formatter(line):\n",
    "    record = line.split('\\t')\n",
    "    return tuple(record)\n"
   ]
  },
  {
   "cell_type": "code",
   "execution_count": 40,
   "metadata": {},
   "outputs": [
    {
     "name": "stdout",
     "output_type": "stream",
     "text": [
      "+---+---+---+---+---+----+---+---+---+---+---+---+---+---+--------+--------+--------+--------+--------+--------+--------+--------+--------+--------+--------+--------+--------+--------+--------+--------+--------+--------+--------+--------+--------+---+--------+--------+--------+--------+\n",
      "| _1| _2| _3| _4| _5|  _6| _7| _8| _9|_10|_11|_12|_13|_14|     _15|     _16|     _17|     _18|     _19|     _20|     _21|     _22|     _23|     _24|     _25|     _26|     _27|     _28|     _29|     _30|     _31|     _32|     _33|     _34|     _35|_36|     _37|     _38|     _39|     _40|\n",
      "+---+---+---+---+---+----+---+---+---+---+---+---+---+---+--------+--------+--------+--------+--------+--------+--------+--------+--------+--------+--------+--------+--------+--------+--------+--------+--------+--------+--------+--------+--------+---+--------+--------+--------+--------+\n",
      "|  0|  1|  1|  5|  0|1382|  4| 15|  2|181|  1|  2|   |  2|68fd1e64|80e26c9b|fb936136|7b4723c4|25c83c98|7e0ccccf|de7995b8|1f89b562|a73ee510|a8cd5504|b2cb9c98|37c9c164|2824a5f6|1adce6ef|8ba8b39a|891b62e7|e5ba7672|f54016b9|21ddcdc9|b1252a9d|07b5194c|   |3a171ecb|c5c50484|e8b83407|9727dd16|\n",
      "+---+---+---+---+---+----+---+---+---+---+---+---+---+---+--------+--------+--------+--------+--------+--------+--------+--------+--------+--------+--------+--------+--------+--------+--------+--------+--------+--------+--------+--------+--------+---+--------+--------+--------+--------+\n",
      "only showing top 1 row\n",
      "\n"
     ]
    }
   ],
   "source": [
    "df = trainDataRDD.map(Row_formatter).toDF()\n",
    "df.show(1)"
   ]
  },
  {
   "cell_type": "code",
   "execution_count": null,
   "metadata": {},
   "outputs": [],
   "source": [
    "col_names = df.columns\n",
    "\n",
    "df.select('_15').show(5)"
   ]
  },
  {
   "cell_type": "code",
   "execution_count": 39,
   "metadata": {},
   "outputs": [
    {
     "data": {
      "text/plain": [
       "45840617"
      ]
     },
     "execution_count": 39,
     "metadata": {},
     "output_type": "execute_result"
    }
   ],
   "source": [
    "df.count()"
   ]
  },
  {
   "cell_type": "code",
   "execution_count": 32,
   "metadata": {},
   "outputs": [
    {
     "data": {
      "text/plain": [
       "45840617"
      ]
     },
     "execution_count": 32,
     "metadata": {},
     "output_type": "execute_result"
    }
   ],
   "source": [
    "#number of records in the train data\n",
    "trainDataRDD.map(formatter).count()"
   ]
  },
  {
   "cell_type": "code",
   "execution_count": null,
   "metadata": {},
   "outputs": [],
   "source": [
    "records = trainDataRDD.map(formatter)\n",
    "\n",
    "trainDF = spark.createDataFrame(trainData)"
   ]
  },
  {
   "cell_type": "markdown",
   "metadata": {},
   "source": [
    "total of 45,840,617  observations in the train data"
   ]
  },
  {
   "cell_type": "markdown",
   "metadata": {},
   "source": [
    "### PySpark Code to processing and model data"
   ]
  },
  {
   "cell_type": "code",
   "execution_count": 7,
   "metadata": {},
   "outputs": [],
   "source": [
    "# 13 features taking integer values and 26 taking categorical values (we can't assume ordinal) - making total of 39 features + 1 outcome\n",
    "outcomeField = [StructField(\"label\", IntegerType(), True)]\n",
    "quantFields = [StructField(\"intFeature\"+str(i+1), IntegerType(), True) for i in np.arange(13)]\n",
    "qualFields = [StructField(\"catFeature\"+str(i+1), StringType(), True) for i in np.arange(26)]\n",
    "schema = StructType(outcomeField + quantFields + qualFields)\n",
    "\n",
    "df = spark.read \\\n",
    "    .schema(schema) \\\n",
    "    .format(\"csv\") \\\n",
    "    .option(\"header\", \"true\") \\\n",
    "    .load(\"eda/trainSample/*.csv\")"
   ]
  },
  {
   "cell_type": "code",
   "execution_count": 8,
   "metadata": {},
   "outputs": [],
   "source": [
    "#clean up: drop duplicate rows; rows missing at least 30 out of 39 values (>= 3/4 of row-wise data); columns missing >= 3/4 of data \n",
    "drop_cols = ['intFeature12','catFeature22']\n",
    "df = df.dropDuplicates() \\\n",
    "    .dropna(thresh=30) \\\n",
    "    .drop(*drop_cols)"
   ]
  },
  {
   "cell_type": "code",
   "execution_count": 9,
   "metadata": {},
   "outputs": [],
   "source": [
    "#-----------imputing missing values---------------#\n",
    "#bucket missing values in categorical data into its own sub-category for all releveant columns\n",
    "categoryCols = [col for col in  df.columns if 'cat' in col]\n",
    "df = df.fillna(\"NA_Bucket\", subset=categoryCols)"
   ]
  },
  {
   "cell_type": "code",
   "execution_count": 10,
   "metadata": {},
   "outputs": [],
   "source": [
    "#assuming negative values in intFeatures were incorrectly coded and should be null\n",
    "neg_overide = f.udf(lambda val: None if val < 0 else val, IntegerType())\n",
    "df = df.withColumn('intFeature2', neg_overide(df.intFeature2))"
   ]
  },
  {
   "cell_type": "markdown",
   "metadata": {},
   "source": [
    "##### --- Imputing Missing Values with Pyspark -----"
   ]
  },
  {
   "cell_type": "code",
   "execution_count": 11,
   "metadata": {},
   "outputs": [],
   "source": [
    "#update categorical column values conditioned on the number of observations for each value\n",
    "\n",
    "for c in categoryCols:\n",
    "    \n",
    "    #collect unique values with greater than 30 observations\n",
    "    bucket = set(df.groupBy(c) \\\n",
    "    .count() \\\n",
    "    .filter(f.col('count') > 30) \\\n",
    "    .select(f.col(c)) \\\n",
    "    .rdd \\\n",
    "    .flatMap(lambda x: x) \\\n",
    "    .collect())\n",
    "    \n",
    "    #update dataframe with rare values (fewer than 30) as their own bucketed value\n",
    "    df = df.withColumn(c, \n",
    "                   f.when(f.col(c).isin(bucket)\n",
    "                        , f.col(c)).otherwise(\"Rare_Bucket\"))"
   ]
  },
  {
   "cell_type": "code",
   "execution_count": 12,
   "metadata": {},
   "outputs": [],
   "source": [
    "#update integer columns missing values with the column mean\n",
    "\n",
    "integerCols = [col for col in  df.columns if 'int' in col]\n",
    "mean_dict = {}\n",
    "for c in integerCols:\n",
    "    #compute mean for each column\n",
    "    col_mean = df.select(f.mean(f.col(c)).alias('mean')).collect()[0]['mean']\n",
    "    mean_dict[c] = col_mean\n",
    "\n",
    "#update null values in int columns:\n",
    "df = df.na.fill(mean_dict)"
   ]
  },
  {
   "cell_type": "code",
   "execution_count": 13,
   "metadata": {},
   "outputs": [],
   "source": [
    "#log transform int variables\n",
    "for c in integerCols:\n",
    "    df = df.withColumn(c, \n",
    "                   f.log(f.col(c)+1))"
   ]
  },
  {
   "cell_type": "code",
   "execution_count": 15,
   "metadata": {},
   "outputs": [],
   "source": [
    "# normalize\n",
    "for c in integerCols:\n",
    "    #compute mean for each column\n",
    "    col_mean = df.select(f.mean(f.col(c)).alias('mean')).collect()[0]['mean']\n",
    "    col_std = df.select(f.stddev(f.col(c)).alias('std')).collect()[0]['std']\n",
    "    #update dataframe\n",
    "    df = df.withColumn(c,(f.col(c) - col_mean)/col_std)"
   ]
  },
  {
   "cell_type": "code",
   "execution_count": 42,
   "metadata": {},
   "outputs": [],
   "source": [
    "# write df to file for later use\n",
    "df.write \\\n",
    "    .option(\"header\", \"true\") \\\n",
    "    .csv(\"data/processed\")"
   ]
  },
  {
   "cell_type": "code",
   "execution_count": 7,
   "metadata": {},
   "outputs": [],
   "source": [
    "#setting schema and reading in pre-processed data to pyspark dataframe\n",
    "\n",
    "integerCols = ['intFeature1', 'intFeature2', 'intFeature3', 'intFeature4',\n",
    "       'intFeature5', 'intFeature6', 'intFeature7', 'intFeature8',\n",
    "       'intFeature9', 'intFeature10', 'intFeature11', 'intFeature13']\n",
    "       \n",
    "categoryCols = ['catFeature1', 'catFeature2','catFeature3',\n",
    "       'catFeature4', 'catFeature5', 'catFeature6',\n",
    "       'catFeature7', 'catFeature8', 'catFeature9',\n",
    "       'catFeature10', 'catFeature11', 'catFeature12',\n",
    "       'catFeature13', 'catFeature14', 'catFeature15',\n",
    "       'catFeature16', 'catFeature17', 'catFeature18',\n",
    "       'catFeature19', 'catFeature20', 'catFeature21',\n",
    "       'catFeature23', 'catFeature24', 'catFeature25',\n",
    "       'catFeature26']\n",
    "\n",
    "outcomeField = [StructField(\"click\", IntegerType(), True)]\n",
    "quantFields = [StructField(f, DoubleType(), True) for f in integerCols]\n",
    "qualFields = [StructField(f, StringType(), True) for f in categoryCols]\n",
    "schema = StructType(outcomeField + quantFields + qualFields)\n",
    "\n",
    "\n",
    "df = spark.read \\\n",
    "    .schema(schema) \\\n",
    "    .format(\"csv\") \\\n",
    "    .option(\"header\", \"true\") \\\n",
    "    .load(\"data/processed/*.csv\")"
   ]
  },
  {
   "cell_type": "code",
   "execution_count": 8,
   "metadata": {},
   "outputs": [],
   "source": [
    "target = ['click']\n",
    "indexers = [StringIndexer(inputCol=c, outputCol=\"{0}_indexed\".format(c), handleInvalid=\"skip\") for c in categoryCols]\n",
    "label = StringIndexer(inputCol= target[0], outputCol=\"label\", handleInvalid=\"skip\")"
   ]
  },
  {
   "cell_type": "code",
   "execution_count": 9,
   "metadata": {},
   "outputs": [],
   "source": [
    "#formatting for logistic regression\n",
    "encoder = OneHotEncoderEstimator(\n",
    "    inputCols=[indexer.getOutputCol() for indexer in indexers],\n",
    "    outputCols=[\"{0}_encoded\".format(indexer.getOutputCol()) for indexer in indexers],\n",
    "    dropLast=False)\n",
    "\n",
    "assembler = VectorAssembler(\n",
    "    inputCols= encoder.getOutputCols() + integerCols,\n",
    "    outputCol= \"features\")\n",
    "\n",
    "pipeline = Pipeline(stages = indexers + [encoder,assembler,label])\n",
    "\n",
    "processedDF = pipeline.fit(df).transform(df)"
   ]
  },
  {
   "cell_type": "code",
   "execution_count": 55,
   "metadata": {},
   "outputs": [],
   "source": [
    "# Keep relevant columns and split for train/test\n",
    "selectedcols = [\"label\", \"features\"]\n",
    "dataset = processedDF.select(selectedcols)\n",
    "### Randomly split data into training and test sets. set seed for reproducibility\n",
    "(trainingData, testData) = dataset.randomSplit([0.7, 0.3], seed=100)"
   ]
  },
  {
   "cell_type": "code",
   "execution_count": 56,
   "metadata": {},
   "outputs": [],
   "source": [
    "# Create initial LogisticRegression model\n",
    "from pyspark.ml.classification import LogisticRegression\n",
    "lr = LogisticRegression(labelCol=\"label\", featuresCol=\"features\", maxIter=10)\n",
    "# Train model with Training Data\n",
    "lrModel = lr.fit(trainingData)"
   ]
  },
  {
   "cell_type": "code",
   "execution_count": 57,
   "metadata": {},
   "outputs": [],
   "source": [
    "# Make predictions on test data using the transform() method. - LogisticRegression.transform() will only use the 'features' column.\n",
    "predictions = lrModel.transform(testData)\n",
    "# You can select any columns granted they're in the schema\n",
    "selected = predictions.select(\"label\", \"prediction\", \"probability\")"
   ]
  },
  {
   "cell_type": "code",
   "execution_count": 58,
   "metadata": {},
   "outputs": [
    {
     "data": {
      "text/plain": [
       "0.4756830294388297"
      ]
     },
     "execution_count": 58,
     "metadata": {},
     "output_type": "execute_result"
    }
   ],
   "source": [
    "#evaluation of logit fit after dropping intFeature 11 with logLoss\n",
    "from pyspark.sql.functions import udf\n",
    "from pyspark.sql.types import FloatType\n",
    "from pyspark.sql import functions as f\n",
    "#need a user defined function to manipulate columns of array types\n",
    "firstelement=udf(lambda v:float(v[1]),FloatType())\n",
    "\n",
    "#pyspark implementation for logLoss\n",
    "pyspark_mod = selected.withColumn(\n",
    "        'logloss'\n",
    "        , -f.col('label')*f.log(firstelement(f.col('probability'))) - (1.-f.col('label'))*f.log(1.-firstelement(f.col('probability')))\n",
    "    )\n",
    "\n",
    "\n",
    "pyspark_mod.agg(f.mean('logloss').alias('ll')).collect()[0]['ll']"
   ]
  },
  {
   "cell_type": "markdown",
   "metadata": {},
   "source": [
    "### -----End of Pyspark Code for PreProcessing and Model fitting"
   ]
  },
  {
   "cell_type": "markdown",
   "metadata": {},
   "source": [
    "Run these cells to create the example corpus and model."
   ]
  }
 ],
 "metadata": {
  "kernelspec": {
   "display_name": "Python 3",
   "language": "python",
   "name": "python3"
  },
  "language_info": {
   "codemirror_mode": {
    "name": "ipython",
    "version": 3
   },
   "file_extension": ".py",
   "mimetype": "text/x-python",
   "name": "python",
   "nbconvert_exporter": "python",
   "pygments_lexer": "ipython3",
   "version": "3.6.6"
  }
 },
 "nbformat": 4,
 "nbformat_minor": 2
}
