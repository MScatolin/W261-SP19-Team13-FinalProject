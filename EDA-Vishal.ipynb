{
 "cells": [
  {
   "cell_type": "markdown",
   "metadata": {},
   "source": [
    "## Exploratory Data Analysis\n",
    "\n",
    "In this section we will run data exploration to provide some guidance on what data transformations are necessary to produce accurate results."
   ]
  },
  {
   "cell_type": "code",
   "execution_count": 82,
   "metadata": {},
   "outputs": [],
   "source": [
    "# imports\n",
    "import re\n",
    "import ast\n",
    "import time\n",
    "import numpy as np\n",
    "import pandas as pd\n",
    "import seaborn as sns\n",
    "import networkx as nx\n",
    "import matplotlib.pyplot as plt"
   ]
  },
  {
   "cell_type": "code",
   "execution_count": 83,
   "metadata": {},
   "outputs": [],
   "source": [
    "%reload_ext autoreload\n",
    "%autoreload 2"
   ]
  },
  {
   "cell_type": "code",
   "execution_count": 3,
   "metadata": {
    "collapsed": true
   },
   "outputs": [],
   "source": [
    "# store path to notebook\n",
    "PWD = !pwd\n",
    "PWD = PWD[0]"
   ]
  },
  {
   "cell_type": "code",
   "execution_count": 17,
   "metadata": {},
   "outputs": [],
   "source": [
    "sc.stop()"
   ]
  },
  {
   "cell_type": "code",
   "execution_count": 18,
   "metadata": {
    "collapsed": true
   },
   "outputs": [],
   "source": [
    "# start Spark Session\n",
    "from pyspark.sql import SparkSession\n",
    "app_name = \"vishal_finalproject\"\n",
    "master = \"local[*]\"\n",
    "spark = SparkSession\\\n",
    "        .builder\\\n",
    "        .appName(app_name)\\\n",
    "        .master(master)\\\n",
    "        .config(\"spark.executor.memory\", \"20g\") \\\n",
    "        .config(\"spark.driver.memory\", \"20g\") \\\n",
    "        .getOrCreate()\n",
    "sc = spark.sparkContext"
   ]
  },
  {
   "cell_type": "markdown",
   "metadata": {},
   "source": [
    "#### Step 1: We will read the data as a Spark Dataframe."
   ]
  },
  {
   "cell_type": "code",
   "execution_count": 19,
   "metadata": {},
   "outputs": [],
   "source": [
    "#pyspark dependencies\n",
    "from pyspark.ml import Pipeline\n",
    "from pyspark.ml.feature import OneHotEncoderEstimator, StringIndexer, VectorAssembler\n",
    "from pyspark.sql import SQLContext, functions\n",
    "from pyspark.sql.types import *"
   ]
  },
  {
   "cell_type": "code",
   "execution_count": 20,
   "metadata": {},
   "outputs": [],
   "source": [
    "# 13 features taking integer values and 26 taking categorical values (we can't assume ordinal) - making total of 39 features + 1 outcome\n",
    "outcomeField = [StructField(\"label\", IntegerType(), True)]\n",
    "quantFields = [StructField(\"intFeature\"+str(i+1), IntegerType(), True) for i in np.arange(13)]\n",
    "qualFields = [StructField(\"catFeature\"+str(i+1), StringType(), True) for i in np.arange(26)]\n",
    "schema = StructType(outcomeField + quantFields + qualFields)"
   ]
  },
  {
   "cell_type": "code",
   "execution_count": 21,
   "metadata": {},
   "outputs": [],
   "source": [
    "#read in the txt file\n",
    "#----per readme: when a value is missing, the field is just empty---#\n",
    "file = \"train.txt\"\n",
    "df_train = spark.read.schema(schema) \\\n",
    "    .option(\"delimiter\", \"\\t\") \\\n",
    "    .option(\"ignoreLeadingWhiteSpace\",True) \\\n",
    "    .option(\"ignoreTrailingWhiteSpace\",True) \\\n",
    "    .csv(file,nullValue = \"\")"
   ]
  },
  {
   "cell_type": "code",
   "execution_count": 22,
   "metadata": {},
   "outputs": [
    {
     "data": {
      "text/plain": [
       "45840617"
      ]
     },
     "execution_count": 22,
     "metadata": {},
     "output_type": "execute_result"
    }
   ],
   "source": [
    "df_train.count()"
   ]
  },
  {
   "cell_type": "markdown",
   "metadata": {},
   "source": [
    "We will run our EDA on 5% sample. Doing a random sample ensures that we get a good representation of the data to draw some intution on."
   ]
  },
  {
   "cell_type": "code",
   "execution_count": 23,
   "metadata": {},
   "outputs": [],
   "source": [
    "df_eda = df_train.sample(False, 0.05)"
   ]
  },
  {
   "cell_type": "code",
   "execution_count": 24,
   "metadata": {},
   "outputs": [
    {
     "data": {
      "text/plain": [
       "2290742"
      ]
     },
     "execution_count": 24,
     "metadata": {},
     "output_type": "execute_result"
    }
   ],
   "source": [
    "df_eda.count()"
   ]
  },
  {
   "cell_type": "code",
   "execution_count": 25,
   "metadata": {},
   "outputs": [
    {
     "name": "stdout",
     "output_type": "stream",
     "text": [
      "root\n",
      " |-- label: integer (nullable = true)\n",
      " |-- intFeature1: integer (nullable = true)\n",
      " |-- intFeature2: integer (nullable = true)\n",
      " |-- intFeature3: integer (nullable = true)\n",
      " |-- intFeature4: integer (nullable = true)\n",
      " |-- intFeature5: integer (nullable = true)\n",
      " |-- intFeature6: integer (nullable = true)\n",
      " |-- intFeature7: integer (nullable = true)\n",
      " |-- intFeature8: integer (nullable = true)\n",
      " |-- intFeature9: integer (nullable = true)\n",
      " |-- intFeature10: integer (nullable = true)\n",
      " |-- intFeature11: integer (nullable = true)\n",
      " |-- intFeature12: integer (nullable = true)\n",
      " |-- intFeature13: integer (nullable = true)\n",
      " |-- catFeature1: string (nullable = true)\n",
      " |-- catFeature2: string (nullable = true)\n",
      " |-- catFeature3: string (nullable = true)\n",
      " |-- catFeature4: string (nullable = true)\n",
      " |-- catFeature5: string (nullable = true)\n",
      " |-- catFeature6: string (nullable = true)\n",
      " |-- catFeature7: string (nullable = true)\n",
      " |-- catFeature8: string (nullable = true)\n",
      " |-- catFeature9: string (nullable = true)\n",
      " |-- catFeature10: string (nullable = true)\n",
      " |-- catFeature11: string (nullable = true)\n",
      " |-- catFeature12: string (nullable = true)\n",
      " |-- catFeature13: string (nullable = true)\n",
      " |-- catFeature14: string (nullable = true)\n",
      " |-- catFeature15: string (nullable = true)\n",
      " |-- catFeature16: string (nullable = true)\n",
      " |-- catFeature17: string (nullable = true)\n",
      " |-- catFeature18: string (nullable = true)\n",
      " |-- catFeature19: string (nullable = true)\n",
      " |-- catFeature20: string (nullable = true)\n",
      " |-- catFeature21: string (nullable = true)\n",
      " |-- catFeature22: string (nullable = true)\n",
      " |-- catFeature23: string (nullable = true)\n",
      " |-- catFeature24: string (nullable = true)\n",
      " |-- catFeature25: string (nullable = true)\n",
      " |-- catFeature26: string (nullable = true)\n",
      "\n"
     ]
    }
   ],
   "source": [
    "df_eda.printSchema()"
   ]
  },
  {
   "cell_type": "markdown",
   "metadata": {},
   "source": [
    "#### Step 2A: Explore the outcome variable"
   ]
  },
  {
   "cell_type": "code",
   "execution_count": 27,
   "metadata": {},
   "outputs": [
    {
     "name": "stdout",
     "output_type": "stream",
     "text": [
      "+-------+-------------------+\n",
      "|summary|              label|\n",
      "+-------+-------------------+\n",
      "|  count|            2290742|\n",
      "|   mean|   0.25640949526398|\n",
      "| stddev|0.43665060315401083|\n",
      "|    min|                  0|\n",
      "|    max|                  1|\n",
      "+-------+-------------------+\n",
      "\n"
     ]
    }
   ],
   "source": [
    "df_eda.describe(\"label\").show()"
   ]
  },
  {
   "cell_type": "markdown",
   "metadata": {},
   "source": [
    "Observations:\n",
    "1. No missing labels\n",
    "2. About 25% of the data has label of 1, rest is 0"
   ]
  },
  {
   "cell_type": "markdown",
   "metadata": {},
   "source": [
    "#### Step2B: Explore the integer variables"
   ]
  },
  {
   "cell_type": "code",
   "execution_count": 32,
   "metadata": {},
   "outputs": [
    {
     "name": "stdout",
     "output_type": "stream",
     "text": [
      "+-------+------------------+------------------+------------------+-----------------+-----------------+\n",
      "|summary|       intFeature1|       intFeature2|       intFeature3|      intFeature4|      intFeature5|\n",
      "+-------+------------------+------------------+------------------+-----------------+-----------------+\n",
      "|  count|           1251973|           2290742|           1798844|          1793714|          2231606|\n",
      "|   mean| 3.500741629412136|105.77646675182102|27.241573477188684|7.325144922769182|18561.75362496785|\n",
      "| stddev|10.763826409685095| 388.8206487522046|417.36443434414315| 8.78218312426576| 69366.5832509991|\n",
      "|    min|                 0|                -2|                 0|                0|                0|\n",
      "|    max|              5775|             22066|             65535|              877|          2693697|\n",
      "+-------+------------------+------------------+------------------+-----------------+-----------------+\n",
      "\n"
     ]
    }
   ],
   "source": [
    "intField = [\"intFeature\"+str(i+1) for i in np.arange(13)]\n",
    "df_eda.describe(intField[0:5]).show()"
   ]
  },
  {
   "cell_type": "code",
   "execution_count": 31,
   "metadata": {},
   "outputs": [
    {
     "name": "stdout",
     "output_type": "stream",
     "text": [
      "+-------+------------------+-----------------+------------------+------------------+------------------+-----------------+------------------+\n",
      "|summary|       intFeature6|      intFeature7|       intFeature8|       intFeature9|      intFeature10|     intFeature11|      intFeature12|\n",
      "+-------+------------------+-----------------+------------------+------------------+------------------+-----------------+------------------+\n",
      "|  count|           1778838|          2191810|           2289628|           2191810|           1251973|          2191810|            538685|\n",
      "|   mean|115.78978580399115|16.32112318129765|12.512350041142055|106.27886313138457| 0.616346358907101|2.732559847797026|0.9793497127263614|\n",
      "| stddev|339.55633109634385|64.94632207402276|16.441711026891348|221.04241607716455|0.6823417352237863|5.197463941079758|  7.40620978735608|\n",
      "|    min|                 0|                0|                 0|                 0|                 0|                0|                 0|\n",
      "|    max|             64798|             9901|              5051|             20065|                 8|              167|              4008|\n",
      "+-------+------------------+-----------------+------------------+------------------+------------------+-----------------+------------------+\n",
      "\n"
     ]
    }
   ],
   "source": [
    "df_eda.describe(intField[5:-1]).show()"
   ]
  },
  {
   "cell_type": "markdown",
   "metadata": {},
   "source": [
    "Observations:\n",
    "1. Fields intFeature12 has a very large number of nulls (~80%). Recommendation - Remove it from the analysis\n",
    "2. The spread in values is very large for almost all the features. We should draw a histogram to understand the distribution of the feature values.\n",
    "3. Feature intFeature4 seems to be very concentrated around the mean. We should draw a histogram to better understand the distribution.\n",
    "4. intFeature2 has a negative value. ToDo: print the number of negative values"
   ]
  },
  {
   "cell_type": "code",
   "execution_count": 34,
   "metadata": {},
   "outputs": [],
   "source": [
    "df_eda_pandas = df_eda.select(intField).toPandas()"
   ]
  },
  {
   "cell_type": "code",
   "execution_count": 35,
   "metadata": {},
   "outputs": [
    {
     "data": {
      "image/png": "[encoded data removed]",
      "text/plain": [
       "<Figure size 1008x1008 with 16 Axes>"
      ]
     },
     "metadata": {},
     "output_type": "display_data"
    }
   ],
   "source": [
    "df_eda_pandas.hist(figsize=(14,14), bins=100)\n",
    "plt.show()"
   ]
  },
  {
   "cell_type": "markdown",
   "metadata": {},
   "source": [
    "Observations:\n",
    "1. Most features are left skewed and we should look into taking log transformations\n",
    "2. The featurs should be normalized so they all appear on the same scale"
   ]
  },
  {
   "cell_type": "code",
   "execution_count": 36,
   "metadata": {},
   "outputs": [
    {
     "data": {
      "image/png": "[encoded data removed]",
      "text/plain": [
       "<Figure size 792x648 with 2 Axes>"
      ]
     },
     "metadata": {},
     "output_type": "display_data"
    }
   ],
   "source": [
    "corr = df_eda_pandas.corr()\n",
    "\n",
    "fig, ax = plt.subplots(figsize=(11, 9))\n",
    "mask = np.zeros_like(corr, dtype=np.bool)\n",
    "mask[np.triu_indices_from(mask)] = True\n",
    "cmap = sns.diverging_palette(240, 10, as_cmap=True)\n",
    "sns.heatmap(corr, mask=mask, cmap=cmap, center=0, linewidths=.5)\n",
    "\n",
    "plt.title(\"Correlations between Integer features.\")\n",
    "plt.show()\n"
   ]
  },
  {
   "cell_type": "markdown",
   "metadata": {},
   "source": [
    "Observations:\n",
    "1. The following features show very strong correlation: intFeature4 - intFeature13, intFeature8 - intFeature13, intFeature11 - intFeature7. Recommendation to drop intFeature13 and 11"
   ]
  },
  {
   "cell_type": "markdown",
   "metadata": {},
   "source": [
    "#### Step2C: Explore the categorical variables"
   ]
  },
  {
   "cell_type": "code",
   "execution_count": 47,
   "metadata": {},
   "outputs": [
    {
     "data": {
      "text/plain": [
       "{'catFeature1': 1415,\n",
       " 'catFeature2': 554,\n",
       " 'catFeature3': 753683,\n",
       " 'catFeature4': 257432,\n",
       " 'catFeature5': 297,\n",
       " 'catFeature6': 16,\n",
       " 'catFeature7': 11727,\n",
       " 'catFeature8': 615,\n",
       " 'catFeature9': 3,\n",
       " 'catFeature10': 42432,\n",
       " 'catFeature11': 5110,\n",
       " 'catFeature12': 662310,\n",
       " 'catFeature13': 3170,\n",
       " 'catFeature14': 26,\n",
       " 'catFeature15': 10981,\n",
       " 'catFeature16': 489887,\n",
       " 'catFeature17': 10,\n",
       " 'catFeature18': 4522,\n",
       " 'catFeature19': 1975,\n",
       " 'catFeature20': 4,\n",
       " 'catFeature21': 589847,\n",
       " 'catFeature22': 16,\n",
       " 'catFeature23': 15,\n",
       " 'catFeature24': 69022,\n",
       " 'catFeature25': 80,\n",
       " 'catFeature26': 47532}"
      ]
     },
     "execution_count": 47,
     "metadata": {},
     "output_type": "execute_result"
    }
   ],
   "source": [
    "#Let's check for unique counts\n",
    "uniqueCounts = {}\n",
    "for field in catField:\n",
    "    uniqueCounts[field] = df_eda.select(field).distinct().count()\n",
    "uniqueCounts"
   ]
  },
  {
   "cell_type": "code",
   "execution_count": 56,
   "metadata": {},
   "outputs": [
    {
     "data": {
      "image/png": "[encoded data removed]",
      "text/plain": [
       "<Figure size 432x288 with 1 Axes>"
      ]
     },
     "metadata": {},
     "output_type": "display_data"
    }
   ],
   "source": [
    "plt.bar(uniqueCounts.keys(), uniqueCounts.values(), color='g')\n",
    "plt.title(\"Unique values in each categorical features\")\n",
    "plt.xticks(rotation=90)\n",
    "plt.show()"
   ]
  },
  {
   "cell_type": "markdown",
   "metadata": {},
   "source": [
    "Observation:\n",
    "Some categorical variables (such as catFeature3) have a large number of unique values. They should be binned using some techniques. \n",
    "<br>(a) They can be binned based on frequency.\n",
    "<br>(b) They can be binned based on average value of the outcome variable.\n",
    "\n",
    "This will be required before we one-hot encode these categorical variables"
   ]
  },
  {
   "cell_type": "code",
   "execution_count": 85,
   "metadata": {},
   "outputs": [],
   "source": [
    "#Let's check for null values\n",
    "def descCatEDA(dataframe, column, totalCount=0, nanThreshold=0.5):\n",
    "    \"\"\"\n",
    "    Function that prints an analysis of column from the given dataframe. Retuns None.\n",
    "    Args:\n",
    "        dataframe    - input dataframe\n",
    "        column       - string with a dataframe column.\n",
    "        totalCount   - optional. Number of rows in the dataframe (if defined avoid recalculation).\n",
    "        nanThreshold - optional. Percentage allowed of NaN values in the column.\n",
    "    Returns:\n",
    "        Column       - name of the column if the column have more NaN if it represents more \n",
    "                       than nanThreshold ratio.\n",
    "    Output:\n",
    "        NaN Count    - number for NaN values in % of the row count of the dataframe.\n",
    "        Most Freq    - number of values for the 5 most frequent values (discarding NaN).\n",
    "        \n",
    "    \"\"\"\n",
    "    if totalCount == 0:\n",
    "        totalCount = dataframe.count()\n",
    "    \n",
    "    pandCol = dataframe.select(column).toPandas()[column]\n",
    "    freqNumbers = dict(pandCol.value_counts(normalize=True).head(5))\n",
    "    \n",
    "    nanCount = dataframe.filter(dataframe[column].isNull()).count()\n",
    "    \n",
    "    validCount = totalCount - nanCount\n",
    "    \n",
    "    print('+'+13*'-'+'+'+22*'-'+'+')\n",
    "    print('|Feature: {:^4}'.format(column)+'|{:>14}{:>6.2f}% |'.format('Null Count: ', nanCount/totalCount*100))\n",
    "    print('+'+13*'-'+'+'+22*'-'+'+')\n",
    "    print('| Unique Values: {:>19} |'.format(pandCol.nunique()))\n",
    "    print('+'+13*'-'+'+'+22*'-'+'+')\n",
    "    for item in freqNumbers:\n",
    "        print('|{:>12} |{:>20.2f}% |'.format(item, freqNumbers[item]*100))\n",
    "    print('+'+13*'-'+'+'+22*'-'+'+\\n')\n",
    "    \n",
    "    if nanCount/totalCount*100 > nanTreshold*100:\n",
    "        return column\n",
    "    else:\n",
    "        return None"
   ]
  },
  {
   "cell_type": "code",
   "execution_count": 86,
   "metadata": {},
   "outputs": [
    {
     "name": "stdout",
     "output_type": "stream",
     "text": [
      "+-------------+----------------------+\n",
      "|Feature: catFeature1|  Null Count:   0.00% |\n",
      "+-------------+----------------------+\n",
      "| Unique Values:                1415 |\n",
      "+-------------+----------------------+\n",
      "|    05db9164 |               50.05% |\n",
      "|    68fd1e64 |               16.66% |\n",
      "|    5a9ed9b0 |                8.36% |\n",
      "|    8cf07265 |                4.97% |\n",
      "|    be589b51 |                3.28% |\n",
      "+-------------+----------------------+\n",
      "\n",
      "+-------------+----------------------+\n",
      "|Feature: catFeature2|  Null Count:   0.00% |\n",
      "+-------------+----------------------+\n",
      "| Unique Values:                 554 |\n",
      "+-------------+----------------------+\n",
      "|    38a947a1 |               11.43% |\n",
      "|    207b2d81 |                4.33% |\n",
      "|    38d50e09 |                3.83% |\n",
      "|    1cfdf714 |                3.63% |\n",
      "|    287130e0 |                3.58% |\n",
      "+-------------+----------------------+\n",
      "\n",
      "+-------------+----------------------+\n",
      "|Feature: catFeature3|  Null Count:   3.40% |\n",
      "+-------------+----------------------+\n",
      "| Unique Values:              753682 |\n",
      "+-------------+----------------------+\n",
      "|    d032c263 |                2.56% |\n",
      "|    02cf9876 |                1.11% |\n",
      "|    aa8c1539 |                1.03% |\n",
      "|    9143c832 |                1.02% |\n",
      "|    77f2f2e5 |                0.90% |\n",
      "+-------------+----------------------+\n",
      "\n",
      "+-------------+----------------------+\n",
      "|Feature: catFeature4|  Null Count:   3.40% |\n",
      "+-------------+----------------------+\n",
      "| Unique Values:              257431 |\n",
      "+-------------+----------------------+\n",
      "|    c18be181 |                3.67% |\n",
      "|    29998ed1 |                2.25% |\n",
      "|    d16679b9 |                2.20% |\n",
      "|    85dd697c |                2.00% |\n",
      "|    13508380 |                1.94% |\n",
      "+-------------+----------------------+\n",
      "\n",
      "+-------------+----------------------+\n",
      "|Feature: catFeature5|  Null Count:   0.00% |\n",
      "+-------------+----------------------+\n",
      "| Unique Values:                 297 |\n",
      "+-------------+----------------------+\n",
      "|    25c83c98 |               67.19% |\n",
      "|    4cf72387 |               15.60% |\n",
      "|    43b19349 |                6.32% |\n",
      "|    384874ce |                3.29% |\n",
      "|    30903e74 |                1.93% |\n",
      "+-------------+----------------------+\n",
      "\n",
      "+-------------+----------------------+\n",
      "|Feature: catFeature6|  Null Count:  12.08% |\n",
      "+-------------+----------------------+\n",
      "| Unique Values:                  15 |\n",
      "+-------------+----------------------+\n",
      "|    7e0ccccf |               45.06% |\n",
      "|    fbad5c96 |               24.78% |\n",
      "|    fe6b92e5 |               21.18% |\n",
      "|    13718bbd |                3.61% |\n",
      "|    6f6d9be8 |                3.26% |\n",
      "+-------------+----------------------+\n",
      "\n",
      "+-------------+----------------------+\n",
      "|Feature: catFeature7|  Null Count:   0.00% |\n",
      "+-------------+----------------------+\n",
      "| Unique Values:               11727 |\n",
      "+-------------+----------------------+\n",
      "|    1c86e0eb |                2.07% |\n",
      "|    dc7659bd |                1.26% |\n",
      "|    7195046d |                0.88% |\n",
      "|    5e64ce5f |                0.77% |\n",
      "|    468a0854 |                0.77% |\n",
      "+-------------+----------------------+\n",
      "\n",
      "+-------------+----------------------+\n",
      "|Feature: catFeature8|  Null Count:   0.00% |\n",
      "+-------------+----------------------+\n",
      "| Unique Values:                 615 |\n",
      "+-------------+----------------------+\n",
      "|    0b153874 |               59.39% |\n",
      "|    5b392875 |               16.68% |\n",
      "|    1f89b562 |                7.49% |\n",
      "|    37e4aa92 |                4.14% |\n",
      "|    062b5529 |                2.60% |\n",
      "+-------------+----------------------+\n",
      "\n",
      "+-------------+----------------------+\n",
      "|Feature: catFeature9|  Null Count:   0.00% |\n",
      "+-------------+----------------------+\n",
      "| Unique Values:                   3 |\n",
      "+-------------+----------------------+\n",
      "|    a73ee510 |               89.86% |\n",
      "|    7cc72ec2 |               10.12% |\n",
      "|    a18233ea |                0.02% |\n",
      "+-------------+----------------------+\n",
      "\n",
      "+-------------+----------------------+\n",
      "|Feature: catFeature10|  Null Count:   0.00% |\n",
      "+-------------+----------------------+\n",
      "| Unique Values:               42432 |\n",
      "+-------------+----------------------+\n",
      "|    3b08e48b |               22.18% |\n",
      "|    efea433b |                1.47% |\n",
      "|    fbbf2c95 |                0.76% |\n",
      "|    fa7d0797 |                0.57% |\n",
      "|    03e48276 |                0.54% |\n",
      "+-------------+----------------------+\n",
      "\n",
      "+-------------+----------------------+\n",
      "|Feature: catFeature11|  Null Count:   0.00% |\n",
      "+-------------+----------------------+\n",
      "| Unique Values:                5110 |\n",
      "+-------------+----------------------+\n",
      "|    755e4a50 |                3.18% |\n",
      "|    e51ddf94 |                2.11% |\n",
      "|    7f8ffe57 |                1.50% |\n",
      "|    4d8549da |                1.29% |\n",
      "|    8b94178b |                1.10% |\n",
      "+-------------+----------------------+\n",
      "\n",
      "+-------------+----------------------+\n",
      "|Feature: catFeature12|  Null Count:   3.40% |\n",
      "+-------------+----------------------+\n",
      "| Unique Values:              662309 |\n",
      "+-------------+----------------------+\n",
      "|    dfbb09fb |                2.56% |\n",
      "|    6aaba33c |                2.25% |\n",
      "|    8fe001f4 |                1.11% |\n",
      "|    d8c29807 |                1.03% |\n",
      "|    ae1bb660 |                1.02% |\n",
      "+-------------+----------------------+\n",
      "\n",
      "+-------------+----------------------+\n",
      "|Feature: catFeature13|  Null Count:   0.00% |\n",
      "+-------------+----------------------+\n",
      "| Unique Values:                3170 |\n",
      "+-------------+----------------------+\n",
      "|    5978055e |                3.18% |\n",
      "|    3516f6e6 |                2.35% |\n",
      "|    46f42a63 |                1.65% |\n",
      "|    025225f2 |                1.43% |\n",
      "|    1aa94af3 |                1.33% |\n",
      "+-------------+----------------------+\n",
      "\n",
      "+-------------+----------------------+\n",
      "|Feature: catFeature14|  Null Count:   0.00% |\n",
      "+-------------+----------------------+\n",
      "| Unique Values:                  26 |\n",
      "+-------------+----------------------+\n",
      "|    b28479f6 |               35.03% |\n",
      "|    07d13a8f |               34.27% |\n",
      "|    1adce6ef |               15.41% |\n",
      "|    64c94865 |                4.44% |\n",
      "|    cfef1c29 |                3.04% |\n",
      "+-------------+----------------------+\n",
      "\n",
      "+-------------+----------------------+\n",
      "|Feature: catFeature15|  Null Count:   0.00% |\n",
      "+-------------+----------------------+\n",
      "| Unique Values:               10981 |\n",
      "+-------------+----------------------+\n",
      "|    2d0bb053 |                1.50% |\n",
      "|    d345b1a0 |                1.05% |\n",
      "|    3628a186 |                0.92% |\n",
      "|    10040656 |                0.89% |\n",
      "|    10935a85 |                0.82% |\n",
      "+-------------+----------------------+\n",
      "\n",
      "+-------------+----------------------+\n",
      "|Feature: catFeature16|  Null Count:   3.40% |\n",
      "+-------------+----------------------+\n",
      "| Unique Values:              489886 |\n",
      "+-------------+----------------------+\n",
      "|    84898b2a |                2.56% |\n",
      "|    b041b04a |                2.25% |\n",
      "|    36103458 |                1.11% |\n",
      "|    c64d548f |                1.03% |\n",
      "|    bad5ee18 |                1.02% |\n",
      "+-------------+----------------------+\n",
      "\n",
      "+-------------+----------------------+\n",
      "|Feature: catFeature17|  Null Count:   0.00% |\n",
      "+-------------+----------------------+\n",
      "| Unique Values:                  10 |\n",
      "+-------------+----------------------+\n",
      "|    e5ba7672 |               46.20% |\n",
      "|    07c540c4 |               13.08% |\n",
      "|    d4bb7bd8 |               11.43% |\n",
      "|    3486227d |                8.36% |\n",
      "|    776ce399 |                5.26% |\n",
      "+-------------+----------------------+\n",
      "\n",
      "+-------------+----------------------+\n",
      "|Feature: catFeature18|  Null Count:   0.00% |\n",
      "+-------------+----------------------+\n",
      "| Unique Values:                4522 |\n",
      "+-------------+----------------------+\n",
      "|    e88ffc9d |                3.17% |\n",
      "|    891589e7 |                2.85% |\n",
      "|    2804effd |                2.62% |\n",
      "|    c21c3e4c |                2.37% |\n",
      "|    5aed7436 |                2.17% |\n",
      "+-------------+----------------------+\n",
      "\n",
      "+-------------+----------------------+\n",
      "|Feature: catFeature19|  Null Count:  43.97% |\n",
      "+-------------+----------------------+\n",
      "| Unique Values:                1974 |\n",
      "+-------------+----------------------+\n",
      "|    21ddcdc9 |               61.58% |\n",
      "|    55dd3565 |                3.47% |\n",
      "|    5b885066 |                1.43% |\n",
      "|    9437f62f |                1.31% |\n",
      "|    712d530c |                1.05% |\n",
      "+-------------+----------------------+\n",
      "\n",
      "+-------------+----------------------+\n",
      "|Feature: catFeature20|  Null Count:  43.97% |\n",
      "+-------------+----------------------+\n",
      "| Unique Values:                   3 |\n",
      "+-------------+----------------------+\n",
      "|    b1252a9d |               33.91% |\n",
      "|    5840adea |               33.24% |\n",
      "|    a458ea53 |               32.85% |\n",
      "+-------------+----------------------+\n",
      "\n",
      "+-------------+----------------------+\n",
      "|Feature: catFeature21|  Null Count:   3.40% |\n",
      "+-------------+----------------------+\n",
      "| Unique Values:              589846 |\n",
      "+-------------+----------------------+\n",
      "|    0014c32a |                2.56% |\n",
      "|    723b4dfd |                2.25% |\n",
      "|    e587c466 |                1.11% |\n",
      "|    5f957280 |                1.03% |\n",
      "|    0429f84b |                1.02% |\n",
      "+-------------+----------------------+\n",
      "\n",
      "+-------------+----------------------+\n",
      "|Feature: catFeature22|  Null Count:  76.21% |\n",
      "+-------------+----------------------+\n",
      "| Unique Values:                  15 |\n",
      "+-------------+----------------------+\n",
      "|    ad3062eb |               57.40% |\n",
      "|    c9d4222a |               35.35% |\n",
      "|    78e2e389 |                3.11% |\n",
      "|    8ec974f4 |                2.25% |\n",
      "|    c0061c6d |                1.64% |\n",
      "+-------------+----------------------+\n",
      "\n",
      "+-------------+----------------------+\n",
      "|Feature: catFeature23|  Null Count:   0.00% |\n",
      "+-------------+----------------------+\n",
      "| Unique Values:                  15 |\n",
      "+-------------+----------------------+\n",
      "|    32c7478e |               44.00% |\n",
      "|    3a171ecb |               20.06% |\n",
      "|    423fab69 |               12.08% |\n",
      "|    bcdee96c |                6.93% |\n",
      "|    be7c41b4 |                5.63% |\n",
      "+-------------+----------------------+\n",
      "\n",
      "+-------------+----------------------+\n",
      "|Feature: catFeature24|  Null Count:   3.40% |\n",
      "+-------------+----------------------+\n",
      "| Unique Values:               69021 |\n",
      "+-------------+----------------------+\n",
      "|    3fdb382b |                5.42% |\n",
      "|    b34f3128 |                4.89% |\n",
      "|    3b183c5c |                4.72% |\n",
      "|    1793a828 |                4.47% |\n",
      "|    45ab94c8 |                2.29% |\n",
      "+-------------+----------------------+\n",
      "\n",
      "+-------------+----------------------+\n",
      "|Feature: catFeature25|  Null Count:  43.97% |\n",
      "+-------------+----------------------+\n",
      "| Unique Values:                  79 |\n",
      "+-------------+----------------------+\n",
      "|    001f3601 |               25.56% |\n",
      "|    e8b83407 |               19.37% |\n",
      "|    ea9a246c |               14.25% |\n",
      "|    cb079c2d |                7.08% |\n",
      "|    445bbe3b |                5.60% |\n",
      "+-------------+----------------------+\n",
      "\n",
      "+-------------+----------------------+\n",
      "|Feature: catFeature26|  Null Count:  43.97% |\n",
      "+-------------+----------------------+\n",
      "| Unique Values:               47531 |\n",
      "+-------------+----------------------+\n",
      "|    49d68486 |                7.35% |\n",
      "|    c84c4aec |                3.35% |\n",
      "|    2fede552 |                2.83% |\n",
      "|    c27f155b |                2.65% |\n",
      "|    aa5f0a15 |                2.48% |\n",
      "+-------------+----------------------+\n",
      "\n",
      "List of feature with more than 50.00% NaN ratio: ['catFeature22']\n"
     ]
    }
   ],
   "source": [
    "badFeatures = []\n",
    "totalCount = 2290742\n",
    "nanTreshold = 0.5\n",
    "\n",
    "for item in catField:\n",
    "    badFeatures.append(descCatEDA(df_eda, item, totalCount, nanTreshold))\n",
    "\n",
    "badFeatures = list(filter(None,badFeatures))\n",
    "print('List of feature with more than {:4.2f}% NaN ratio: {}'.format(nanTreshold*100, badFeatures))"
   ]
  }
 ],
 "metadata": {
  "kernelspec": {
   "display_name": "Python 3",
   "language": "python",
   "name": "python3"
  },
  "language_info": {
   "codemirror_mode": {
    "name": "ipython",
    "version": 3
   },
   "file_extension": ".py",
   "mimetype": "text/x-python",
   "name": "python",
   "nbconvert_exporter": "python",
   "pygments_lexer": "ipython3",
   "version": "3.6.6"
  }
 },
 "nbformat": 4,
 "nbformat_minor": 2
}
